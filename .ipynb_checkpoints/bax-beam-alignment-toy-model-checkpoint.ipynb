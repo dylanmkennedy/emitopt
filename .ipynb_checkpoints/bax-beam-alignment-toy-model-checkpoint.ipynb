{
 "cells": [
  {
   "cell_type": "markdown",
   "id": "90ac8fe9",
   "metadata": {},
   "source": [
    "# Centroid alignment using Xopt/BAX"
   ]
  },
  {
   "cell_type": "markdown",
   "id": "7a2666c7",
   "metadata": {},
   "source": [
    "# Imports"
   ]
  },
  {
   "cell_type": "code",
   "execution_count": 1,
   "id": "0b2005f9",
   "metadata": {},
   "outputs": [],
   "source": [
    "# Ignore all warnings\n",
    "import warnings\n",
    "warnings.filterwarnings(\"ignore\")\n",
    "\n",
    "import sys\n",
    "sys.path.append('C:\\\\Users\\\\Dylan\\\\SLAC') #parent directory containing emitopt module\n",
    "\n",
    "import matplotlib.pyplot as plt\n",
    "import os    \n",
    "os.environ['KMP_DUPLICATE_LIB_OK'] = 'True'\n",
    "\n",
    "import pandas as pd\n",
    "import torch\n",
    "\n",
    "from xopt import Xopt\n",
    "from xopt.vocs import VOCS\n",
    "from xopt.generators.bayesian.bax_generator import BaxGenerator\n",
    "from xopt.generators.bayesian.expected_improvement import ExpectedImprovementGenerator\n",
    "\n",
    "from xopt.evaluator import Evaluator\n",
    "\n",
    "import time\n",
    "import numpy as np\n",
    "import random"
   ]
  },
  {
   "cell_type": "code",
   "execution_count": null,
   "id": "0fd44728",
   "metadata": {},
   "outputs": [],
   "source": []
  },
  {
   "cell_type": "markdown",
   "id": "d56d378d",
   "metadata": {},
   "source": [
    "# Use CUDA if available"
   ]
  },
  {
   "cell_type": "code",
   "execution_count": 2,
   "id": "ce9d65ee",
   "metadata": {},
   "outputs": [],
   "source": [
    "# if torch.cuda.is_available():\n",
    "if False:\n",
    "    torch.set_default_tensor_type('torch.cuda.DoubleTensor')\n",
    "    use_cuda = True\n",
    "else:\n",
    "    torch.set_default_tensor_type('torch.DoubleTensor')\n",
    "    use_cuda = False"
   ]
  },
  {
   "cell_type": "code",
   "execution_count": 3,
   "id": "956d2379",
   "metadata": {},
   "outputs": [
    {
     "data": {
      "text/plain": [
       "torch.float64"
      ]
     },
     "execution_count": 3,
     "metadata": {},
     "output_type": "execute_result"
    }
   ],
   "source": [
    "torch.get_default_dtype()"
   ]
  },
  {
   "cell_type": "markdown",
   "id": "0c1f6014",
   "metadata": {},
   "source": [
    "# Notebook settings"
   ]
  },
  {
   "cell_type": "code",
   "execution_count": 4,
   "id": "e9323010",
   "metadata": {},
   "outputs": [],
   "source": [
    "noise = False #whether to add noise to the ground-truth beam size function outputs\n",
    "n_obs_init = 3 #number of random initial observations for GP model\n",
    "n_samples = 20 #number of posterior samples for BAX\n",
    "n_iter = 1 #number of optimization steps for Xopt to take (after acquiring random initial data)\n",
    "rand_seed = 0\n",
    "\n",
    "#random seeds for reproducibility \n",
    "torch.manual_seed(rand_seed)\n",
    "np.random.seed(rand_seed) #only affects initial random observations through Xopt\n",
    "random.seed(rand_seed)"
   ]
  },
  {
   "cell_type": "markdown",
   "id": "87785524",
   "metadata": {},
   "source": [
    "# Build test function from single-quadrupole optical beam size model \n",
    "Here we define a simple ground-truth beam size function for our optimization problem, where we attempt to find the location in tuning parameter space with minimal emittance. Note that the function \"test_func\" used to evaluate the ground-truth beam size function takes a dictionary as input and returns a dictionary as the output."
   ]
  },
  {
   "cell_type": "code",
   "execution_count": 5,
   "id": "b73bcfe1",
   "metadata": {
    "scrolled": true
   },
   "outputs": [],
   "source": [
    "# define test functions\n",
    "var_names = ['x0', 'x1']\n",
    "\n",
    "def centroid_position_at_screen(x):\n",
    "    r0 = 0.0\n",
    "    cpas = (r0 + x[:,0]) + (r0 + x[:,0])*x[:,1]\n",
    "    \n",
    "#     return cpas * (1. + .1*torch.randn_like(cpas))\n",
    "    return cpas \n",
    "\n",
    "def test_func(input_dict):\n",
    "    x0 = torch.tensor(input_dict['x0']).reshape(-1,1)\n",
    "    x1 = torch.tensor(input_dict['x1']).reshape(-1,1)\n",
    "    x = torch.cat((x0, x1), dim=1)\n",
    "    return {'y': centroid_position_at_screen(x).squeeze().cpu().numpy()}"
   ]
  },
  {
   "cell_type": "markdown",
   "id": "25d2c09a",
   "metadata": {},
   "source": [
    "# Construct vocs"
   ]
  },
  {
   "cell_type": "code",
   "execution_count": 6,
   "id": "6dfbf20e",
   "metadata": {},
   "outputs": [
    {
     "name": "stdout",
     "output_type": "stream",
     "text": [
      "variable_names = ['x0', 'x1']\n",
      "domain =\n",
      " [[-2.  2.]\n",
      " [-2.  2.]]\n"
     ]
    }
   ],
   "source": [
    "variables = {var_name: [-2,2] for var_name in var_names}\n",
    "\n",
    "#construct vocs\n",
    "vocs = VOCS(\n",
    "    variables = variables,\n",
    "    objectives = {'y':\"MINIMIZE\"}\n",
    ")\n",
    "\n",
    "print('variable_names =', vocs.variable_names)\n",
    "print('domain =\\n', vocs.bounds.T)"
   ]
  },
  {
   "cell_type": "markdown",
   "id": "e4651f47",
   "metadata": {},
   "source": [
    "# Prepare generator options.\n",
    "In this example, we use a specialty covariance module (Matern x Quadratic kernel) for our beam size model."
   ]
  },
  {
   "cell_type": "code",
   "execution_count": 7,
   "id": "02894212",
   "metadata": {},
   "outputs": [],
   "source": [
    "from gpytorch.kernels import MaternKernel, PolynomialKernel, ScaleKernel\n",
    "from xopt.generators.bayesian.options import ModelOptions\n",
    "from xopt.generators.bayesian.expected_improvement import BayesianOptions\n",
    "from gpytorch.priors.torch_priors import GammaPrior\n",
    "from xopt.generators.bayesian.bax_generator import (BaxGenerator, \n",
    "                                                    AlgorithmOptions, \n",
    "                                                    BaxOptions, \n",
    "                                                    BayesianAlgorithmExecutionOptions\n",
    "                                                   )\n",
    "from pydantic import Field, PrivateAttr\n",
    "from emitopt.algorithms import ScipyBeamAlignment\n",
    "\n",
    "# prepare custom covariance module\n",
    "# covar_module = PolynomialKernel(power=1)\n",
    "covar_module = PolynomialKernel(power=1, active_dims=[0]) * PolynomialKernel(power=1, active_dims=[1])\n",
    "scaled_covar_module = ScaleKernel(covar_module)   \n",
    "    \n",
    "# prepare options for Xopt generator\n",
    "model_options = ModelOptions(covar_modules=scaled_covar_module, use_low_noise_prior=True)\n",
    "covar_module_dict = {'y': scaled_covar_module}\n",
    "# covar_module_dict = {}\n",
    "model_options = ModelOptions(covar_modules=covar_module_dict, use_low_noise_prior=True)\n",
    "\n",
    "class BeamAlignmentOptions(AlgorithmOptions):\n",
    "    \"\"\"Options for defining the GridMinimize Algorithm in BAX\"\"\"\n",
    "\n",
    "    _AlgoClass = PrivateAttr(ScipyBeamAlignment) # set the appropriate Algorithm\n",
    "\n",
    "    # add field(s) specific to this algorithm\n",
    "    # exclude the fields: \"domain\" and \"tkwargs\", as they are handled separately\n",
    "    meas_dims: list[int] = Field(\n",
    "        [1], description=\"indeces for the quadrupole measurement dimensions\"\n",
    "    )\n",
    "acq_options = BayesianAlgorithmExecutionOptions()\n",
    "acq_options.algo = BeamAlignmentOptions()\n",
    "generator_options = BaxOptions(model=model_options, acq=acq_options) #we will pass these options to our BAXGenerator"
   ]
  },
  {
   "cell_type": "markdown",
   "id": "bd586df8",
   "metadata": {},
   "source": [
    "# Construct generator, evaluator, Xopt objects"
   ]
  },
  {
   "cell_type": "code",
   "execution_count": 8,
   "id": "7623bc33",
   "metadata": {},
   "outputs": [],
   "source": [
    "#construct BAX generator\n",
    "generator = BaxGenerator(vocs, generator_options)\n",
    "# generator = ExpectedImprovementGenerator(vocs, generator_options)\n",
    "\n",
    "#construct evaluator\n",
    "evaluator = Evaluator(function=test_func)\n",
    "\n",
    "#construct Xopt optimizer\n",
    "optimizer = Xopt(evaluator=evaluator, generator=generator, vocs=vocs)\n",
    "optimizer.generator.options.n_initial = n_obs_init #set number of initial observations\n",
    "optimizer.generator.options.use_cuda = use_cuda #set cuda flag"
   ]
  },
  {
   "cell_type": "code",
   "execution_count": 9,
   "id": "ed80d015",
   "metadata": {},
   "outputs": [],
   "source": [
    "optimizer.step()"
   ]
  },
  {
   "cell_type": "code",
   "execution_count": null,
   "id": "e07ab907",
   "metadata": {},
   "outputs": [],
   "source": []
  },
  {
   "cell_type": "code",
   "execution_count": 10,
   "id": "d5cd2302",
   "metadata": {},
   "outputs": [
    {
     "data": {
      "image/png": "[encoded data removed]",
      "text/plain": [
       "<Figure size 900x500 with 5 Axes>"
      ]
     },
     "metadata": {},
     "output_type": "display_data"
    }
   ],
   "source": [
    "beam_centroid_model = optimizer.generator.train_model().models[0]\n",
    "\n",
    "ls = torch.linspace(-2,2,21)\n",
    "x0, x1 = torch.meshgrid(ls, ls)\n",
    "xmesh_serialized = torch.cat((x0.reshape(-1,1), x1.reshape(-1,1)), dim=1)\n",
    "ymesh_model = beam_centroid_model.posterior(xmesh_serialized).mean.reshape(21,21).detach()\n",
    "ymesh_model_var = beam_centroid_model.posterior(xmesh_serialized).variance.reshape(21,21).detach()\n",
    "ymesh_gt = centroid_position_at_screen(xmesh_serialized).reshape(21,21).detach()\n",
    "\n",
    "fig, axs = plt.subplots(1,3)\n",
    "fig.set_size_inches(9,5)\n",
    "\n",
    "ax = axs[0]\n",
    "c = ax.pcolormesh(x0, x1, ymesh_gt, vmin=-5, vmax=5)\n",
    "fig.colorbar(c)\n",
    "ax.set_xlabel('trim')\n",
    "ax.set_ylabel('quad')\n",
    "ax.set_title('Ground Truth Centroid Position')\n",
    "\n",
    "ax = axs[1]\n",
    "ax.pcolormesh(x0, x1, ymesh_model, vmin=-5, vmax=5)\n",
    "ax.set_xlabel('trim')\n",
    "ax.set_ylabel('quad')\n",
    "ax.set_title('Posterior Mean Centroid Position')\n",
    "ax.scatter(optimizer.data['x0'][:-1], optimizer.data['x1'][:-1], c=optimizer.data['y'][:-1], vmin=-5, vmax=5, edgecolors='w')\n",
    "ax.scatter(optimizer.data['x0'][-1:], optimizer.data['x1'][-1:], c='r', marker='x', s=120)\n",
    "\n",
    "ax = axs[2]\n",
    "c = ax.pcolormesh(x0, x1, ymesh_model_var.sqrt())\n",
    "fig.colorbar(c)\n",
    "\n",
    "# for x_star in X_stars:\n",
    "#     ax.axvline(float(x_star), ymax=0.1, c='r')\n",
    "    \n",
    "ax.scatter(optimizer.data['x0'][:-1], optimizer.data['x1'][:-1], c='m')\n",
    "ax.scatter(optimizer.data['x0'][-1:], optimizer.data['x1'][-1:], c='r', marker='x', s=120)\n",
    "\n",
    "plt.tight_layout()"
   ]
  },
  {
   "cell_type": "code",
   "execution_count": 11,
   "id": "f1006c39",
   "metadata": {},
   "outputs": [
    {
     "data": {
      "text/plain": [
       "{'dtype': torch.float64, 'device': 'cpu'}"
      ]
     },
     "execution_count": 11,
     "metadata": {},
     "output_type": "execute_result"
    }
   ],
   "source": [
    "optimizer.generator._tkwargs"
   ]
  },
  {
   "cell_type": "code",
   "execution_count": 12,
   "id": "12f26d49",
   "metadata": {},
   "outputs": [],
   "source": [
    "for i in range(15):\n",
    "    optimizer.step()\n",
    "#     X_stars = optimizer.generator.algo_results['X_stars']"
   ]
  },
  {
   "cell_type": "code",
   "execution_count": 13,
   "id": "fcf64721",
   "metadata": {},
   "outputs": [
    {
     "data": {
      "image/png": "[encoded data removed]",
      "text/plain": [
       "<Figure size 900x500 with 5 Axes>"
      ]
     },
     "metadata": {},
     "output_type": "display_data"
    }
   ],
   "source": [
    "beam_centroid_model = optimizer.generator.model.models[0]\n",
    "\n",
    "ls = torch.linspace(-2,2,21)\n",
    "x0, x1 = torch.meshgrid(ls, ls)\n",
    "xmesh_serialized = torch.cat((x0.reshape(-1,1), x1.reshape(-1,1)), dim=1)\n",
    "ymesh_model = beam_centroid_model.posterior(xmesh_serialized).mean.reshape(21,21).detach()\n",
    "ymesh_model_var = beam_centroid_model.posterior(xmesh_serialized).variance.reshape(21,21).detach()\n",
    "ymesh_gt = centroid_position_at_screen(xmesh_serialized).reshape(21,21).detach()\n",
    "\n",
    "fig, axs = plt.subplots(1,3)\n",
    "fig.set_size_inches(9,5)\n",
    "\n",
    "ax = axs[0]\n",
    "c = ax.pcolormesh(x0, x1, ymesh_gt, vmin=-5, vmax=5)\n",
    "fig.colorbar(c)\n",
    "ax.set_xlabel('trim')\n",
    "ax.set_ylabel('quad')\n",
    "ax.set_title('Ground Truth Centroid Position')\n",
    "\n",
    "ax = axs[1]\n",
    "ax.pcolormesh(x0, x1, ymesh_model, vmin=-5, vmax=5)\n",
    "ax.set_xlabel('trim')\n",
    "ax.set_ylabel('quad')\n",
    "ax.set_title('Posterior Mean Centroid Position')\n",
    "ax.scatter(optimizer.data['x0'][:-1], optimizer.data['x1'][:-1], c=optimizer.data['y'][:-1], vmin=-5, vmax=5, edgecolors='w')\n",
    "ax.scatter(optimizer.data['x0'][-1:], optimizer.data['x1'][-1:], c='r', marker='x', s=120)\n",
    "\n",
    "ax = axs[2]\n",
    "c = ax.pcolormesh(x0, x1, ymesh_model_var.sqrt())\n",
    "fig.colorbar(c)\n",
    "\n",
    "# for x_star in X_stars:\n",
    "#     ax.axvline(float(x_star), ymax=0.1, c='r')\n",
    "    \n",
    "ax.scatter(optimizer.data['x0'][:-1], optimizer.data['x1'][:-1], c='m')\n",
    "ax.scatter(optimizer.data['x0'][-1:], optimizer.data['x1'][-1:], c='r', marker='x', s=120)\n",
    "\n",
    "plt.tight_layout()"
   ]
  },
  {
   "cell_type": "code",
   "execution_count": 14,
   "id": "d2f4724a",
   "metadata": {},
   "outputs": [
    {
     "data": {
      "text/plain": [
       "array([array(-0.16019953), array(-1.12361627), array(-0.17117236),\n",
       "       array(3.56723239), array(3.96242235), array(2.20247707),\n",
       "       array(0.95184529), array(2.02604694), array(2.8322731),\n",
       "       array(2.14832418), array(1.04116543), array(0.79993184),\n",
       "       array(2.40300901), array(1.52949416), array(0.73044377),\n",
       "       array(3.11973654), array(1.34483443), array(2.1804998)],\n",
       "      dtype=object)"
      ]
     },
     "execution_count": 14,
     "metadata": {},
     "output_type": "execute_result"
    }
   ],
   "source": [
    "optimizer.data['y'].to_numpy()"
   ]
  },
  {
   "cell_type": "code",
   "execution_count": 15,
   "id": "9f6db27c",
   "metadata": {},
   "outputs": [
    {
     "data": {
      "text/plain": [
       "torch.float64"
      ]
     },
     "execution_count": 15,
     "metadata": {},
     "output_type": "execute_result"
    }
   ],
   "source": [
    "beam_centroid_model.train_inputs[0].dtype"
   ]
  },
  {
   "cell_type": "code",
   "execution_count": 16,
   "id": "a3187b27",
   "metadata": {},
   "outputs": [
    {
     "data": {
      "text/plain": [
       "torch.float64"
      ]
     },
     "execution_count": 16,
     "metadata": {},
     "output_type": "execute_result"
    }
   ],
   "source": [
    "beam_centroid_model.train_targets.dtype"
   ]
  },
  {
   "cell_type": "code",
   "execution_count": 17,
   "id": "801315be",
   "metadata": {},
   "outputs": [
    {
     "data": {
      "text/plain": [
       "tensor([0.5653], grad_fn=<AddBackward0>)"
      ]
     },
     "execution_count": 17,
     "metadata": {},
     "output_type": "execute_result"
    }
   ],
   "source": [
    "beam_centroid_model.likelihood.noise"
   ]
  },
  {
   "cell_type": "code",
   "execution_count": 18,
   "id": "7fb50335",
   "metadata": {},
   "outputs": [
    {
     "data": {
      "text/plain": [
       "ExactMarginalLogLikelihood(\n",
       "  (likelihood): GaussianLikelihood(\n",
       "    (noise_covar): HomoskedasticNoise(\n",
       "      (raw_noise_constraint): GreaterThan(1.000E-04)\n",
       "    )\n",
       "  )\n",
       "  (model): SingleTaskGP(\n",
       "    (likelihood): GaussianLikelihood(\n",
       "      (noise_covar): HomoskedasticNoise(\n",
       "        (raw_noise_constraint): GreaterThan(1.000E-04)\n",
       "      )\n",
       "    )\n",
       "    (mean_module): ConstantMean()\n",
       "    (covar_module): ScaleKernel(\n",
       "      (base_kernel): ProductKernel(\n",
       "        (kernels): ModuleList(\n",
       "          (0): PolynomialKernel(\n",
       "            (raw_offset_constraint): Positive()\n",
       "          )\n",
       "          (1): PolynomialKernel(\n",
       "            (raw_offset_constraint): Positive()\n",
       "          )\n",
       "        )\n",
       "      )\n",
       "      (raw_outputscale_constraint): Positive()\n",
       "    )\n",
       "    (outcome_transform): Standardize()\n",
       "    (input_transform): Normalize()\n",
       "  )\n",
       ")"
      ]
     },
     "execution_count": 18,
     "metadata": {},
     "output_type": "execute_result"
    }
   ],
   "source": [
    "from botorch import fit_gpytorch_mll\n",
    "from gpytorch import ExactMarginalLogLikelihood\n",
    "from gpytorch.likelihoods import GaussianLikelihood\n",
    "from botorch.models.transforms import Normalize, Standardize\n",
    "from botorch.models import SingleTaskGP\n",
    "from xopt.generators.bayesian.models.standard import StandardModelConstructor\n",
    "import copy\n",
    "\n",
    "model_constructor = StandardModelConstructor(vocs, model_options)\n",
    "model_constructor.collect_data(optimizer.data)\n",
    "train_X, train_Y = model_constructor._get_training_data(vocs.output_names[0])\n",
    "\n",
    "likelihood = GaussianLikelihood()\n",
    "\n",
    "covar_module1 = PolynomialKernel(power=1, active_dims=[0]) * PolynomialKernel(power=1, active_dims=[1])\n",
    "scaled_covar_module1 = ScaleKernel(covar_module)\n",
    "\n",
    "\n",
    "input_transform = Normalize(vocs.n_variables, bounds=torch.tensor(vocs.bounds))\n",
    "beam_centroid_model = SingleTaskGP(train_X,\n",
    "                    train_Y,\n",
    "                    input_transform=input_transform,\n",
    "                    outcome_transform=Standardize(1),\n",
    "                    covar_module=scaled_covar_module1,\n",
    "                    likelihood=likelihood,\n",
    "                )\n",
    "\n",
    "mll = ExactMarginalLogLikelihood(beam_centroid_model.likelihood, beam_centroid_model)\n",
    "fit_gpytorch_mll(mll)"
   ]
  },
  {
   "cell_type": "code",
   "execution_count": null,
   "id": "05955a76",
   "metadata": {},
   "outputs": [],
   "source": []
  },
  {
   "cell_type": "code",
   "execution_count": 19,
   "id": "144b8310",
   "metadata": {},
   "outputs": [
    {
     "data": {
      "image/png": "[encoded data removed]",
      "text/plain": [
       "<Figure size 900x500 with 5 Axes>"
      ]
     },
     "metadata": {},
     "output_type": "display_data"
    }
   ],
   "source": [
    "ls = torch.linspace(-2,2,21)\n",
    "x0, x1 = torch.meshgrid(ls, ls)\n",
    "xmesh_serialized = torch.cat((x0.reshape(-1,1), x1.reshape(-1,1)), dim=1)\n",
    "ymesh_model = beam_centroid_model.posterior(xmesh_serialized).mean.reshape(21,21).detach()\n",
    "ymesh_model_var = beam_centroid_model.posterior(xmesh_serialized).variance.reshape(21,21).detach()\n",
    "ymesh_gt = centroid_position_at_screen(xmesh_serialized).reshape(21,21).detach()\n",
    "\n",
    "fig, axs = plt.subplots(1,3)\n",
    "fig.set_size_inches(9,5)\n",
    "\n",
    "ax = axs[0]\n",
    "c = ax.pcolormesh(x0, x1, ymesh_gt, vmin=-5, vmax=5)\n",
    "fig.colorbar(c)\n",
    "ax.set_xlabel('trim')\n",
    "ax.set_ylabel('quad')\n",
    "ax.set_title('Ground Truth Centroid Position')\n",
    "\n",
    "ax = axs[1]\n",
    "ax.pcolormesh(x0, x1, ymesh_model, vmin=-5, vmax=5)\n",
    "ax.set_xlabel('trim')\n",
    "ax.set_ylabel('quad')\n",
    "ax.set_title('Posterior Mean Centroid Position')\n",
    "ax.scatter(optimizer.data['x0'][:-1], optimizer.data['x1'][:-1], c=optimizer.data['y'][:-1], vmin=-5, vmax=5, edgecolors='w')\n",
    "ax.scatter(optimizer.data['x0'][-1:], optimizer.data['x1'][-1:], c='r', marker='x', s=120)\n",
    "\n",
    "ax = axs[2]\n",
    "c = ax.pcolormesh(x0, x1, ymesh_model_var.sqrt())\n",
    "fig.colorbar(c)\n",
    "\n",
    "# for x_star in X_stars:\n",
    "#     ax.axvline(float(x_star), ymax=0.1, c='r')\n",
    "    \n",
    "ax.scatter(optimizer.data['x0'][:-1], optimizer.data['x1'][:-1], c='m')\n",
    "ax.scatter(optimizer.data['x0'][-1:], optimizer.data['x1'][-1:], c='r', marker='x', s=120)\n",
    "\n",
    "plt.tight_layout()"
   ]
  },
  {
   "cell_type": "code",
   "execution_count": 20,
   "id": "f2b59a0a",
   "metadata": {},
   "outputs": [
    {
     "data": {
      "text/plain": [
       "{'training': True,\n",
       " '_parameters': OrderedDict([('raw_outputscale',\n",
       "               Parameter containing:\n",
       "               tensor(0., requires_grad=True))]),\n",
       " '_buffers': OrderedDict([('active_dims', None)]),\n",
       " '_non_persistent_buffers_set': set(),\n",
       " '_backward_hooks': OrderedDict(),\n",
       " '_is_full_backward_hook': None,\n",
       " '_forward_hooks': OrderedDict(),\n",
       " '_forward_pre_hooks': OrderedDict(),\n",
       " '_state_dict_hooks': OrderedDict(),\n",
       " '_load_state_dict_pre_hooks': OrderedDict([(117,\n",
       "               <torch.nn.modules.module._WrappedHook at 0x2ce96cdd850>)]),\n",
       " '_load_state_dict_post_hooks': OrderedDict(),\n",
       " '_modules': OrderedDict([('base_kernel',\n",
       "               ProductKernel(\n",
       "                 (kernels): ModuleList(\n",
       "                   (0): PolynomialKernel(\n",
       "                     (raw_offset_constraint): Positive()\n",
       "                   )\n",
       "                   (1): PolynomialKernel(\n",
       "                     (raw_offset_constraint): Positive()\n",
       "                   )\n",
       "                 )\n",
       "               )),\n",
       "              ('raw_outputscale_constraint', Positive())]),\n",
       " '_added_loss_terms': OrderedDict(),\n",
       " '_priors': OrderedDict(),\n",
       " '_constraints': OrderedDict([('raw_outputscale_constraint', Positive())]),\n",
       " '_strict_init': True,\n",
       " '_load_strict_shapes': True,\n",
       " '_batch_shape': torch.Size([]),\n",
       " 'ard_num_dims': None,\n",
       " 'eps': 1e-06,\n",
       " 'distance_module': None,\n",
       " '_Kernel__pdist_supports_batch': True}"
      ]
     },
     "execution_count": 20,
     "metadata": {},
     "output_type": "execute_result"
    }
   ],
   "source": [
    "covar_module1 = PolynomialKernel(power=1, active_dims=[0]) * PolynomialKernel(power=1, active_dims=[1])\n",
    "scaled_covar_module1 = ScaleKernel(covar_module)\n",
    "scaled_covar_module1.__getstate__()"
   ]
  },
  {
   "cell_type": "code",
   "execution_count": 21,
   "id": "81091be5",
   "metadata": {},
   "outputs": [
    {
     "data": {
      "text/plain": [
       "{'training': False,\n",
       " '_parameters': OrderedDict([('raw_outputscale',\n",
       "               Parameter containing:\n",
       "               tensor(-13.5627, requires_grad=True))]),\n",
       " '_buffers': OrderedDict([('active_dims', None)]),\n",
       " '_non_persistent_buffers_set': set(),\n",
       " '_backward_hooks': OrderedDict(),\n",
       " '_is_full_backward_hook': None,\n",
       " '_forward_hooks': OrderedDict(),\n",
       " '_forward_pre_hooks': OrderedDict(),\n",
       " '_state_dict_hooks': OrderedDict(),\n",
       " '_load_state_dict_pre_hooks': OrderedDict([(3,\n",
       "               <torch.nn.modules.module._WrappedHook at 0x2ce96c4b220>)]),\n",
       " '_load_state_dict_post_hooks': OrderedDict(),\n",
       " '_modules': OrderedDict([('base_kernel',\n",
       "               ProductKernel(\n",
       "                 (kernels): ModuleList(\n",
       "                   (0): PolynomialKernel(\n",
       "                     (raw_offset_constraint): Positive()\n",
       "                   )\n",
       "                   (1): PolynomialKernel(\n",
       "                     (raw_offset_constraint): Positive()\n",
       "                   )\n",
       "                 )\n",
       "               )),\n",
       "              ('raw_outputscale_constraint', Positive())]),\n",
       " '_added_loss_terms': OrderedDict(),\n",
       " '_priors': OrderedDict(),\n",
       " '_constraints': OrderedDict([('raw_outputscale_constraint', Positive())]),\n",
       " '_strict_init': True,\n",
       " '_load_strict_shapes': True,\n",
       " '_batch_shape': torch.Size([]),\n",
       " 'ard_num_dims': None,\n",
       " 'eps': 1e-06,\n",
       " 'distance_module': None,\n",
       " '_Kernel__pdist_supports_batch': True}"
      ]
     },
     "execution_count": 21,
     "metadata": {},
     "output_type": "execute_result"
    }
   ],
   "source": [
    "scaled_covar_module.__getstate__()"
   ]
  },
  {
   "cell_type": "code",
   "execution_count": 22,
   "id": "8a89a5f0",
   "metadata": {},
   "outputs": [
    {
     "data": {
      "text/plain": [
       "ScaleKernel(\n",
       "  (base_kernel): ProductKernel(\n",
       "    (kernels): ModuleList(\n",
       "      (0): PolynomialKernel(\n",
       "        (raw_offset_constraint): Positive()\n",
       "      )\n",
       "      (1): PolynomialKernel(\n",
       "        (raw_offset_constraint): Positive()\n",
       "      )\n",
       "    )\n",
       "  )\n",
       "  (raw_outputscale_constraint): Positive()\n",
       ")"
      ]
     },
     "execution_count": 22,
     "metadata": {},
     "output_type": "execute_result"
    }
   ],
   "source": [
    "scaled_covar_module.train()"
   ]
  },
  {
   "cell_type": "code",
   "execution_count": 23,
   "id": "6695b6b5",
   "metadata": {},
   "outputs": [
    {
     "data": {
      "text/plain": [
       "{'dtype': torch.float64, 'device': 'cpu'}"
      ]
     },
     "execution_count": 23,
     "metadata": {},
     "output_type": "execute_result"
    }
   ],
   "source": [
    "model_constructor.tkwargs"
   ]
  },
  {
   "cell_type": "code",
   "execution_count": 24,
   "id": "1ae5bbc3",
   "metadata": {},
   "outputs": [
    {
     "data": {
      "text/plain": [
       "tensor([[-0.1953, -0.1795],\n",
       "        [-0.8608,  0.3054],\n",
       "        [-0.4111, -0.5836],\n",
       "        [ 1.2696,  1.8096],\n",
       "        [ 1.4408,  1.7502],\n",
       "        [ 0.9174,  1.4009],\n",
       "        [ 0.3441,  1.7665],\n",
       "        [ 0.8243,  1.4578],\n",
       "        [ 1.0230,  1.7686],\n",
       "        [ 0.8426,  1.5496],\n",
       "        [ 0.3921,  1.6552],\n",
       "        [ 0.3066,  1.6091],\n",
       "        [ 0.9326,  1.5768],\n",
       "        [ 0.6503,  1.3519],\n",
       "        [ 0.3614,  1.0214],\n",
       "        [ 1.1980,  1.6041],\n",
       "        [ 0.5910,  1.2754],\n",
       "        [ 0.8553,  1.5494]])"
      ]
     },
     "execution_count": 24,
     "metadata": {},
     "output_type": "execute_result"
    }
   ],
   "source": [
    "train_X"
   ]
  },
  {
   "cell_type": "code",
   "execution_count": 25,
   "id": "92a77aeb",
   "metadata": {},
   "outputs": [
    {
     "data": {
      "text/plain": [
       "tensor([[-0.1953, -0.1795],\n",
       "        [-0.8608,  0.3054],\n",
       "        [-0.4111, -0.5836],\n",
       "        [ 1.2696,  1.8096],\n",
       "        [ 1.4408,  1.7502],\n",
       "        [ 0.9174,  1.4009],\n",
       "        [ 0.3441,  1.7665],\n",
       "        [ 0.8243,  1.4578],\n",
       "        [ 1.0230,  1.7686],\n",
       "        [ 0.8426,  1.5496],\n",
       "        [ 0.3921,  1.6552],\n",
       "        [ 0.3066,  1.6091],\n",
       "        [ 0.9326,  1.5768],\n",
       "        [ 0.6503,  1.3519],\n",
       "        [ 0.3614,  1.0214],\n",
       "        [ 1.1980,  1.6041],\n",
       "        [ 0.5910,  1.2754],\n",
       "        [ 0.8553,  1.5494]])"
      ]
     },
     "execution_count": 25,
     "metadata": {},
     "output_type": "execute_result"
    }
   ],
   "source": [
    "input_data = model_constructor.input_data\n",
    "target_data = model_constructor.objective_data\n",
    "train_X = torch.tensor(\n",
    "            input_data.to_numpy(),\n",
    "            **model_constructor.tkwargs)\n",
    "train_X"
   ]
  },
  {
   "cell_type": "code",
   "execution_count": 26,
   "id": "cdc86c4b",
   "metadata": {},
   "outputs": [
    {
     "data": {
      "text/plain": [
       "3085996230960"
      ]
     },
     "execution_count": 26,
     "metadata": {},
     "output_type": "execute_result"
    }
   ],
   "source": [
    "id(train_X.dtype)"
   ]
  },
  {
   "cell_type": "code",
   "execution_count": 27,
   "id": "08d198f4",
   "metadata": {},
   "outputs": [
    {
     "data": {
      "text/plain": [
       "3085996230960"
      ]
     },
     "execution_count": 27,
     "metadata": {},
     "output_type": "execute_result"
    }
   ],
   "source": [
    "id(torch.float64)"
   ]
  },
  {
   "cell_type": "code",
   "execution_count": 28,
   "id": "08c4a31c",
   "metadata": {},
   "outputs": [
    {
     "data": {
      "text/html": [
       "<div>\n",
       "<style scoped>\n",
       "    .dataframe tbody tr th:only-of-type {\n",
       "        vertical-align: middle;\n",
       "    }\n",
       "\n",
       "    .dataframe tbody tr th {\n",
       "        vertical-align: top;\n",
       "    }\n",
       "\n",
       "    .dataframe thead th {\n",
       "        text-align: right;\n",
       "    }\n",
       "</style>\n",
       "<table border=\"1\" class=\"dataframe\">\n",
       "  <thead>\n",
       "    <tr style=\"text-align: right;\">\n",
       "      <th></th>\n",
       "      <th>x0</th>\n",
       "      <th>x1</th>\n",
       "    </tr>\n",
       "  </thead>\n",
       "  <tbody>\n",
       "    <tr>\n",
       "      <th>1</th>\n",
       "      <td>-0.195254</td>\n",
       "      <td>-0.179533</td>\n",
       "    </tr>\n",
       "    <tr>\n",
       "      <th>2</th>\n",
       "      <td>-0.860757</td>\n",
       "      <td>0.305381</td>\n",
       "    </tr>\n",
       "    <tr>\n",
       "      <th>3</th>\n",
       "      <td>-0.411054</td>\n",
       "      <td>-0.583576</td>\n",
       "    </tr>\n",
       "    <tr>\n",
       "      <th>4</th>\n",
       "      <td>1.269642</td>\n",
       "      <td>1.809637</td>\n",
       "    </tr>\n",
       "    <tr>\n",
       "      <th>5</th>\n",
       "      <td>1.440794</td>\n",
       "      <td>1.750165</td>\n",
       "    </tr>\n",
       "    <tr>\n",
       "      <th>6</th>\n",
       "      <td>0.917370</td>\n",
       "      <td>1.400861</td>\n",
       "    </tr>\n",
       "    <tr>\n",
       "      <th>7</th>\n",
       "      <td>0.344065</td>\n",
       "      <td>1.766473</td>\n",
       "    </tr>\n",
       "    <tr>\n",
       "      <th>8</th>\n",
       "      <td>0.824343</td>\n",
       "      <td>1.457771</td>\n",
       "    </tr>\n",
       "    <tr>\n",
       "      <th>9</th>\n",
       "      <td>1.023003</td>\n",
       "      <td>1.768588</td>\n",
       "    </tr>\n",
       "    <tr>\n",
       "      <th>10</th>\n",
       "      <td>0.842598</td>\n",
       "      <td>1.549642</td>\n",
       "    </tr>\n",
       "    <tr>\n",
       "      <th>11</th>\n",
       "      <td>0.392129</td>\n",
       "      <td>1.655158</td>\n",
       "    </tr>\n",
       "    <tr>\n",
       "      <th>12</th>\n",
       "      <td>0.306589</td>\n",
       "      <td>1.609130</td>\n",
       "    </tr>\n",
       "    <tr>\n",
       "      <th>13</th>\n",
       "      <td>0.932566</td>\n",
       "      <td>1.576771</td>\n",
       "    </tr>\n",
       "    <tr>\n",
       "      <th>14</th>\n",
       "      <td>0.650336</td>\n",
       "      <td>1.351854</td>\n",
       "    </tr>\n",
       "    <tr>\n",
       "      <th>15</th>\n",
       "      <td>0.361358</td>\n",
       "      <td>1.021383</td>\n",
       "    </tr>\n",
       "    <tr>\n",
       "      <th>16</th>\n",
       "      <td>1.198011</td>\n",
       "      <td>1.604096</td>\n",
       "    </tr>\n",
       "    <tr>\n",
       "      <th>17</th>\n",
       "      <td>0.591022</td>\n",
       "      <td>1.275438</td>\n",
       "    </tr>\n",
       "    <tr>\n",
       "      <th>18</th>\n",
       "      <td>0.855289</td>\n",
       "      <td>1.549430</td>\n",
       "    </tr>\n",
       "  </tbody>\n",
       "</table>\n",
       "</div>"
      ],
      "text/plain": [
       "          x0        x1\n",
       "1  -0.195254 -0.179533\n",
       "2  -0.860757  0.305381\n",
       "3  -0.411054 -0.583576\n",
       "4   1.269642  1.809637\n",
       "5   1.440794  1.750165\n",
       "6   0.917370  1.400861\n",
       "7   0.344065  1.766473\n",
       "8   0.824343  1.457771\n",
       "9   1.023003  1.768588\n",
       "10  0.842598  1.549642\n",
       "11  0.392129  1.655158\n",
       "12  0.306589  1.609130\n",
       "13  0.932566  1.576771\n",
       "14  0.650336  1.351854\n",
       "15  0.361358  1.021383\n",
       "16  1.198011  1.604096\n",
       "17  0.591022  1.275438\n",
       "18  0.855289  1.549430"
      ]
     },
     "execution_count": 28,
     "metadata": {},
     "output_type": "execute_result"
    }
   ],
   "source": [
    "input_data"
   ]
  },
  {
   "cell_type": "code",
   "execution_count": 29,
   "id": "915fba5a",
   "metadata": {},
   "outputs": [
    {
     "data": {
      "text/plain": [
       "tensor([[-0.1953, -0.1795],\n",
       "        [-0.8608,  0.3054],\n",
       "        [-0.4111, -0.5836],\n",
       "        [ 1.2696,  1.8096],\n",
       "        [ 1.4408,  1.7502],\n",
       "        [ 0.9174,  1.4009],\n",
       "        [ 0.3441,  1.7665],\n",
       "        [ 0.8243,  1.4578],\n",
       "        [ 1.0230,  1.7686],\n",
       "        [ 0.8426,  1.5496],\n",
       "        [ 0.3921,  1.6552],\n",
       "        [ 0.3066,  1.6091],\n",
       "        [ 0.9326,  1.5768],\n",
       "        [ 0.6503,  1.3519],\n",
       "        [ 0.3614,  1.0214],\n",
       "        [ 1.1980,  1.6041],\n",
       "        [ 0.5910,  1.2754],\n",
       "        [ 0.8553,  1.5494]])"
      ]
     },
     "execution_count": 29,
     "metadata": {},
     "output_type": "execute_result"
    }
   ],
   "source": [
    "test_X = torch.tensor(train_X.numpy(), **model_constructor.tkwargs)\n",
    "test_X"
   ]
  },
  {
   "cell_type": "code",
   "execution_count": null,
   "id": "53d0cc42",
   "metadata": {},
   "outputs": [],
   "source": []
  },
  {
   "cell_type": "code",
   "execution_count": 30,
   "id": "75aded94",
   "metadata": {},
   "outputs": [
    {
     "data": {
      "text/plain": [
       "finfo(resolution=1e-15, min=-1.79769e+308, max=1.79769e+308, eps=2.22045e-16, smallest_normal=2.22507e-308, tiny=2.22507e-308, dtype=float64)"
      ]
     },
     "execution_count": 30,
     "metadata": {},
     "output_type": "execute_result"
    }
   ],
   "source": [
    "torch.finfo()"
   ]
  },
  {
   "cell_type": "code",
   "execution_count": 31,
   "id": "7df70c65",
   "metadata": {},
   "outputs": [
    {
     "data": {
      "text/plain": [
       "tensor([[-0.1602],\n",
       "        [-1.1236],\n",
       "        [-0.1712],\n",
       "        [ 3.5672],\n",
       "        [ 3.9624],\n",
       "        [ 2.2025],\n",
       "        [ 0.9518],\n",
       "        [ 2.0260],\n",
       "        [ 2.8323],\n",
       "        [ 2.1483],\n",
       "        [ 1.0412],\n",
       "        [ 0.7999],\n",
       "        [ 2.4030],\n",
       "        [ 1.5295],\n",
       "        [ 0.7304],\n",
       "        [ 3.1197],\n",
       "        [ 1.3448],\n",
       "        [ 2.1805]])"
      ]
     },
     "execution_count": 31,
     "metadata": {},
     "output_type": "execute_result"
    }
   ],
   "source": [
    "train_Y"
   ]
  },
  {
   "cell_type": "code",
   "execution_count": 32,
   "id": "e241192f",
   "metadata": {},
   "outputs": [
    {
     "data": {
      "text/plain": [
       "torch.float64"
      ]
     },
     "execution_count": 32,
     "metadata": {},
     "output_type": "execute_result"
    }
   ],
   "source": [
    "train_Y.dtype"
   ]
  },
  {
   "cell_type": "code",
   "execution_count": 33,
   "id": "80efbebb",
   "metadata": {},
   "outputs": [
    {
     "data": {
      "text/plain": [
       "'y'"
      ]
     },
     "execution_count": 33,
     "metadata": {},
     "output_type": "execute_result"
    }
   ],
   "source": [
    "vocs.output_names[0]"
   ]
  },
  {
   "cell_type": "code",
   "execution_count": 34,
   "id": "fcc30bd0",
   "metadata": {},
   "outputs": [
    {
     "data": {
      "text/html": [
       "<div>\n",
       "<style scoped>\n",
       "    .dataframe tbody tr th:only-of-type {\n",
       "        vertical-align: middle;\n",
       "    }\n",
       "\n",
       "    .dataframe tbody tr th {\n",
       "        vertical-align: top;\n",
       "    }\n",
       "\n",
       "    .dataframe thead th {\n",
       "        text-align: right;\n",
       "    }\n",
       "</style>\n",
       "<table border=\"1\" class=\"dataframe\">\n",
       "  <thead>\n",
       "    <tr style=\"text-align: right;\">\n",
       "      <th></th>\n",
       "      <th>x0</th>\n",
       "      <th>x1</th>\n",
       "      <th>y</th>\n",
       "      <th>xopt_runtime</th>\n",
       "      <th>xopt_error</th>\n",
       "    </tr>\n",
       "  </thead>\n",
       "  <tbody>\n",
       "    <tr>\n",
       "      <th>1</th>\n",
       "      <td>-0.195254</td>\n",
       "      <td>-0.179533</td>\n",
       "      <td>-0.16019952883746125</td>\n",
       "      <td>0.000356</td>\n",
       "      <td>False</td>\n",
       "    </tr>\n",
       "    <tr>\n",
       "      <th>2</th>\n",
       "      <td>-0.860757</td>\n",
       "      <td>0.305381</td>\n",
       "      <td>-1.1236162711830588</td>\n",
       "      <td>0.000083</td>\n",
       "      <td>False</td>\n",
       "    </tr>\n",
       "    <tr>\n",
       "      <th>3</th>\n",
       "      <td>-0.411054</td>\n",
       "      <td>-0.583576</td>\n",
       "      <td>-0.17117235856325205</td>\n",
       "      <td>0.000079</td>\n",
       "      <td>False</td>\n",
       "    </tr>\n",
       "    <tr>\n",
       "      <th>4</th>\n",
       "      <td>1.269642</td>\n",
       "      <td>1.809637</td>\n",
       "      <td>3.5672323921949887</td>\n",
       "      <td>0.000140</td>\n",
       "      <td>False</td>\n",
       "    </tr>\n",
       "    <tr>\n",
       "      <th>5</th>\n",
       "      <td>1.440794</td>\n",
       "      <td>1.750165</td>\n",
       "      <td>3.9624223464963193</td>\n",
       "      <td>0.000136</td>\n",
       "      <td>False</td>\n",
       "    </tr>\n",
       "    <tr>\n",
       "      <th>6</th>\n",
       "      <td>0.917370</td>\n",
       "      <td>1.400861</td>\n",
       "      <td>2.2024770660584174</td>\n",
       "      <td>0.000116</td>\n",
       "      <td>False</td>\n",
       "    </tr>\n",
       "    <tr>\n",
       "      <th>7</th>\n",
       "      <td>0.344065</td>\n",
       "      <td>1.766473</td>\n",
       "      <td>0.9518452882564927</td>\n",
       "      <td>0.000128</td>\n",
       "      <td>False</td>\n",
       "    </tr>\n",
       "    <tr>\n",
       "      <th>8</th>\n",
       "      <td>0.824343</td>\n",
       "      <td>1.457771</td>\n",
       "      <td>2.0260469385335234</td>\n",
       "      <td>0.000146</td>\n",
       "      <td>False</td>\n",
       "    </tr>\n",
       "    <tr>\n",
       "      <th>9</th>\n",
       "      <td>1.023003</td>\n",
       "      <td>1.768588</td>\n",
       "      <td>2.8322731005020283</td>\n",
       "      <td>0.000172</td>\n",
       "      <td>False</td>\n",
       "    </tr>\n",
       "    <tr>\n",
       "      <th>10</th>\n",
       "      <td>0.842598</td>\n",
       "      <td>1.549642</td>\n",
       "      <td>2.1483241816581673</td>\n",
       "      <td>0.000122</td>\n",
       "      <td>False</td>\n",
       "    </tr>\n",
       "    <tr>\n",
       "      <th>11</th>\n",
       "      <td>0.392129</td>\n",
       "      <td>1.655158</td>\n",
       "      <td>1.0411654348512138</td>\n",
       "      <td>0.000123</td>\n",
       "      <td>False</td>\n",
       "    </tr>\n",
       "    <tr>\n",
       "      <th>12</th>\n",
       "      <td>0.306589</td>\n",
       "      <td>1.609130</td>\n",
       "      <td>0.799931838282977</td>\n",
       "      <td>0.000111</td>\n",
       "      <td>False</td>\n",
       "    </tr>\n",
       "    <tr>\n",
       "      <th>13</th>\n",
       "      <td>0.932566</td>\n",
       "      <td>1.576771</td>\n",
       "      <td>2.4030090058092775</td>\n",
       "      <td>0.000130</td>\n",
       "      <td>False</td>\n",
       "    </tr>\n",
       "    <tr>\n",
       "      <th>14</th>\n",
       "      <td>0.650336</td>\n",
       "      <td>1.351854</td>\n",
       "      <td>1.5294941618482603</td>\n",
       "      <td>0.000102</td>\n",
       "      <td>False</td>\n",
       "    </tr>\n",
       "    <tr>\n",
       "      <th>15</th>\n",
       "      <td>0.361358</td>\n",
       "      <td>1.021383</td>\n",
       "      <td>0.7304437720364299</td>\n",
       "      <td>0.000100</td>\n",
       "      <td>False</td>\n",
       "    </tr>\n",
       "    <tr>\n",
       "      <th>16</th>\n",
       "      <td>1.198011</td>\n",
       "      <td>1.604096</td>\n",
       "      <td>3.1197365375273716</td>\n",
       "      <td>0.000115</td>\n",
       "      <td>False</td>\n",
       "    </tr>\n",
       "    <tr>\n",
       "      <th>17</th>\n",
       "      <td>0.591022</td>\n",
       "      <td>1.275438</td>\n",
       "      <td>1.3448344257463498</td>\n",
       "      <td>0.000107</td>\n",
       "      <td>False</td>\n",
       "    </tr>\n",
       "    <tr>\n",
       "      <th>18</th>\n",
       "      <td>0.855289</td>\n",
       "      <td>1.549430</td>\n",
       "      <td>2.1804998046654243</td>\n",
       "      <td>0.000118</td>\n",
       "      <td>False</td>\n",
       "    </tr>\n",
       "  </tbody>\n",
       "</table>\n",
       "</div>"
      ],
      "text/plain": [
       "          x0        x1                     y  xopt_runtime  xopt_error\n",
       "1  -0.195254 -0.179533  -0.16019952883746125      0.000356       False\n",
       "2  -0.860757  0.305381   -1.1236162711830588      0.000083       False\n",
       "3  -0.411054 -0.583576  -0.17117235856325205      0.000079       False\n",
       "4   1.269642  1.809637    3.5672323921949887      0.000140       False\n",
       "5   1.440794  1.750165    3.9624223464963193      0.000136       False\n",
       "6   0.917370  1.400861    2.2024770660584174      0.000116       False\n",
       "7   0.344065  1.766473    0.9518452882564927      0.000128       False\n",
       "8   0.824343  1.457771    2.0260469385335234      0.000146       False\n",
       "9   1.023003  1.768588    2.8322731005020283      0.000172       False\n",
       "10  0.842598  1.549642    2.1483241816581673      0.000122       False\n",
       "11  0.392129  1.655158    1.0411654348512138      0.000123       False\n",
       "12  0.306589  1.609130     0.799931838282977      0.000111       False\n",
       "13  0.932566  1.576771    2.4030090058092775      0.000130       False\n",
       "14  0.650336  1.351854    1.5294941618482603      0.000102       False\n",
       "15  0.361358  1.021383    0.7304437720364299      0.000100       False\n",
       "16  1.198011  1.604096    3.1197365375273716      0.000115       False\n",
       "17  0.591022  1.275438    1.3448344257463498      0.000107       False\n",
       "18  0.855289  1.549430    2.1804998046654243      0.000118       False"
      ]
     },
     "execution_count": 34,
     "metadata": {},
     "output_type": "execute_result"
    }
   ],
   "source": [
    "optimizer.data"
   ]
  },
  {
   "cell_type": "code",
   "execution_count": 35,
   "id": "133f795e",
   "metadata": {},
   "outputs": [
    {
     "data": {
      "text/plain": [
       "SingleTaskGP(\n",
       "  (likelihood): GaussianLikelihood(\n",
       "    (noise_covar): HomoskedasticNoise(\n",
       "      (raw_noise_constraint): GreaterThan(1.000E-04)\n",
       "    )\n",
       "  )\n",
       "  (mean_module): ConstantMean()\n",
       "  (covar_module): ScaleKernel(\n",
       "    (base_kernel): ProductKernel(\n",
       "      (kernels): ModuleList(\n",
       "        (0): PolynomialKernel(\n",
       "          (raw_offset_constraint): Positive()\n",
       "        )\n",
       "        (1): PolynomialKernel(\n",
       "          (raw_offset_constraint): Positive()\n",
       "        )\n",
       "      )\n",
       "    )\n",
       "    (raw_outputscale_constraint): Positive()\n",
       "  )\n",
       "  (outcome_transform): Standardize()\n",
       "  (input_transform): Normalize()\n",
       ")"
      ]
     },
     "execution_count": 35,
     "metadata": {},
     "output_type": "execute_result"
    }
   ],
   "source": [
    "beam_centroid_model"
   ]
  },
  {
   "cell_type": "code",
   "execution_count": 36,
   "id": "9b3e3dbb",
   "metadata": {},
   "outputs": [
    {
     "data": {
      "text/plain": [
       "{'dtype': torch.float64, 'device': 'cpu'}"
      ]
     },
     "execution_count": 36,
     "metadata": {},
     "output_type": "execute_result"
    }
   ],
   "source": [
    "optimizer.generator._tkwargs"
   ]
  },
  {
   "cell_type": "code",
   "execution_count": 37,
   "id": "a0b852df",
   "metadata": {},
   "outputs": [],
   "source": [
    "# from emitopt.sampling import compare_sampling_methods\n",
    "# compare_sampling_methods(model=beam_centroid_model, \n",
    "#                          domain=vocs.bounds.T, \n",
    "#                          scan_dim=0, \n",
    "#                          n_samples_per_batch=1000, \n",
    "#                          n_batches=100, \n",
    "#                          verbose=False)"
   ]
  },
  {
   "cell_type": "code",
   "execution_count": 38,
   "id": "32be8a4c",
   "metadata": {},
   "outputs": [],
   "source": [
    "# compare_sampling_methods(model=beam_centroid_model, \n",
    "#                          domain=vocs.bounds.T, \n",
    "#                          scan_dim=1, \n",
    "#                          n_samples_per_batch=1000, \n",
    "#                          n_batches=100, \n",
    "#                          verbose=False)"
   ]
  },
  {
   "cell_type": "code",
   "execution_count": 39,
   "id": "b249a156",
   "metadata": {},
   "outputs": [
    {
     "data": {
      "text/plain": [
       "[<matplotlib.lines.Line2D at 0x2ce9e51bdf0>]"
      ]
     },
     "execution_count": 39,
     "metadata": {},
     "output_type": "execute_result"
    },
    {
     "data": {
      "image/png": "[encoded data removed]",
      "text/plain": [
       "<Figure size 640x480 with 1 Axes>"
      ]
     },
     "metadata": {},
     "output_type": "display_data"
    }
   ],
   "source": [
    "plt.plot(ymesh_gt.T[:,10])"
   ]
  },
  {
   "cell_type": "code",
   "execution_count": 40,
   "id": "bf2333a0",
   "metadata": {},
   "outputs": [
    {
     "data": {
      "image/png": "[encoded data removed]",
      "text/plain": [
       "<Figure size 640x480 with 1 Axes>"
      ]
     },
     "metadata": {},
     "output_type": "display_data"
    }
   ],
   "source": [
    "for col in range(21):\n",
    "    plt.plot(ymesh_gt.T[:,col])"
   ]
  },
  {
   "cell_type": "code",
   "execution_count": 41,
   "id": "fea85fbf",
   "metadata": {},
   "outputs": [
    {
     "data": {
      "text/plain": [
       "[<matplotlib.lines.Line2D at 0x2ce97ec7ee0>]"
      ]
     },
     "execution_count": 41,
     "metadata": {},
     "output_type": "execute_result"
    },
    {
     "data": {
      "image/png": "[encoded data removed]",
      "text/plain": [
       "<Figure size 640x480 with 1 Axes>"
      ]
     },
     "metadata": {},
     "output_type": "display_data"
    }
   ],
   "source": [
    "# for col in range(21):\n",
    "plt.plot(ymesh_model.T[:,10])"
   ]
  },
  {
   "cell_type": "code",
   "execution_count": 42,
   "id": "f00c67f2",
   "metadata": {},
   "outputs": [],
   "source": [
    "from emitopt.sampling import draw_linear_product_kernel_post_paths\n",
    "from emitopt.utils import post_path_misalignment\n",
    "post_paths = draw_linear_product_kernel_post_paths(\n",
    "            beam_centroid_model, n_samples=10\n",
    "        )\n",
    "X_tuning = torch.randn(10,1)\n",
    "meas_dims = [1]\n",
    "meas_scans = torch.tensor([vocs.bounds.T[i] for i in meas_dims])\n",
    "# meas_dims = [1,2,3]\n",
    "# meas_scans = torch.tensor([vocs.bounds.T[1] for i in meas_dims])\n"
   ]
  },
  {
   "cell_type": "code",
   "execution_count": 43,
   "id": "3e4dd556",
   "metadata": {},
   "outputs": [
    {
     "name": "stdout",
     "output_type": "stream",
     "text": [
      "tensor([0.2959, 0.8548, 0.2291, 3.0107, 0.1235, 0.2585, 0.1355, 0.2220, 1.4778,\n",
      "        0.3369], grad_fn=<SumBackward1>)\n"
     ]
    }
   ],
   "source": [
    "ma, xs, ys = post_path_misalignment(post_paths,\n",
    "                       X_tuning, #n x d tensor \n",
    "                       meas_dims, #list of integers\n",
    "                       meas_scans, # tensor shape len(meas_dims) x 2\n",
    "                       samplewise=True)\n",
    "print(ma)"
   ]
  },
  {
   "cell_type": "code",
   "execution_count": 44,
   "id": "c7dbd97b",
   "metadata": {},
   "outputs": [
    {
     "data": {
      "text/plain": [
       "(tensor([[-0.0096],\n",
       "         [ 0.0037],\n",
       "         [ 0.0085],\n",
       "         [-0.0017],\n",
       "         [-0.0016],\n",
       "         [-0.0009],\n",
       "         [-0.0003],\n",
       "         [ 0.0066],\n",
       "         [-0.0043],\n",
       "         [ 0.0145]]),\n",
       " tensor([[[-9.6061e-03, -2.0000e+00],\n",
       "          [-9.6061e-03,  2.0000e+00]],\n",
       " \n",
       "         [[ 3.7196e-03, -2.0000e+00],\n",
       "          [ 3.7196e-03,  2.0000e+00]],\n",
       " \n",
       "         [[ 8.5329e-03, -2.0000e+00],\n",
       "          [ 8.5329e-03,  2.0000e+00]],\n",
       " \n",
       "         [[-1.7173e-03, -2.0000e+00],\n",
       "          [-1.7173e-03,  2.0000e+00]],\n",
       " \n",
       "         [[-1.6419e-03, -2.0000e+00],\n",
       "          [-1.6419e-03,  2.0000e+00]],\n",
       " \n",
       "         [[-8.8127e-04, -2.0000e+00],\n",
       "          [-8.8127e-04,  2.0000e+00]],\n",
       " \n",
       "         [[-3.4735e-04, -2.0000e+00],\n",
       "          [-3.4735e-04,  2.0000e+00]],\n",
       " \n",
       "         [[ 6.5547e-03, -2.0000e+00],\n",
       "          [ 6.5547e-03,  2.0000e+00]],\n",
       " \n",
       "         [[-4.3172e-03, -2.0000e+00],\n",
       "          [-4.3172e-03,  2.0000e+00]],\n",
       " \n",
       "         [[ 1.4459e-02, -2.0000e+00],\n",
       "          [ 1.4459e-02,  2.0000e+00]]]),\n",
       " tensor([[-0.0220, -0.0220],\n",
       "         [ 0.0143,  0.0143],\n",
       "         [ 0.0147,  0.0147],\n",
       "         [-0.0004, -0.0004],\n",
       "         [-0.0021, -0.0021],\n",
       "         [-0.0008, -0.0008],\n",
       "         [ 0.0080,  0.0080],\n",
       "         [ 0.0155,  0.0155],\n",
       "         [-0.0109, -0.0109],\n",
       "         [ 0.0230,  0.0230]], grad_fn=<ReshapeAliasBackward0>),\n",
       " <function emitopt.sampling.draw_linear_product_kernel_post_paths.<locals>.post_paths(xs)>)"
      ]
     },
     "execution_count": 44,
     "metadata": {},
     "output_type": "execute_result"
    }
   ],
   "source": [
    "alignment_algo = ScipyBeamAlignment(\n",
    "        domain=torch.tensor(vocs.bounds.T),\n",
    "        meas_dims = [1],\n",
    "        n_samples = 10\n",
    ")\n",
    "alignment_algo.get_sample_optimal_tuning_configs(model=beam_centroid_model)"
   ]
  },
  {
   "cell_type": "code",
   "execution_count": 45,
   "id": "53941a54",
   "metadata": {},
   "outputs": [
    {
     "data": {
      "text/plain": [
       "[0, 2]"
      ]
     },
     "execution_count": 45,
     "metadata": {},
     "output_type": "execute_result"
    }
   ],
   "source": [
    "ndim = 4\n",
    "meas_dims = [1,3]\n",
    "[i for i in range(ndim) if i not in meas_dims]"
   ]
  },
  {
   "cell_type": "code",
   "execution_count": 46,
   "id": "d91b908f",
   "metadata": {},
   "outputs": [
    {
     "data": {
      "text/plain": [
       "tensor([[1., 2.],\n",
       "        [1., 2.],\n",
       "        [1., 3.]])"
      ]
     },
     "execution_count": 46,
     "metadata": {},
     "output_type": "execute_result"
    }
   ],
   "source": [
    "ys = torch.tensor([[2, 3, 4],\n",
    "                  [5, 6, 7],\n",
    "                  [8, 9, 11]]).double()\n",
    "\n",
    "(ys[:,1:] - ys[:,0].reshape(-1,1))"
   ]
  },
  {
   "cell_type": "code",
   "execution_count": 47,
   "id": "3db541fd",
   "metadata": {},
   "outputs": [
    {
     "data": {
      "text/plain": [
       "tensor([[1., 2.],\n",
       "        [1., 2.],\n",
       "        [1., 3.]])"
      ]
     },
     "execution_count": 47,
     "metadata": {},
     "output_type": "execute_result"
    }
   ],
   "source": [
    "rise = (ys[:,1:] - ys[:,0].reshape(-1,1))\n",
    "rise"
   ]
  },
  {
   "cell_type": "code",
   "execution_count": 48,
   "id": "4fde31e9",
   "metadata": {},
   "outputs": [
    {
     "data": {
      "text/plain": [
       "tensor([[4.],\n",
       "        [4.],\n",
       "        [4.]])"
      ]
     },
     "execution_count": 48,
     "metadata": {},
     "output_type": "execute_result"
    }
   ],
   "source": [
    "run = (meas_scans[:,1] - meas_scans[:,0]).T.repeat(ys.shape[0], 1)\n",
    "run"
   ]
  },
  {
   "cell_type": "code",
   "execution_count": 49,
   "id": "31de10e5",
   "metadata": {},
   "outputs": [
    {
     "data": {
      "text/plain": [
       "tensor([[0.2500, 0.5000],\n",
       "        [0.2500, 0.5000],\n",
       "        [0.2500, 0.7500]])"
      ]
     },
     "execution_count": 49,
     "metadata": {},
     "output_type": "execute_result"
    }
   ],
   "source": [
    "rise/run"
   ]
  },
  {
   "cell_type": "markdown",
   "id": "fae84fc5",
   "metadata": {},
   "source": [
    "# Optimize"
   ]
  },
  {
   "cell_type": "code",
   "execution_count": 50,
   "id": "d8a54961",
   "metadata": {
    "scrolled": true
   },
   "outputs": [
    {
     "ename": "AttributeError",
     "evalue": "'BaxGenerator' object has no attribute 'algo'",
     "output_type": "error",
     "traceback": [
      "\u001b[1;31m---------------------------------------------------------------------------\u001b[0m",
      "\u001b[1;31mAttributeError\u001b[0m                            Traceback (most recent call last)",
      "Cell \u001b[1;32mIn[50], line 10\u001b[0m\n\u001b[0;32m      6\u001b[0m beam_size_model \u001b[38;5;241m=\u001b[39m optimizer\u001b[38;5;241m.\u001b[39mgenerator\u001b[38;5;241m.\u001b[39mtrain_model()\u001b[38;5;241m.\u001b[39mmodels[\u001b[38;5;241m0\u001b[39m]\n\u001b[0;32m      9\u001b[0m \u001b[38;5;66;03m#get mean-predicted optimal tuning config and eval predicted emits at this location in tuning parameter space\u001b[39;00m\n\u001b[1;32m---> 10\u001b[0m X_tuned, emits_at_target_valid, emits_sq_at_target, is_valid, svr \u001b[38;5;241m=\u001b[39m \u001b[43moptimizer\u001b[49m\u001b[38;5;241;43m.\u001b[39;49m\u001b[43mgenerator\u001b[49m\u001b[38;5;241;43m.\u001b[39;49m\u001b[43malgo\u001b[49m\u001b[38;5;241m.\u001b[39mmean_output(beam_size_model, num_restarts\u001b[38;5;241m=\u001b[39m\u001b[38;5;241m10\u001b[39m)\n\u001b[0;32m     13\u001b[0m plt\u001b[38;5;241m.\u001b[39mhist(emits_at_target_valid\u001b[38;5;241m.\u001b[39mflatten()\u001b[38;5;241m.\u001b[39mcpu(), density\u001b[38;5;241m=\u001b[39m\u001b[38;5;28;01mTrue\u001b[39;00m)\n\u001b[0;32m     14\u001b[0m plt\u001b[38;5;241m.\u001b[39mxlabel(\u001b[38;5;124m'\u001b[39m\u001b[38;5;124mPredicted Optimal Emittance\u001b[39m\u001b[38;5;124m'\u001b[39m)\n",
      "\u001b[1;31mAttributeError\u001b[0m: 'BaxGenerator' object has no attribute 'algo'"
     ]
    }
   ],
   "source": [
    "# call X.step() to generate random initial points and evaluate on test_func\n",
    "optimizer.step()    \n",
    "\n",
    "\n",
    "#get initial emittance prediction at ground truth optimum\n",
    "beam_size_model = optimizer.generator.train_model().models[0]\n",
    "\n",
    "\n",
    "#get mean-predicted optimal tuning config and eval predicted emits at this location in tuning parameter space\n",
    "X_tuned, emits_at_target_valid, emits_sq_at_target, is_valid, svr = optimizer.generator.algo.mean_output(beam_size_model, num_restarts=10)\n",
    "\n",
    "\n",
    "plt.hist(emits_at_target_valid.flatten().cpu(), density=True)\n",
    "plt.xlabel('Predicted Optimal Emittance')\n",
    "plt.ylabel('Probability Density')\n",
    "plt.show()\n",
    "print('sample validity rate:', svr)\n",
    "\n",
    "for i in range(1, n_iter+1):\n",
    "\n",
    "    print('Iteration:', i, '/', n_iter)\n",
    "\n",
    "    start = time.time()\n",
    "\n",
    "    # call X.step() to generate a random initial point and evaluate on test_func\n",
    "    optimizer.step()    \n",
    "\n",
    "    \n",
    "    #extract GP model hyperparams\n",
    "    beam_size_model = optimizer.generator.model.models[0]\n",
    "\n",
    "    #get mean-predicted optimal tuning config and eval predicted emits at this location in tuning parameter space\n",
    "    X_tuned, emits_at_target_valid, emits_sq_at_target, is_valid, svr = optimizer.generator.algo.mean_output(beam_size_model, num_restarts=10)\n",
    "    \n",
    "    end = time.time()\n",
    "    print('This iteration took:', end-start, 'seconds.\\n')\n",
    "\n",
    "    if i % 5 == 0:\n",
    "        plt.hist(emits_at_target_valid.flatten().cpu(), density=True)\n",
    "        plt.xlabel('Predicted Optimal Emittance')\n",
    "        plt.ylabel('Probability Density')\n",
    "        plt.show()\n",
    "        print('sample validity rate:', svr)"
   ]
  },
  {
   "cell_type": "markdown",
   "id": "057a01f5",
   "metadata": {},
   "source": [
    "# Plot some beam size surface samples from our current model and do a scan of the predicted emittance as a function of our single tuning parameter."
   ]
  },
  {
   "cell_type": "code",
   "execution_count": null,
   "id": "98d25716",
   "metadata": {},
   "outputs": [],
   "source": [
    "if ndim==2:\n",
    "    \n",
    "    device = torch.tensor(1).device\n",
    "    torch.set_default_tensor_type('torch.DoubleTensor')\n",
    "\n",
    "    fig, axs = plt.subplots(1, 3, subplot_kw={\"projection\": \"3d\"})\n",
    "    fig.set_size_inches(15,10)\n",
    "\n",
    "    ax = axs[0]\n",
    "\n",
    "    for s in range(3):\n",
    "\n",
    "        # plot first 3 beam size surface samples\n",
    "        xlin, ylin = torch.arange(-3,1,0.05), torch.arange(-40,40, 1.)\n",
    "        X, Y = torch.meshgrid(xlin, ylin)\n",
    "        XY = torch.cat((X.reshape(-1,1), Y.reshape(-1,1)), dim=1)\n",
    "        print(XY.shape)\n",
    "        Z = optimizer.generator.algo.post_paths_cpu(XY)[s].reshape(X.shape).detach()\n",
    "        cmap='viridis'\n",
    "        surf = ax.plot_surface(Y, X, Z, cmap=cmap,\n",
    "                               linewidth=0, antialiased=True, alpha=0.3, rasterized=True)\n",
    "\n",
    "        # add orange parabolic highlights\n",
    "        ax.plot(Y[0,:].numpy(), Z[0,:].numpy(), zs=X[0,0].item(), zdir='y', c='C1', lw=2, zorder=10)\n",
    "        ax.plot(Y[int(len(Z[0,:])/2),:].numpy(), Z[int(len(Z[0,:])/2),:].numpy(), zs=X[int(len(Z[0,:])/2),0].item(), zdir='y', c='C1', lw=2)\n",
    "        ax.plot(Y[-1,:].numpy(), Z[-1,:].numpy(), zs=X[-1,0].item(), zdir='y', c='C1', lw=2)\n",
    "\n",
    "\n",
    "\n",
    "\n",
    "    # plot initial observations\n",
    "    x0 = torch.tensor(optimizer.data['x0'].values)[:n_obs_init]\n",
    "    x1 = torch.tensor(optimizer.data['x1'].values)[:n_obs_init]\n",
    "    y = torch.tensor([item.item() for item in optimizer.data['y'].values])[:n_obs_init]\n",
    "    ax.scatter(x1.flatten(), x0.flatten(), y.flatten(), marker='o', c='C0', alpha=1, s=80, label='Random (Initial) Observations', zorder=15)\n",
    "\n",
    "    # plot bax observations\n",
    "    x0 = torch.tensor(optimizer.data['x0'].values)[n_obs_init:]\n",
    "    x1 = torch.tensor(optimizer.data['x1'].values)[n_obs_init:]\n",
    "    y = torch.tensor([item.item() for item in optimizer.data['y'].values])[n_obs_init:]\n",
    "    ax.scatter(x1.flatten(), x0.flatten(), y.flatten(), marker='o', c='C1', alpha=1, s=80, label='BAX Observations', zorder=15)\n",
    "\n",
    "    ax.set_title('Beam Size Surface Samples')\n",
    "    ax.set_ylabel('Tuning Parameter')\n",
    "    ax.set_xlabel('Measurement Parameter')\n",
    "    ax.set_zlabel('Beam Size')\n",
    "\n",
    "    ax.set_ylim(-3, 1)\n",
    "    ax.set_zlim(0)\n",
    "    \n",
    "    # remove tick labels\n",
    "    ax.set_xticklabels([])\n",
    "    ax.set_yticklabels([])\n",
    "    ax.set_zticklabels([])\n",
    "\n",
    "    # make the grid lines transparent\n",
    "    ax.xaxis._axinfo[\"grid\"]['color'] =  (1,1,1,0)\n",
    "    ax.yaxis._axinfo[\"grid\"]['color'] =  (1,1,1,0)\n",
    "    ax.zaxis._axinfo[\"grid\"]['color'] =  (1,1,1,0)\n",
    "\n",
    "    ax.legend()\n",
    "    ax.dist = 12\n",
    "\n",
    "    \n",
    "    \n",
    "    if device.type == \"cuda\":\n",
    "        torch.set_default_tensor_type(\"torch.cuda.DoubleTensor\")\n",
    "        \n",
    "   \n",
    "\n",
    "    # do a scan (along the tuning dimension) of our emittance predictions\n",
    "    emit_lowers = torch.tensor([])\n",
    "    emit_uppers = torch.tensor([])\n",
    "    emit_meds = torch.tensor([])\n",
    "    for tuning_param in xlin:\n",
    "        X_tuning = tuning_param.reshape(1,-1).to(device)\n",
    "        emits, emits_sq_all, is_valid, svr = get_valid_emittance_samples(beam_size_model, 0.135, 0.108, 2.26, X_tuning, vocs.bounds.T, meas_dim, n_samples=10000, n_steps_quad_scan=10)\n",
    "        emit_lower = torch.quantile(emits, q=0.025, dim=0)\n",
    "        emit_upper = torch.quantile(emits, q=0.975, dim=0)\n",
    "        emit_med = torch.quantile(emits, q=0.5, dim=0)\n",
    "\n",
    "        emit_lowers = torch.cat((emit_lowers, emit_lower))\n",
    "        emit_uppers = torch.cat((emit_uppers, emit_upper))\n",
    "        emit_meds = torch.cat((emit_meds, emit_med))\n",
    "\n",
    "    #get a few batches of n_samples pathwise sample optima\n",
    "    X_stars_all = torch.tensor([])\n",
    "    emit_stars_all = torch.tensor([])\n",
    "    for i in range(5):\n",
    "        optimizer.generator.algo.get_exe_paths(beam_size_model)\n",
    "        X_stars = optimizer.generator.algo.X_stars\n",
    "        emit_stars = optimizer.generator.algo.emit_stars.detach()\n",
    "        X_stars_all = torch.cat((X_stars_all, X_stars), dim=0)\n",
    "        emit_stars_all = torch.cat((emit_stars_all, emit_stars), dim=0)\n",
    "    \n",
    "    from mpl_toolkits.mplot3d.art3d import Poly3DCollection\n",
    "    import matplotlib.patches as mpatches\n",
    "\n",
    "    ax = axs[1]\n",
    "    \n",
    "    # plot median emittance curve\n",
    "    medline, = ax.plot(emit_meds.cpu().numpy(), xlin.numpy(), zs=0, zdir='z', c='g', label='Median')\n",
    "    \n",
    "    opt_cross = ax.scatter(emit_stars.flatten().cpu(), X_stars.flatten().cpu(), zs=0, zdir='z', marker='x', s=40, c='m', alpha=0.5, label='Sample Optima')\n",
    "    \n",
    "    # plot emittance 95% confidence interval as a Poly3DCollection (ordering of vertices matters)\n",
    "    verts = (\n",
    "        [(emit_lowers[i].item(), xlin[i].item(), 0) for i in range(len(xlin))] + \n",
    "        [(emit_uppers[i].item(), xlin[i].item(), 0) for i in range(len(xlin))][::-1]\n",
    "    )\n",
    "    ax.add_collection3d(Poly3DCollection([verts],color='g', edgecolor='None', alpha=0.5)) # Add a polygon instead of fill_between\n",
    "\n",
    "    \n",
    "    ax.set_xlabel('Emittance')\n",
    "    ax.set_ylabel('Tuning Parameter')\n",
    "    ax.set_title('Emittance Measurement Samples')\n",
    "    \n",
    "    ax.set_xlim(0,25)\n",
    "    ax.set_ylim(-3,1)\n",
    "    ax.set_zlim(0,1)\n",
    "\n",
    "    # remove vertical tick marks\n",
    "    ax.set_zticks([])\n",
    "\n",
    "    # remove tick labels\n",
    "    ax.set_xticklabels([])\n",
    "    ax.set_yticklabels([])\n",
    "    ax.set_zticklabels([])\n",
    "\n",
    "    # make the grid lines transparent\n",
    "    ax.xaxis._axinfo[\"grid\"]['color'] =  (1,1,1,0)\n",
    "    ax.yaxis._axinfo[\"grid\"]['color'] =  (1,1,1,0)\n",
    "    ax.zaxis._axinfo[\"grid\"]['color'] =  (1,1,1,0)\n",
    "\n",
    "    orange_patch = mpatches.Patch(color='g', alpha=0.5, label='95% C.I.')\n",
    "    ax.legend(handles=[medline, orange_patch, opt_cross])\n",
    "    ax.dist = 12\n",
    "\n",
    "    \n",
    "    \n",
    "    ax = axs[2]\n",
    "    bins = 10\n",
    "    freq, edges = torch.histogram(X_stars_all.flatten().cpu(), bins=bins, density=True)\n",
    "    for i in range(bins):\n",
    "        uverts = []\n",
    "        lverts = []\n",
    "        uverts += [(freq[i].item(), edges[i].item(), 0), (freq[i].item(), edges[i+1].item(), 0)]\n",
    "        lverts += [(0, edges[i+1].item(), 0), (0, edges[i].item(), 0)]\n",
    "        verts = uverts + lverts\n",
    "        ax.add_collection3d(Poly3DCollection([verts],color='m', edgecolor='k')) # Add a polygon instead of fill_between\n",
    "\n",
    "    ax.set_title('Distribution of Sample Optimal Tuning Parameters')\n",
    "    ax.set_ylabel('Tuning Parameter')\n",
    "    ax.set_xlabel('Frequency')\n",
    "    \n",
    "    ax.set_xlim(0,2)\n",
    "    ax.set_ylim(-3,1)\n",
    "    ax.set_zlim(0,1)\n",
    "    \n",
    "    # remove vertical tick marks\n",
    "    ax.set_zticks([])\n",
    "\n",
    "    # remove tick labels\n",
    "    ax.set_xticklabels([])\n",
    "    ax.set_yticklabels([])\n",
    "    ax.set_zticklabels([])\n",
    "    \n",
    "    # make the grid lines transparent\n",
    "    ax.xaxis._axinfo[\"grid\"]['color'] =  (1,1,1,0)\n",
    "    ax.yaxis._axinfo[\"grid\"]['color'] =  (1,1,1,0)\n",
    "    ax.zaxis._axinfo[\"grid\"]['color'] =  (1,1,1,0)\n",
    "    \n",
    "    ax.dist = 12\n",
    "\n",
    "    plt.tight_layout()\n",
    "    plt.savefig('beamsize-surfaces-with-emittance-1.svg', format='svg')\n",
    "    plt.show()\n"
   ]
  },
  {
   "cell_type": "markdown",
   "id": "90a5aa30",
   "metadata": {},
   "source": [
    "# Inspect current Acquisition Function and compare to most recently acquired observation \n",
    "Note that get_acquisition() is stochastic because it draws new sample paths each time and therefore produces different exe_paths and a different acquisition function than the one used in the previous iteration in Xopt. So instead of calling get_acquisition(), we manually reconstruct the acquisition function as it existed during the previous iteration."
   ]
  },
  {
   "cell_type": "code",
   "execution_count": null,
   "id": "16e47754",
   "metadata": {},
   "outputs": [],
   "source": [
    "from xopt.generators.bayesian.bax.acquisition import ExpectedInformationGain\n",
    "\n",
    "algo = algo_class(**algo_kwargs)\n",
    "acq = ExpectedInformationGain(beam_size_model, algo)\n",
    "acq.xs_exe, acq.ys_exe = optimizer.generator.algo.xs_exe, optimizer.generator.algo.ys_exe\n",
    "xs_exe_transformed = acq.model.input_transform(acq.xs_exe)\n",
    "ys_exe_transformed = acq.model.outcome_transform(acq.ys_exe)[0]\n",
    "acq.fmodels = acq.model.condition_on_observations(\n",
    "    xs_exe_transformed, ys_exe_transformed\n",
    ")\n",
    "\n",
    "last_acq = np.vstack(optimizer.data.iloc[-1][list(vocs.variable_data([vocs.random_inputs()], '').keys())].values[:]).astype(float)\n",
    "last_acq = torch.tensor(last_acq).reshape(1,-1)\n",
    "\n",
    "fig, axs = plt.subplots(1, ndim)\n",
    "    \n",
    "fig.set_size_inches(3*(ndim), 3)\n",
    "\n",
    "for scan_dim in range(ndim):\n",
    "    X_scan = last_acq.repeat(100,1)\n",
    "    ls = torch.linspace(*vocs.bounds.T[scan_dim],100)\n",
    "\n",
    "    X_scan[:,scan_dim] = ls\n",
    "\n",
    "    acq_scan = torch.tensor([acq(X.reshape(1,-1)) for X in X_scan]).reshape(-1)\n",
    "    \n",
    "    ax = axs[scan_dim]\n",
    "    \n",
    "    ax.plot(ls.cpu(), acq_scan.detach().cpu())\n",
    "    ax.axvline(last_acq[0,scan_dim].cpu(), c='r', label='Acquisition Result')\n",
    "    \n",
    "    \n",
    "    ax.set_xlabel('Input ' + str(scan_dim))\n",
    "    \n",
    "    if scan_dim == 0:\n",
    "        ax.set_ylabel('Acquisition Function')\n",
    "        ax.legend()\n",
    "    \n",
    "plt.tight_layout()\n",
    "plt.show()"
   ]
  },
  {
   "cell_type": "markdown",
   "id": "1ca7907f",
   "metadata": {},
   "source": [
    "# Minimize sample emittance functions produced by current GP beam size model and inspect results"
   ]
  },
  {
   "cell_type": "code",
   "execution_count": null,
   "id": "809ae72e",
   "metadata": {},
   "outputs": [],
   "source": [
    "#minimize sample emittances (by calling get_exe_paths) and time it\n",
    "start = time.time()\n",
    "X_sample_opt = optimizer.generator.algo.get_sample_optimal_tuning_configs(model = beam_size_model)[0]\n",
    "end = time.time()\n",
    "print('get_sample_minima() took', end-start, 'seconds.')\n",
    "\n",
    "\n",
    "\n",
    "print('Average x_tuned =', torch.mean(X_tuned, dim=0))"
   ]
  },
  {
   "cell_type": "code",
   "execution_count": null,
   "id": "9cab1c67",
   "metadata": {},
   "outputs": [],
   "source": [
    "#select sample result\n",
    "\n",
    "sid = 0 #sample index to examine\n",
    "\n",
    "X_tuned = X_sample_opt[sid].reshape(1,-1)\n",
    "print('X_tuned =', X_tuned)"
   ]
  },
  {
   "cell_type": "code",
   "execution_count": null,
   "id": "2e040d9f",
   "metadata": {},
   "outputs": [],
   "source": [
    "#plot sample emittance minimization result\n",
    "\n",
    "fig, axs = plt.subplots(1, ndim-1)\n",
    "if ndim == 2: axs = [axs]\n",
    "    \n",
    "fig.set_size_inches(3*(ndim-1), 3)\n",
    "\n",
    "for scan_dim in range(ndim-1):\n",
    "    X_tuning_scan = X_tuned.repeat(100,1)\n",
    "    ls = torch.linspace(-3,1,100)\n",
    "    X_tuning_scan[:,scan_dim] = ls\n",
    "    X_meas = torch.linspace(-40,60,3)\n",
    "\n",
    "    emits_sq = post_path_emit(optimizer.generator.algo.post_paths_cpu, \n",
    "                              optimizer.generator.algo.beam_energy.cpu(), \n",
    "                              optimizer.generator.algo.q_len.cpu(), \n",
    "                              optimizer.generator.algo.distance.cpu(), \n",
    "                              X_tuning_scan.cpu(), meas_dim, X_meas.cpu(), samplewise=False, squared=True)[0]\n",
    "        \n",
    "    ax = axs[scan_dim]\n",
    "    \n",
    "    ax.plot(ls.cpu(), (toy_emit_nd(ls.reshape(-1,1))**2).cpu(), c='k', label='Ground truth') #this ground truth isn't exactly the matching cross-section but it should be close\n",
    "\n",
    "    ax.plot(ls.cpu(), emits_sq[sid].detach().cpu(), label='Sample ' + str(sid))\n",
    "    ax.axvline(X_tuned[0,scan_dim].cpu(), c='r', label='Sample optimization result')\n",
    "    \n",
    "    \n",
    "    ax.set_xlabel('tuning param ' + str(scan_dim))\n",
    "    \n",
    "    if scan_dim == 0:\n",
    "        ax.set_ylabel('\"$\\epsilon^{2}$\"')\n",
    "        ax.legend()\n",
    "    \n",
    "plt.tight_layout()\n",
    "plt.show()\n"
   ]
  },
  {
   "cell_type": "markdown",
   "id": "a9263d63",
   "metadata": {},
   "source": [
    "# Use current beam size GP model (with ProductKernel: Matern x Polynomial) to compare custom pathwise posterior sampling to BoTorch standard (non-pathwise) posterior sampling"
   ]
  },
  {
   "cell_type": "code",
   "execution_count": null,
   "id": "db89d0f3",
   "metadata": {},
   "outputs": [],
   "source": [
    "if True:   \n",
    "    compare_sampling_methods(model = beam_size_model, domain = vocs.bounds.T, scan_dim = 1, n_samples_per_batch = 100, n_batches = 100, verbose = True)\n"
   ]
  },
  {
   "cell_type": "code",
   "execution_count": null,
   "id": "12e40246",
   "metadata": {},
   "outputs": [],
   "source": []
  }
 ],
 "metadata": {
  "kernelspec": {
   "display_name": "Python 3 (ipykernel)",
   "language": "python",
   "name": "python3"
  },
  "language_info": {
   "codemirror_mode": {
    "name": "ipython",
    "version": 3
   },
   "file_extension": ".py",
   "mimetype": "text/x-python",
   "name": "python",
   "nbconvert_exporter": "python",
   "pygments_lexer": "ipython3",
   "version": "3.9.16"
  }
 },
 "nbformat": 4,
 "nbformat_minor": 5
}
