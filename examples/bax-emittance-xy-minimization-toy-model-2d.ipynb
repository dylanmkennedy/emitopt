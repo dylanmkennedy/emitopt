{
 "cells": [
  {
   "cell_type": "markdown",
   "id": "90ac8fe9",
   "metadata": {},
   "source": [
    "# Emittance minimization using Xopt with BAXGenerator running algorithm ScipyMinimizeEmittance\n",
    "In this notebook we demonstrate the use of Xopt to perform Bayesian Algorithm Execution (BAX) as a means of minimizing the emittance described by a simple optical beam size model. BAX is a generalization of Bayesian Optimization that seeks to acquire observations that provide our model with maximal information about our property of interest. In this example, our property of interest is the minimal emittance and its location in tuning-parameter-space. See https://arxiv.org/pdf/2209.04587.pdf for details."
   ]
  },
  {
   "cell_type": "markdown",
   "id": "7a2666c7",
   "metadata": {},
   "source": [
    "# Imports"
   ]
  },
  {
   "cell_type": "code",
   "execution_count": 1,
   "id": "0b2005f9",
   "metadata": {},
   "outputs": [],
   "source": [
    "# Ignore all warnings\n",
    "import warnings\n",
    "warnings.filterwarnings(\"ignore\")\n",
    "\n",
    "import sys\n",
    "# sys.path.append('C:\\\\Users\\\\Dylan\\\\SLAC') #parent directory containing emitopt module\n",
    "\n",
    "import matplotlib.pyplot as plt\n",
    "import os    \n",
    "os.environ['KMP_DUPLICATE_LIB_OK'] = 'True'\n",
    "\n",
    "import pandas as pd\n",
    "import torch\n",
    "\n",
    "from xopt import Xopt\n",
    "from xopt.vocs import VOCS\n",
    "from xopt.generators.bayesian.bax_generator import BaxGenerator\n",
    "\n",
    "from xopt.evaluator import Evaluator\n",
    "\n",
    "from emitopt.utils import (post_path_emit_squared,\n",
    "                           compute_emits,\n",
    "                           get_meas_scan_inputs_from_tuning_configs,\n",
    "                           get_valid_emittance_samples)\n",
    "from emitopt.sampling import draw_product_kernel_post_paths\n",
    "from emitopt.algorithms import ScipyMinimizeEmittanceXY\n",
    "\n",
    "import time\n",
    "import numpy as np\n",
    "import random"
   ]
  },
  {
   "cell_type": "markdown",
   "id": "d56d378d",
   "metadata": {},
   "source": [
    "# Use CUDA if available"
   ]
  },
  {
   "cell_type": "code",
   "execution_count": 2,
   "id": "ce9d65ee",
   "metadata": {},
   "outputs": [],
   "source": [
    "# if torch.cuda.is_available():\n",
    "if False:\n",
    "    torch.set_default_tensor_type('torch.cuda.DoubleTensor')\n",
    "    use_cuda = True\n",
    "else:\n",
    "    torch.set_default_tensor_type('torch.DoubleTensor')\n",
    "    use_cuda = False"
   ]
  },
  {
   "cell_type": "markdown",
   "id": "0c1f6014",
   "metadata": {},
   "source": [
    "# Notebook settings"
   ]
  },
  {
   "cell_type": "code",
   "execution_count": 3,
   "id": "e9323010",
   "metadata": {},
   "outputs": [],
   "source": [
    "ndim = 2 #number of input dimensions\n",
    "noise = False #whether to add noise to the ground-truth beam size function outputs\n",
    "meas_dim = 1 #input dimension for measurement parameter\n",
    "n_obs_init = 5 #number of random initial observations for GP model\n",
    "n_samples = 10 #number of posterior samples for BAX\n",
    "n_iter = 10 #number of optimization steps for Xopt to take (after acquiring random initial data)\n",
    "rand_seed = 2\n",
    "\n",
    "#random seeds for reproducibility \n",
    "torch.manual_seed(rand_seed)\n",
    "np.random.seed(rand_seed) #only affects initial random observations through Xopt\n",
    "random.seed(rand_seed)"
   ]
  },
  {
   "cell_type": "markdown",
   "id": "87785524",
   "metadata": {},
   "source": [
    "# Build test function from single-quadrupole optical beam size model \n",
    "Here we define a simple ground-truth beam size function for our optimization problem, where we attempt to find the location in tuning parameter space with minimal emittance. Note that the function \"test_func\" used to evaluate the ground-truth beam size function takes a dictionary as input and returns a dictionary as the output."
   ]
  },
  {
   "cell_type": "code",
   "execution_count": 4,
   "id": "468de1ea",
   "metadata": {},
   "outputs": [],
   "source": [
    "from pyemittance.emittance_calc import EmitCalc\n",
    "from pyemittance.load_json_configs import load_configs\n",
    "from pyemittance.simulation import BeamSim\n",
    "\n",
    "CONFIG = load_configs('LCLS2_OTR0H04')\n",
    "CONFIG['beamline_info']\n",
    "\n",
    "q_len = CONFIG['beamline_info']['Lquad']\n",
    "distance = CONFIG['beamline_info']['rMatx'][1]"
   ]
  },
  {
   "cell_type": "code",
   "execution_count": 5,
   "id": "c052d304",
   "metadata": {},
   "outputs": [],
   "source": [
    "BUNCH_PARAMS0 = {\n",
    "    'total_charge': 50e-12,\n",
    "    'norm_emit_x': 1e-6,\n",
    "    'norm_emit_y': 2e-6,\n",
    "    'beta_x': 10,\n",
    "    'alpha_x': -1,\n",
    "    'beta_y': 11,\n",
    "    'alpha_y': -2,\n",
    "    'energy': 80e6,\n",
    "    'species':'electron'\n",
    "}\n",
    "sim = BeamSim(bunch_params=BUNCH_PARAMS0, beamline_info=CONFIG['beamline_info'])\n",
    "\n",
    "\n",
    "# define variables functions\n",
    "var_names = ['x' + str(i) for i in range(ndim)]\n",
    "meas_param = var_names[meas_dim]\n",
    "\n",
    "def measure_beamsize(input_dict):\n",
    "    x_tuning = torch.tensor([])\n",
    "    for key in input_dict.keys():\n",
    "        if key is not meas_param:\n",
    "            x_tuning = torch.cat((x_tuning, torch.tensor([input_dict[key]])))\n",
    "    rms_beamsizes0 = np.array(sim.beam_size_meas(input_dict[meas_param]))\n",
    "    detuning_scale = 1. + x_tuning.abs().sum()\n",
    "    xrms, yrms = detuning_scale * rms_beamsizes0\n",
    "    return {'xrms_sq': float(xrms)**2.*1.e6,\n",
    "            'yrms_sq': float(yrms)**2.*1.e6} # mean-square beam sizes in mm squared\n",
    "\n",
    "def ground_truth_geometric_mean_emittance(emit_min, x_tuning):\n",
    "    detuning_scale = 1. + x_tuning.abs().sum(dim=1)\n",
    "    emit = emit_min * detuning_scale**2\n",
    "    return emit"
   ]
  },
  {
   "cell_type": "code",
   "execution_count": 6,
   "id": "65e9fa44",
   "metadata": {},
   "outputs": [
    {
     "data": {
      "text/plain": [
       "[array([0.56516435, 0.01566167]),\n",
       " array([0.10047318, 0.29068046]),\n",
       " array([0.01594597, 1.41311281])]"
      ]
     },
     "execution_count": 6,
     "metadata": {},
     "output_type": "execute_result"
    }
   ],
   "source": [
    "[np.array(sim.beam_size_meas(v))**2*1.e6 for v in np.linspace(-2,2,3)]"
   ]
  },
  {
   "cell_type": "code",
   "execution_count": 7,
   "id": "b73bcfe1",
   "metadata": {
    "scrolled": true
   },
   "outputs": [],
   "source": [
    "# # define test functions\n",
    "# var_names = ['x' + str(i) for i in range(ndim)]\n",
    "# meas_param = var_names[meas_dim]\n",
    "\n",
    "# beam_energy = 0.135\n",
    "# distance = torch.tensor(2.26).double()\n",
    "# q_len = torch.tensor(0.108).double()\n",
    "# s11 = torch.tensor(3e-6).double()\n",
    "# s12 = torch.tensor(1.5e-6).double()\n",
    "# s22 = torch.tensor(2e-6).double()\n",
    "# gt_min_emit = torch.sqrt(s11 * s22 - s12 ** 2)*1e6\n",
    "# print('Ground-Truth Minimum Emittance:', gt_min_emit.item())\n",
    "\n",
    "\n",
    "\n",
    "# def beam_size_squared(k, d, l, s11, s12, s22):\n",
    "#     return (\n",
    "#         (1.0 + k * d * l) ** 2 * s11 + 2.0 * (1.0 + d * l * k) * d * s12 + d ** 2 * s22\n",
    "#     )\n",
    "    \n",
    "# def toy_beam_size_squared_nd(x, meas_dim, noise=noise):\n",
    "    \n",
    "#     tuning_dims = list(range(x.shape[-1]))\n",
    "#     tuning_dims.remove(meas_dim)\n",
    "#     emit = torch.sqrt(s11 * s22 - s12 ** 2)\n",
    "#     bss = ((1 + torch.sum(x[:,tuning_dims]**2, dim=1) )* beam_size_squared(x[:,meas_dim], distance, q_len, s11, s12, s22)).reshape(-1,1) \n",
    "# #     bss = ( (1 + 9.*(1 - torch.exp(-0.5*(50.*torch.sum(x[:,tuning_dims]**2, dim=1))) ) ) * \n",
    "# #            beam_size_squared(x[:,meas_dim], distance, q_len, s11, s12, s22)\n",
    "# #           ).reshape(-1,1) \n",
    "#     bss *= 1.e6\n",
    "#     if noise:\n",
    "#         bss *= (1 + 0.05*torch.rand_like(bss))      \n",
    "#     return bss\n",
    "\n",
    "# def toy_emit_nd(X_tuning):\n",
    "# #     return ( 1 + 9.*(1 - torch.exp(-0.5*(50.*torch.sum(X_tuning**2, dim=1))) ) ) * gt_min_emit\n",
    "#     return (1 + torch.sum(X_tuning**2, dim=1) ) * gt_min_emit\n",
    "\n",
    "# def test_func(input_dict):\n",
    "#     x = torch.tensor(input_dict[meas_param]).reshape(-1,1)\n",
    "#     for key in input_dict.keys():\n",
    "#         if key is not meas_param:\n",
    "#             x = torch.cat((x, torch.tensor(input_dict[key]).reshape(-1,1)), dim=1)\n",
    "#     return {'x': float(toy_beam_size_squared_nd(x, 0).squeeze().cpu().numpy()),\n",
    "#             'y': float(toy_beam_size_squared_nd(x, 0).squeeze().cpu().numpy()),\n",
    "#            'emittance': float(toy_emit_nd(x[:,1:]).squeeze().cpu().numpy())}"
   ]
  },
  {
   "cell_type": "markdown",
   "id": "25d2c09a",
   "metadata": {},
   "source": [
    "# Construct vocs"
   ]
  },
  {
   "cell_type": "code",
   "execution_count": 8,
   "id": "6dfbf20e",
   "metadata": {},
   "outputs": [
    {
     "name": "stdout",
     "output_type": "stream",
     "text": [
      "variable_names = ['x0', 'x1']\n",
      "meas_param = 'x1'\n",
      "domain =\n",
      " [[-2.  2.]\n",
      " [-3.  3.]]\n"
     ]
    }
   ],
   "source": [
    "variables = {var_name: [-2,2] for var_name in var_names}\n",
    "variables[meas_param] = [-3,3] #overwrite bounds for measurement parameter to capture minimum of single-quadrupole optical model\n",
    "\n",
    "#construct vocs\n",
    "vocs = VOCS(\n",
    "    variables = variables,\n",
    "    observables = ['xrms_sq', 'yrms_sq']\n",
    ")\n",
    "\n",
    "print('variable_names =', vocs.variable_names)\n",
    "print('meas_param =', \"'\" + meas_param + \"'\")\n",
    "print('domain =\\n', vocs.bounds.T)"
   ]
  },
  {
   "cell_type": "markdown",
   "id": "e4651f47",
   "metadata": {},
   "source": [
    "# Prepare generator options.\n",
    "In this example, we use a specialty covariance module (Matern x Quadratic kernel) for our beam size model."
   ]
  },
  {
   "cell_type": "code",
   "execution_count": 9,
   "id": "02894212",
   "metadata": {},
   "outputs": [],
   "source": [
    "from gpytorch.kernels import MaternKernel, PolynomialKernel, ScaleKernel\n",
    "from gpytorch.priors.torch_priors import GammaPrior\n",
    "\n",
    "from xopt.generators.bayesian.models.standard import StandardModelConstructor\n",
    "from xopt.generators.bayesian.bax_generator import BaxGenerator\n",
    "from emitopt.algorithms import ScipyMinimizeEmittance\n",
    "\n",
    "# prepare custom covariance module\n",
    "tuning_dims = list(range(vocs.n_variables))\n",
    "tuning_dims.remove(meas_dim)\n",
    "covar_module_x = (MaternKernel(ard_num_dims=len(tuning_dims), \n",
    "                              active_dims=tuning_dims, \n",
    "                              lengthscale_prior=None) * \n",
    "                              PolynomialKernel(power=2, active_dims=[meas_dim])\n",
    "                 )\n",
    "\n",
    "scaled_covar_module_x = ScaleKernel(covar_module_x)#, outputscale_prior=GammaPrior(2.0, 0.15))\n",
    "covar_module_y = (MaternKernel(ard_num_dims=len(tuning_dims), \n",
    "                              active_dims=tuning_dims, \n",
    "                              lengthscale_prior=None) * \n",
    "                              PolynomialKernel(power=2, active_dims=[meas_dim])\n",
    "                 )\n",
    "scaled_covar_module_y =  ScaleKernel(covar_module_y)#, outputscale_prior=GammaPrior(2.0, 0.15))\n",
    "\n",
    "# prepare options for Xopt generator\n",
    "covar_module_dict = {'xrms_sq': scaled_covar_module_x,\n",
    "                     'yrms_sq': scaled_covar_module_y}\n",
    "\n",
    "model_constructor = StandardModelConstructor(covar_modules=covar_module_dict, use_low_noise_prior=True)"
   ]
  },
  {
   "cell_type": "code",
   "execution_count": 10,
   "id": "724571ae",
   "metadata": {},
   "outputs": [],
   "source": [
    "from xopt.numerical_optimizer import LBFGSOptimizer\n",
    "numerical_optimizer = LBFGSOptimizer(\n",
    "                                    n_raw_samples=20,\n",
    "                                    n_restarts=10,\n",
    "                                    max_iter=50)"
   ]
  },
  {
   "cell_type": "markdown",
   "id": "bd586df8",
   "metadata": {},
   "source": [
    "# Construct generator, evaluator, Xopt objects"
   ]
  },
  {
   "cell_type": "code",
   "execution_count": 11,
   "id": "7623bc33",
   "metadata": {},
   "outputs": [],
   "source": [
    "#Prepare Algorithm\n",
    "from emitopt.utils import get_quad_strength_conversion_factor\n",
    "scale_factor = get_quad_strength_conversion_factor(E=.08, q_len=q_len)\n",
    "# scale_factor = 1.\n",
    "algo_kwargs = {\n",
    "        'model_names_ordered': ['xrms_sq', 'yrms_sq'],\n",
    "        'scale_factor': scale_factor,\n",
    "        'q_len': q_len,\n",
    "        'distance': distance,\n",
    "        'n_samples': n_samples,\n",
    "        'meas_dim': meas_dim,\n",
    "        'n_steps_measurement_param': 11,\n",
    "        'n_steps_exe_paths':  11,\n",
    "#         'scipy_options': {'gtol':1.e-8},\n",
    "}\n",
    "algo = ScipyMinimizeEmittanceXY(**algo_kwargs)\n",
    "\n",
    "#construct BAX generator\n",
    "generator = BaxGenerator(vocs=vocs, \n",
    "                         model_constructor=model_constructor, \n",
    "                         numerical_optimizer=numerical_optimizer,\n",
    "                         algorithm=algo, \n",
    "                         use_cuda=use_cuda)\n",
    "\n",
    "#construct evaluator\n",
    "evaluator = Evaluator(function=measure_beamsize)\n",
    "\n",
    "#construct Xopt optimizer\n",
    "optimizer = Xopt(evaluator=evaluator, generator=generator, vocs=vocs)"
   ]
  },
  {
   "cell_type": "markdown",
   "id": "fae84fc5",
   "metadata": {},
   "source": [
    "# Optimize"
   ]
  },
  {
   "cell_type": "code",
   "execution_count": 12,
   "id": "3553f6f5",
   "metadata": {},
   "outputs": [
    {
     "data": {
      "text/html": [
       "<div>\n",
       "<style scoped>\n",
       "    .dataframe tbody tr th:only-of-type {\n",
       "        vertical-align: middle;\n",
       "    }\n",
       "\n",
       "    .dataframe tbody tr th {\n",
       "        vertical-align: top;\n",
       "    }\n",
       "\n",
       "    .dataframe thead th {\n",
       "        text-align: right;\n",
       "    }\n",
       "</style>\n",
       "<table border=\"1\" class=\"dataframe\">\n",
       "  <thead>\n",
       "    <tr style=\"text-align: right;\">\n",
       "      <th></th>\n",
       "      <th>x0</th>\n",
       "      <th>x1</th>\n",
       "      <th>xrms_sq</th>\n",
       "      <th>yrms_sq</th>\n",
       "      <th>xopt_runtime</th>\n",
       "      <th>xopt_error</th>\n",
       "    </tr>\n",
       "  </thead>\n",
       "  <tbody>\n",
       "    <tr>\n",
       "      <th>1</th>\n",
       "      <td>0.256020</td>\n",
       "      <td>1.017991</td>\n",
       "      <td>0.019058</td>\n",
       "      <td>1.185247</td>\n",
       "      <td>0.003202</td>\n",
       "      <td>False</td>\n",
       "    </tr>\n",
       "    <tr>\n",
       "      <th>2</th>\n",
       "      <td>1.896295</td>\n",
       "      <td>1.772108</td>\n",
       "      <td>0.062580</td>\n",
       "      <td>10.401808</td>\n",
       "      <td>0.000575</td>\n",
       "      <td>False</td>\n",
       "    </tr>\n",
       "    <tr>\n",
       "      <th>3</th>\n",
       "      <td>-0.198650</td>\n",
       "      <td>-0.715626</td>\n",
       "      <td>0.317929</td>\n",
       "      <td>0.142012</td>\n",
       "      <td>0.000242</td>\n",
       "      <td>False</td>\n",
       "    </tr>\n",
       "    <tr>\n",
       "      <th>4</th>\n",
       "      <td>0.258710</td>\n",
       "      <td>1.202072</td>\n",
       "      <td>0.009921</td>\n",
       "      <td>1.360661</td>\n",
       "      <td>0.000264</td>\n",
       "      <td>False</td>\n",
       "    </tr>\n",
       "    <tr>\n",
       "      <th>5</th>\n",
       "      <td>0.318529</td>\n",
       "      <td>1.399036</td>\n",
       "      <td>0.005928</td>\n",
       "      <td>1.707620</td>\n",
       "      <td>0.000211</td>\n",
       "      <td>False</td>\n",
       "    </tr>\n",
       "  </tbody>\n",
       "</table>\n",
       "</div>"
      ],
      "text/plain": [
       "         x0        x1   xrms_sq    yrms_sq  xopt_runtime  xopt_error\n",
       "1  0.256020  1.017991  0.019058   1.185247      0.003202       False\n",
       "2  1.896295  1.772108  0.062580  10.401808      0.000575       False\n",
       "3 -0.198650 -0.715626  0.317929   0.142012      0.000242       False\n",
       "4  0.258710  1.202072  0.009921   1.360661      0.000264       False\n",
       "5  0.318529  1.399036  0.005928   1.707620      0.000211       False"
      ]
     },
     "execution_count": 12,
     "metadata": {},
     "output_type": "execute_result"
    }
   ],
   "source": [
    "# call X.random_evaluate() to generate random initial points and evaluate on test_func\n",
    "optimizer.random_evaluate(n_obs_init)"
   ]
  },
  {
   "cell_type": "code",
   "execution_count": 13,
   "id": "79bf85b6",
   "metadata": {},
   "outputs": [],
   "source": [
    "# torch.tensor(optimizer.data[vocs.variable_names].iloc[-2].to_numpy().reshape(1,-1))"
   ]
  },
  {
   "cell_type": "code",
   "execution_count": 14,
   "id": "1af84ab9",
   "metadata": {},
   "outputs": [],
   "source": [
    "# results = {}\n",
    "# beam_size_models = {}\n",
    "\n",
    "# #get initial emittance prediction at ground truth optimum\n",
    "# model = optimizer.generator.train_model()\n"
   ]
  },
  {
   "cell_type": "code",
   "execution_count": 15,
   "id": "d8a54961",
   "metadata": {
    "scrolled": true
   },
   "outputs": [
    {
     "name": "stdout",
     "output_type": "stream",
     "text": [
      "Iteration: 1 / 10\n",
      "Scipy failed to find at least 3 physically valid solutions.\n",
      "This iteration took: 10.774550199508667 seconds.\n",
      "\n",
      "Iteration: 2 / 10\n",
      "Scipy failed to find at least 3 physically valid solutions.\n",
      "This iteration took: 10.632550239562988 seconds.\n",
      "\n",
      "Iteration: 3 / 10\n",
      "Scipy failed to find at least 3 physically valid solutions.\n",
      "This iteration took: 7.495654344558716 seconds.\n",
      "\n",
      "Iteration: 4 / 10\n",
      "Scipy failed to find at least 3 physically valid solutions.\n",
      "This iteration took: 6.705401182174683 seconds.\n",
      "\n",
      "Iteration: 5 / 10\n",
      "This iteration took: 5.4105870723724365 seconds.\n",
      "\n",
      "Iteration: 6 / 10\n",
      "This iteration took: 2.9464573860168457 seconds.\n",
      "\n",
      "Iteration: 7 / 10\n",
      "This iteration took: 5.3100104331970215 seconds.\n",
      "\n",
      "Iteration: 8 / 10\n",
      "This iteration took: 6.678667306900024 seconds.\n",
      "\n",
      "Iteration: 9 / 10\n",
      "This iteration took: 8.045908689498901 seconds.\n",
      "\n",
      "Iteration: 10 / 10\n",
      "This iteration took: 2.7854084968566895 seconds.\n",
      "\n"
     ]
    }
   ],
   "source": [
    "# plt.hist(emits_at_target_valid.flatten().cpu(), density=True)\n",
    "# plt.xlabel('Predicted Optimal Emittance')\n",
    "# plt.ylabel('Probability Density')\n",
    "# plt.show()\n",
    "# print('sample validity rate:', svr)\n",
    "\n",
    "for i in range(1, n_iter+1):\n",
    "\n",
    "    print('Iteration:', i, '/', n_iter)\n",
    "\n",
    "    start = time.time()\n",
    "\n",
    "    # call X.step() to generate a random initial point and evaluate on test_func\n",
    "    optimizer.step()    \n",
    "\n",
    "    \n",
    "    #extract GP models\n",
    "    model = optimizer.generator.train_model()\n",
    "    bax_model_ids = [optimizer.generator.vocs.output_names.index(name)\n",
    "                            for name in optimizer.generator.algorithm.model_names_ordered]\n",
    "    bax_model = model.subset_output(bax_model_ids)\n",
    "    beam_size_model_x = bax_model.models[0]\n",
    "    beam_size_model_y = bax_model.models[1]\n",
    "    \n",
    "    #extract and store algorithm results for this iteration\n",
    "#     results[i] = optimizer.generator.algorithm_results\n",
    "#     beam_size_models[i] = beam_size_model\n",
    "    \n",
    "    #get mean-predicted optimal tuning config and eval predicted emits at this location in tuning parameter space\n",
    "    algo = optimizer.generator.algorithm\n",
    "#     X_tuned, emits_at_target_valid, svr = algo.mean_output(beam_size_model,\n",
    "#                                                          torch.tensor(vocs.bounds),\n",
    "#                                                          num_restarts=10)\n",
    "    \n",
    "    end = time.time()\n",
    "    print('This iteration took:', end-start, 'seconds.\\n')\n",
    "\n",
    "#     if i % 5 == 0:\n",
    "#         plt.hist(emits_at_target_valid.flatten().cpu(), density=True)\n",
    "#         plt.xlabel('Predicted Optimal Emittance')\n",
    "#         plt.ylabel('Probability Density')\n",
    "#         plt.show()\n",
    "#         print('sample validity rate:', svr)"
   ]
  },
  {
   "cell_type": "code",
   "execution_count": 16,
   "id": "c2d344f5",
   "metadata": {},
   "outputs": [
    {
     "name": "stdout",
     "output_type": "stream",
     "text": [
      "Scipy failed to find at least 3 physically valid solutions.\n",
      "get_acquisition took 2.074455976486206 seconds.\n"
     ]
    }
   ],
   "source": [
    "start = time.time()\n",
    "acq = optimizer.generator.get_acquisition(optimizer.generator.model)\n",
    "end = time.time()\n",
    "print('get_acquisition took', end-start, 'seconds.')"
   ]
  },
  {
   "cell_type": "code",
   "execution_count": 17,
   "id": "bf24e20e",
   "metadata": {},
   "outputs": [
    {
     "name": "stdout",
     "output_type": "stream",
     "text": [
      "optimize_acqf took 1.1239960193634033 seconds.\n"
     ]
    }
   ],
   "source": [
    "from botorch.optim.optimize import optimize_acqf\n",
    "start = time.time()\n",
    "for i in range(1):\n",
    "    res = optimize_acqf(acq_function=acq,\n",
    "                        bounds=torch.tensor(vocs.bounds),\n",
    "                        q=1,\n",
    "                        num_restarts=10,\n",
    "                        raw_samples=20,\n",
    "                        options={'maxiter':50}\n",
    "                       )\n",
    "end = time.time()\n",
    "print('optimize_acqf took', end-start, 'seconds.')"
   ]
  },
  {
   "cell_type": "code",
   "execution_count": 18,
   "id": "c3181749",
   "metadata": {},
   "outputs": [
    {
     "data": {
      "image/png": "[encoded data removed]",
      "text/plain": [
       "<Figure size 600x300 with 2 Axes>"
      ]
     },
     "metadata": {},
     "output_type": "display_data"
    }
   ],
   "source": [
    "# acq = optimizer.generator.get_acquisition(optimizer.generator.model)\n",
    "\n",
    "# last_acq = np.vstack(data_all[0].iloc[-1][list(vocs.variable_data([vocs.random_inputs()], '').keys())].values[:]).astype(float)\n",
    "# last_acq = torch.tensor(last_acq).reshape(1,-1)\n",
    "\n",
    "last_acq = res[0]\n",
    "# last_acq = torch.tensor(optimizer.data[vocs.variable_names].iloc[-1].to_numpy().reshape(1,-1))\n",
    "\n",
    "fig, axs = plt.subplots(1, ndim)\n",
    "    \n",
    "fig.set_size_inches(3*(ndim), 3)\n",
    "\n",
    "for scan_dim in range(ndim):\n",
    "    X_scan = last_acq.repeat(100,1)\n",
    "#     ls = torch.linspace(*vocs.bounds.T[scan_dim],100)\n",
    "    ls = torch.linspace(last_acq[0,scan_dim]-1,last_acq[0,scan_dim]+1,100)\n",
    "\n",
    "    X_scan[:,scan_dim] = ls\n",
    "\n",
    "    acq_scan = torch.tensor([acq(X.reshape(1,-1)) for X in X_scan]).reshape(-1)\n",
    "    \n",
    "    ax = axs[scan_dim]\n",
    "    \n",
    "    ax.plot(ls.cpu(), acq_scan.detach().cpu())\n",
    "    ax.axvline(last_acq[0,scan_dim].cpu(), c='r', label='Acquisition Result')\n",
    "    \n",
    "    \n",
    "    ax.set_xlabel('Input ' + str(scan_dim))\n",
    "    \n",
    "    if scan_dim == 0:\n",
    "        ax.set_ylabel('Acquisition Function')\n",
    "        ax.legend()\n",
    "    \n",
    "plt.tight_layout()\n",
    "plt.show()"
   ]
  },
  {
   "cell_type": "code",
   "execution_count": null,
   "id": "c8ffbf95",
   "metadata": {},
   "outputs": [],
   "source": [
    "from emitopt.utils import plot_sample_optima_convergence_inputs\n",
    "plot_sample_optima_convergence_inputs(results, show_valid_only=False)"
   ]
  },
  {
   "cell_type": "code",
   "execution_count": null,
   "id": "6c512cfc",
   "metadata": {},
   "outputs": [],
   "source": [
    "from emitopt.utils import plot_sample_optima_convergence_emits\n",
    "plot_sample_optima_convergence_emits(results)"
   ]
  },
  {
   "cell_type": "code",
   "execution_count": null,
   "id": "177de67b",
   "metadata": {},
   "outputs": [],
   "source": [
    "from emitopt.utils import plot_valid_emit_prediction_at_x_tuning\n",
    "\n",
    "x_tuned = torch.mean(results[n_iter]['x_stars_all'], dim=0, keepdim=True)\n",
    "print('x_tuned =', x_tuned)\n",
    "plot_valid_emit_prediction_at_x_tuning(beam_size_model_x, \n",
    "                                       x_tuned, \n",
    "                                       scale_factor = algo_kwargs['scale_factor'],\n",
    "                                       q_len = algo_kwargs['q_len'],\n",
    "                                       distance = algo_kwargs['distance'],\n",
    "                                       bounds = vocs.bounds,\n",
    "                                       meas_dim = algo_kwargs['meas_dim'],\n",
    "                                       n_samples = 10000,\n",
    "                                       n_steps_quad_scan = 10\n",
    "                                        )"
   ]
  },
  {
   "cell_type": "markdown",
   "id": "057a01f5",
   "metadata": {},
   "source": [
    "# Plot some beam size surface samples from our current model and do a scan of the predicted emittance as a function of our single tuning parameter."
   ]
  },
  {
   "cell_type": "code",
   "execution_count": null,
   "id": "98d25716",
   "metadata": {},
   "outputs": [],
   "source": [
    "if ndim==2:\n",
    "    \n",
    "    device = torch.tensor(1).device\n",
    "    torch.set_default_tensor_type('torch.DoubleTensor')\n",
    "\n",
    "    fig, axs = plt.subplots(1, 3, subplot_kw={\"projection\": \"3d\"})\n",
    "    fig.set_size_inches(15,10)\n",
    "\n",
    "    ax = axs[0]\n",
    "\n",
    "    for s in range(3):\n",
    "\n",
    "        # plot first 3 beam size surface samples\n",
    "        xlin, ylin = torch.arange(-3,1,0.05), torch.arange(-40,40, 1.)\n",
    "        X, Y = torch.meshgrid(xlin, ylin)\n",
    "        XY = torch.cat((X.reshape(-1,1), Y.reshape(-1,1)), dim=1)\n",
    "        print(XY.shape)\n",
    "        Z = optimizer.generator.algorithm_results['post_paths_cpu'](XY)[s].reshape(X.shape).detach()\n",
    "        cmap='viridis'\n",
    "        surf = ax.plot_surface(Y, X, Z, cmap=cmap,\n",
    "                               linewidth=0, antialiased=True, alpha=0.3, rasterized=True)\n",
    "\n",
    "        # add orange parabolic highlights\n",
    "        ax.plot(Y[0,:].numpy(), Z[0,:].numpy(), zs=X[0,0].item(), zdir='y', c='C1', lw=2, zorder=10)\n",
    "        ax.plot(Y[int(len(Z[0,:])/2),:].numpy(), Z[int(len(Z[0,:])/2),:].numpy(), zs=X[int(len(Z[0,:])/2),0].item(), zdir='y', c='C1', lw=2)\n",
    "        ax.plot(Y[-1,:].numpy(), Z[-1,:].numpy(), zs=X[-1,0].item(), zdir='y', c='C1', lw=2)\n",
    "\n",
    "\n",
    "\n",
    "\n",
    "    # plot initial observations\n",
    "    x0 = torch.tensor(optimizer.data['x0'].values)[:n_obs_init]\n",
    "    x1 = torch.tensor(optimizer.data['x1'].values)[:n_obs_init]\n",
    "    y = torch.tensor([item.item() for item in optimizer.data['y'].values])[:n_obs_init]\n",
    "    ax.scatter(x1.flatten(), x0.flatten(), y.flatten(), marker='o', c='C0', alpha=1, s=80, label='Random (Initial) Observations', zorder=15)\n",
    "\n",
    "    # plot bax observations\n",
    "    x0 = torch.tensor(optimizer.data['x0'].values)[n_obs_init:]\n",
    "    x1 = torch.tensor(optimizer.data['x1'].values)[n_obs_init:]\n",
    "    y = torch.tensor([item.item() for item in optimizer.data['y'].values])[n_obs_init:]\n",
    "    ax.scatter(x1.flatten(), x0.flatten(), y.flatten(), marker='o', c='C1', alpha=1, s=80, label='BAX Observations', zorder=15)\n",
    "\n",
    "    ax.set_title('Beam Size Surface Samples')\n",
    "    ax.set_ylabel('Tuning Parameter')\n",
    "    ax.set_xlabel('Measurement Parameter')\n",
    "    ax.set_zlabel('Beam Size Squared')\n",
    "\n",
    "    ax.set_ylim(-3, 1)\n",
    "    ax.set_zlim(0)\n",
    "    \n",
    "    # remove tick labels\n",
    "    ax.set_xticklabels([])\n",
    "    ax.set_yticklabels([])\n",
    "    ax.set_zticklabels([])\n",
    "\n",
    "    # make the grid lines transparent\n",
    "    ax.xaxis._axinfo[\"grid\"]['color'] =  (1,1,1,0)\n",
    "    ax.yaxis._axinfo[\"grid\"]['color'] =  (1,1,1,0)\n",
    "    ax.zaxis._axinfo[\"grid\"]['color'] =  (1,1,1,0)\n",
    "\n",
    "    ax.legend()\n",
    "    ax.dist = 12\n",
    "\n",
    "    \n",
    "    \n",
    "    if device.type == \"cuda\":\n",
    "        torch.set_default_tensor_type(\"torch.cuda.DoubleTensor\")\n",
    "        \n",
    "   \n",
    "\n",
    "    # do a scan (along the tuning dimension) of our emittance predictions\n",
    "    emit_lowers = torch.tensor([])\n",
    "    emit_uppers = torch.tensor([])\n",
    "    emit_meds = torch.tensor([])\n",
    "    for tuning_param in xlin:\n",
    "        x_tuning = tuning_param.reshape(1,-1).to(device)\n",
    "        emits, svr = get_valid_emittance_samples(beam_size_model, \n",
    "                                                 scale_factor, \n",
    "                                                 0.108, \n",
    "                                                 2.26, \n",
    "                                                 x_tuning, \n",
    "                                                 vocs.bounds.T, \n",
    "                                                 meas_dim, \n",
    "                                                 n_samples=100000, \n",
    "                                                 n_steps_quad_scan=10)\n",
    "        emit_lower = torch.quantile(emits, q=0.025, dim=0)\n",
    "        emit_upper = torch.quantile(emits, q=0.975, dim=0)\n",
    "        emit_med = torch.quantile(emits, q=0.5, dim=0)\n",
    "\n",
    "        emit_lowers = torch.cat((emit_lowers, emit_lower))\n",
    "        emit_uppers = torch.cat((emit_uppers, emit_upper))\n",
    "        emit_meds = torch.cat((emit_meds, emit_med))\n",
    "\n",
    "    #get a few batches of n_samples pathwise sample optima\n",
    "    x_stars_all = torch.tensor([])\n",
    "    emit_stars_all = torch.tensor([])\n",
    "    for i in range(5):\n",
    "        algo = optimizer.generator.algorithm\n",
    "        results_dict = algo.get_execution_paths(beam_size_model, torch.tensor(vocs.bounds))[-1]\n",
    "        x_stars = results_dict['x_stars']\n",
    "        emit_stars = results_dict['emit_stars'].detach()\n",
    "        x_stars_all = torch.cat((x_stars_all, x_stars), dim=0)\n",
    "        emit_stars_all = torch.cat((emit_stars_all, emit_stars), dim=0)\n",
    "    \n",
    "    from mpl_toolkits.mplot3d.art3d import Poly3DCollection\n",
    "    import matplotlib.patches as mpatches\n",
    "\n",
    "    ax = axs[1]\n",
    "    \n",
    "    # plot median emittance curve\n",
    "    medline, = ax.plot(emit_meds.cpu().numpy(), xlin.numpy(), zs=0, zdir='z', c='g', label='Median')\n",
    "    \n",
    "    opt_cross = ax.scatter(emit_stars_all.flatten().cpu(), x_stars_all.flatten().cpu(), zs=0, zdir='z', marker='x', s=40, c='m', alpha=0.5, label='Sample Optima')\n",
    "    \n",
    "    # plot emittance 95% confidence interval as a Poly3DCollection (ordering of vertices matters)\n",
    "    verts = (\n",
    "        [(emit_lowers[i].item(), xlin[i].item(), 0) for i in range(len(xlin))] + \n",
    "        [(emit_uppers[i].item(), xlin[i].item(), 0) for i in range(len(xlin))][::-1]\n",
    "    )\n",
    "    ax.add_collection3d(Poly3DCollection([verts],color='g', edgecolor='None', alpha=0.5)) # Add a polygon instead of fill_between\n",
    "\n",
    "    \n",
    "    ax.set_xlabel('Emittance')\n",
    "    ax.set_ylabel('Tuning Parameter')\n",
    "    ax.set_title('Emittance Measurement Samples')\n",
    "    \n",
    "    ax.set_xlim(0,25)\n",
    "    ax.set_ylim(-3,1)\n",
    "    ax.set_zlim(0,1)\n",
    "\n",
    "    # remove vertical tick marks\n",
    "    ax.set_zticks([])\n",
    "\n",
    "    # remove tick labels\n",
    "    ax.set_xticklabels([])\n",
    "    ax.set_yticklabels([])\n",
    "    ax.set_zticklabels([])\n",
    "\n",
    "    # make the grid lines transparent\n",
    "    ax.xaxis._axinfo[\"grid\"]['color'] =  (1,1,1,0)\n",
    "    ax.yaxis._axinfo[\"grid\"]['color'] =  (1,1,1,0)\n",
    "    ax.zaxis._axinfo[\"grid\"]['color'] =  (1,1,1,0)\n",
    "\n",
    "    orange_patch = mpatches.Patch(color='g', alpha=0.5, label='95% C.I.')\n",
    "    ax.legend(handles=[medline, orange_patch, opt_cross])\n",
    "    ax.dist = 12\n",
    "\n",
    "    \n",
    "    \n",
    "    ax = axs[2]\n",
    "    bins = 10\n",
    "    freq, edges = torch.histogram(x_stars_all.flatten().cpu(), bins=bins, density=True)\n",
    "    for i in range(bins):\n",
    "        uverts = []\n",
    "        lverts = []\n",
    "        uverts += [(freq[i].item(), edges[i].item(), 0), (freq[i].item(), edges[i+1].item(), 0)]\n",
    "        lverts += [(0, edges[i+1].item(), 0), (0, edges[i].item(), 0)]\n",
    "        verts = uverts + lverts\n",
    "        ax.add_collection3d(Poly3DCollection([verts],color='m', edgecolor='k')) # Add a polygon instead of fill_between\n",
    "\n",
    "    ax.set_title('Distribution of Sample Optimal Tuning Parameters')\n",
    "    ax.set_ylabel('Tuning Parameter')\n",
    "    ax.set_xlabel('Frequency')\n",
    "    \n",
    "    ax.set_xlim(0,2)\n",
    "    ax.set_ylim(-3,1)\n",
    "    ax.set_zlim(0,1)\n",
    "    \n",
    "    # remove vertical tick marks\n",
    "    ax.set_zticks([])\n",
    "\n",
    "    # remove tick labels\n",
    "    ax.set_xticklabels([])\n",
    "    ax.set_yticklabels([])\n",
    "    ax.set_zticklabels([])\n",
    "    \n",
    "    # make the grid lines transparent\n",
    "    ax.xaxis._axinfo[\"grid\"]['color'] =  (1,1,1,0)\n",
    "    ax.yaxis._axinfo[\"grid\"]['color'] =  (1,1,1,0)\n",
    "    ax.zaxis._axinfo[\"grid\"]['color'] =  (1,1,1,0)\n",
    "    \n",
    "    ax.dist = 12\n",
    "\n",
    "    plt.tight_layout()\n",
    "    plt.savefig('beamsize-surfaces-with-emittance-1.svg', format='svg')\n",
    "    plt.show()\n"
   ]
  },
  {
   "cell_type": "markdown",
   "id": "1ca7907f",
   "metadata": {},
   "source": [
    "# Minimize sample emittance functions produced by current GP beam size model and inspect results"
   ]
  },
  {
   "cell_type": "code",
   "execution_count": 16,
   "id": "9cab1c67",
   "metadata": {},
   "outputs": [
    {
     "name": "stdout",
     "output_type": "stream",
     "text": [
      "X_tuned = tensor([[ 0.2198, -0.0338]])\n"
     ]
    }
   ],
   "source": [
    "#select sample result\n",
    "\n",
    "sid = 5 #sample index to examine\n",
    "\n",
    "# X_tuned = X_sample_opt[sid].reshape(1,-1)\n",
    "X_tuned = optimizer.generator.algorithm_results['x_stars'][sid:sid+1, :]\n",
    "# X_tuned = torch.zeros(1,ndim-1)\n",
    "print('X_tuned =', X_tuned)"
   ]
  },
  {
   "cell_type": "markdown",
   "id": "9a841546",
   "metadata": {},
   "source": [
    "# Sample geometric mean of emittance x&y"
   ]
  },
  {
   "cell_type": "code",
   "execution_count": 17,
   "id": "23224da3",
   "metadata": {},
   "outputs": [
    {
     "name": "stdout",
     "output_type": "stream",
     "text": [
      "tensor([-9.0134e+00, -7.2108e+00, -5.4081e+00, -3.6054e+00, -1.8027e+00,\n",
      "        -3.3356e-16,  1.8027e+00,  3.6054e+00,  5.4081e+00,  7.2108e+00,\n",
      "         9.0134e+00])\n",
      "tensor([[ 0.0632,  0.3324,  0.4484,  ..., -2.0735, -3.0302, -4.1401],\n",
      "        [ 0.0257,  0.3000,  0.4194,  ..., -2.1194, -3.0850, -4.2057],\n",
      "        [-0.0057,  0.2730,  0.3956,  ..., -2.1473, -3.1175, -4.2438],\n",
      "        ...,\n",
      "        [ 0.3609, -0.0252, -0.3155,  ..., -0.0441,  0.3366,  0.8131],\n",
      "        [ 0.2736, -0.1072, -0.3923,  ..., -0.0943,  0.2902,  0.7703],\n",
      "        [ 0.1748, -0.2017, -0.4824,  ..., -0.1574,  0.2317,  0.7165]],\n",
      "       grad_fn=<ReshapeAliasBackward0>)\n",
      "tensor([ 9.0134e+00,  7.2108e+00,  5.4081e+00,  3.6054e+00,  1.8027e+00,\n",
      "         3.3356e-16, -1.8027e+00, -3.6054e+00, -5.4081e+00, -7.2108e+00,\n",
      "        -9.0134e+00])\n",
      "tensor([[ 0.0854,  0.6978,  1.9091,  ..., 21.7540, 27.1577, 33.1602],\n",
      "        [ 0.0697,  0.7347,  2.0504,  ..., 23.6093, 29.4799, 36.0013],\n",
      "        [ 0.0542,  0.7704,  2.1878,  ..., 25.4162, 31.7416, 38.7681],\n",
      "        ...,\n",
      "        [ 0.3109,  0.3146,  0.7185,  ..., 11.5490, 14.7552, 18.3617],\n",
      "        [ 0.3079,  0.3150,  0.7218,  ..., 11.5606, 14.7667, 18.3726],\n",
      "        [ 0.3052,  0.3155,  0.7236,  ..., 11.5237, 14.7157, 18.3055]],\n",
      "       grad_fn=<ReshapeAliasBackward0>)\n",
      "tensor([-9.0134e+00, -7.2108e+00, -5.4081e+00, -3.6054e+00, -1.8027e+00,\n",
      "        -3.3356e-16,  1.8027e+00,  3.6054e+00,  5.4081e+00,  7.2108e+00,\n",
      "         9.0134e+00])\n",
      "tensor([[2.4702, 2.2592, 2.0432,  ..., 0.6400, 0.3883, 0.1316],\n",
      "        [2.4939, 2.2734, 2.0496,  ..., 0.6378, 0.3910, 0.1409],\n",
      "        [2.5198, 2.2894, 2.0578,  ..., 0.6420, 0.4017, 0.1602],\n",
      "        ...,\n",
      "        [0.0149, 0.0942, 0.2412,  ..., 2.5430, 3.1633, 3.8513],\n",
      "        [0.0480, 0.1282, 0.2755,  ..., 2.5696, 3.1870, 3.8715],\n",
      "        [0.0788, 0.1594, 0.3066,  ..., 2.5903, 3.2042, 3.8849]],\n",
      "       grad_fn=<ReshapeAliasBackward0>)\n",
      "tensor([ 9.0134e+00,  7.2108e+00,  5.4081e+00,  3.6054e+00,  1.8027e+00,\n",
      "         3.3356e-16, -1.8027e+00, -3.6054e+00, -5.4081e+00, -7.2108e+00,\n",
      "        -9.0134e+00])\n",
      "tensor([[ 3.4677e-01,  5.5998e-02, -3.1041e-01,  ..., -4.0971e+00,\n",
      "         -4.9929e+00, -5.9644e+00],\n",
      "        [ 3.4613e-01,  5.6979e-02, -3.0040e-01,  ..., -3.8775e+00,\n",
      "         -4.7125e+00, -5.6157e+00],\n",
      "        [ 3.4523e-01,  5.8688e-02, -2.8766e-01,  ..., -3.6215e+00,\n",
      "         -4.3864e+00, -5.2112e+00],\n",
      "        ...,\n",
      "        [ 1.4825e-01,  4.8379e-03,  2.8020e-01,  ...,  1.0727e+01,\n",
      "          1.3933e+01,  1.7559e+01],\n",
      "        [ 1.4927e-01,  4.7308e-03,  2.8115e-01,  ...,  1.0780e+01,\n",
      "          1.4003e+01,  1.7647e+01],\n",
      "        [ 1.5040e-01,  4.8470e-03,  2.8187e-01,  ...,  1.0818e+01,\n",
      "          1.4053e+01,  1.7711e+01]], grad_fn=<ReshapeAliasBackward0>)\n"
     ]
    },
    {
     "data": {
      "image/png": "[encoded data removed]",
      "text/plain": [
       "<Figure size 600x300 with 2 Axes>"
      ]
     },
     "metadata": {},
     "output_type": "display_data"
    }
   ],
   "source": [
    "from emitopt.utils import post_path_emit_squared_thick_quad\n",
    "\n",
    "fig, axs = plt.subplots(1, ndim-1)\n",
    "if ndim == 2: axs = [axs]\n",
    "    \n",
    "fig.set_size_inches(3*(ndim-1), 3)\n",
    "\n",
    "for scan_dim in range(ndim-1):\n",
    "    X_tuning_scan = X_tuned.repeat(100,1)\n",
    "    ls = torch.linspace(-2,2,100)\n",
    "    X_tuning_scan[:,scan_dim] = ls\n",
    "    X_meas = torch.linspace(-3,3,11)\n",
    "\n",
    "    emit_sq_x = post_path_emit_squared_thick_quad(optimizer.generator.algorithm_results['post_paths_cpu_xy'][0], \n",
    "                              1*optimizer.generator.algorithm.scale_factor, \n",
    "                              optimizer.generator.algorithm.q_len, \n",
    "                              optimizer.generator.algorithm.distance, \n",
    "                              X_tuning_scan.cpu(), meas_dim, X_meas.cpu(), samplewise=False)[0]\n",
    "    emit_sq_y = post_path_emit_squared_thick_quad(optimizer.generator.algorithm_results['post_paths_cpu_xy'][1], \n",
    "                              -1*optimizer.generator.algorithm.scale_factor, \n",
    "                              optimizer.generator.algorithm.q_len, \n",
    "                              optimizer.generator.algorithm.distance, \n",
    "                              X_tuning_scan.cpu(), meas_dim, X_meas.cpu(), samplewise=False)[0]\n",
    "    geo_mean_emit = torch.sqrt(emit_sq_x.abs().sqrt() * emit_sq_y.abs().sqrt())\n",
    "    \n",
    "    ax = axs[scan_dim]\n",
    "    \n",
    "#     ax.plot(ls.cpu(), (toy_emit_nd(ls.reshape(-1,1))**2).cpu(), c='k', label='Ground truth') #this ground truth isn't exactly the matching cross-section but it should be close\n",
    "    gt_emits = ground_truth_geometric_mean_emittance(emit_min=9.033454852412253e-09, x_tuning=X_tuning_scan)\n",
    "    ax.plot(ls, gt_emits, c='k', label='ground truth')\n",
    "#     ax.plot(ls, 9.033454852412253e-09 * (1+ls.abs())**2, c='k', label='ground truth')\n",
    "    ax.plot(ls.cpu(), geo_mean_emit[sid].detach().cpu()*1.e-6, label='Sample ' + str(sid))\n",
    "    ax.axvline(X_tuned[0,scan_dim].cpu(), c='r', label='Sample optimization result')\n",
    "    ax.axhline(0, c='k', ls='--', label='physical cutoff')\n",
    "    \n",
    "    ax.set_xlabel('tuning param ' + str(scan_dim))\n",
    "    \n",
    "    if scan_dim == 0:\n",
    "        ax.set_ylabel('$\\sqrt{\\epsilon_x\\epsilon_y}$')\n",
    "        ax.legend()\n",
    "    \n",
    "plt.tight_layout()\n",
    "plt.show()\n"
   ]
  },
  {
   "cell_type": "markdown",
   "id": "20af9764",
   "metadata": {},
   "source": [
    "# Plot posterior mean model of geometric mean emttance x&y"
   ]
  },
  {
   "cell_type": "code",
   "execution_count": 18,
   "id": "92b195f4",
   "metadata": {},
   "outputs": [
    {
     "data": {
      "image/png": "[encoded data removed]",
      "text/plain": [
       "<Figure size 600x300 with 2 Axes>"
      ]
     },
     "metadata": {},
     "output_type": "display_data"
    }
   ],
   "source": [
    "from emitopt.utils import post_mean_emit_squared_thick_quad\n",
    "\n",
    "fig, axs = plt.subplots(1, ndim-1)\n",
    "if ndim == 2: axs = [axs]\n",
    "    \n",
    "fig.set_size_inches(3*(ndim-1), 3)\n",
    "\n",
    "for scan_dim in range(ndim-1):\n",
    "    X_tuning_scan = X_tuned.repeat(100,1)\n",
    "    ls = torch.linspace(-2,2,100)\n",
    "    X_tuning_scan[:,scan_dim] = ls\n",
    "    X_meas = torch.linspace(-3,3,11)\n",
    "\n",
    "    emit_sq_x = post_mean_emit_squared_thick_quad(\n",
    "        model=beam_size_model_x,\n",
    "        scale_factor=1*optimizer.generator.algorithm.scale_factor,\n",
    "        q_len=optimizer.generator.algorithm.q_len,\n",
    "        distance=optimizer.generator.algorithm.distance,\n",
    "        x_tuning=X_tuning_scan.cpu(),\n",
    "        meas_dim=meas_dim,\n",
    "        x_meas=X_meas.cpu(),\n",
    "    )[0]\n",
    "    emit_sq_y = post_mean_emit_squared_thick_quad(\n",
    "        model=beam_size_model_y,\n",
    "        scale_factor=-1*optimizer.generator.algorithm.scale_factor,\n",
    "        q_len=optimizer.generator.algorithm.q_len,\n",
    "        distance=optimizer.generator.algorithm.distance,\n",
    "        x_tuning=X_tuning_scan.cpu(),\n",
    "        meas_dim=meas_dim,\n",
    "        x_meas=X_meas.cpu(),\n",
    "    )[0]    \n",
    "    geo_mean_emit = torch.sqrt(emit_sq_x.abs().sqrt() * emit_sq_y.abs().sqrt())\n",
    "    ax = axs[scan_dim]\n",
    "    \n",
    "#     ax.plot(ls.cpu(), (toy_emit_nd(ls.reshape(-1,1))**2).cpu(), c='k', label='Ground truth') #this ground truth isn't exactly the matching cross-section but it should be close\n",
    "\n",
    "#     ax.plot(ls, 9.033454852412253e-09 * (1+ls.abs())**2, c='k', label='ground truth')\n",
    "    gt_emits = ground_truth_geometric_mean_emittance(emit_min=9.033454852412253e-09, x_tuning=X_tuning_scan)\n",
    "    ax.plot(ls, gt_emits, c='k', label='ground truth')\n",
    "    ax.plot(ls.cpu(), geo_mean_emit.detach().cpu()*1.e-6, label='GP mean')\n",
    "    ax.axhline(0, c='k', ls='--', label='physical cutoff')\n",
    "    \n",
    "    ax.set_xlabel('tuning param ' + str(scan_dim))\n",
    "    \n",
    "    if scan_dim == 0:\n",
    "        ax.set_ylabel('$\\sqrt{\\epsilon_x\\epsilon_y}$')\n",
    "        ax.legend()\n",
    "    \n",
    "plt.tight_layout()\n",
    "plt.show()"
   ]
  },
  {
   "cell_type": "code",
   "execution_count": null,
   "id": "a1825a47",
   "metadata": {},
   "outputs": [],
   "source": []
  },
  {
   "cell_type": "code",
   "execution_count": 45,
   "id": "4241280f",
   "metadata": {},
   "outputs": [
    {
     "data": {
      "text/plain": [
       "tensor([[ 0.2198, -0.0338]])"
      ]
     },
     "execution_count": 45,
     "metadata": {},
     "output_type": "execute_result"
    }
   ],
   "source": [
    "X_tuned = optimizer.generator.algorithm_results['x_stars'][sid:sid+1, :]\n",
    "X_tuned"
   ]
  },
  {
   "cell_type": "code",
   "execution_count": 46,
   "id": "2776849a",
   "metadata": {},
   "outputs": [
    {
     "name": "stdout",
     "output_type": "stream",
     "text": [
      "x_tuning: tensor([[ 0.2198, -0.0338]])\n"
     ]
    },
    {
     "data": {
      "image/png": "[encoded data removed]",
      "text/plain": [
       "<Figure size 640x480 with 1 Axes>"
      ]
     },
     "metadata": {},
     "output_type": "display_data"
    }
   ],
   "source": [
    "from emitopt.utils import get_meas_scan_inputs_from_tuning_configs\n",
    "x_meas = torch.linspace(-3,3,100)\n",
    "x_tuning = X_tuned\n",
    "# x_tuning = torch.tensor([[ 0., 0.]])\n",
    "# x_tuning = torch.tensor([[ 0., 0.]])\n",
    "x_meas_scan = get_meas_scan_inputs_from_tuning_configs(meas_dim=meas_dim, x_tuning=x_tuning, x_meas=x_meas)\n",
    "\n",
    "bss_posterior = beam_size_model_x.posterior(x_meas_scan)\n",
    "bss_mean = bss_posterior.mean.flatten().detach()\n",
    "bss_var = bss_posterior.variance.flatten().detach()\n",
    "plt.plot(x_meas, bss_mean.detach())\n",
    "plt.fill_between(x_meas, (bss_mean-bss_var.sqrt()), (bss_mean+bss_var.sqrt()), color='C0', alpha=0.3)\n",
    "plt.title('Mean-Square Beam Size GP Model Output')\n",
    "plt.xlabel('Measurement Quad Focusing Strength ($[k]=m^{-2}$)')\n",
    "plt.ylabel('Mean-Square Beam Size (mm)')\n",
    "print(\"x_tuning:\", x_tuning)\n",
    "# textstr = r\"$x_tuning=%d$\" % (x_tuning,)\n",
    "\n",
    "# # these are matplotlib.patch.Patch properties\n",
    "# props = dict(boxstyle=\"round\", facecolor=\"wheat\", alpha=0.5)\n",
    "\n",
    "# # place a text box in upper left in axes coords\n",
    "# plt.text(\n",
    "#     0.95,\n",
    "#     0.05,\n",
    "#     textstr,\n",
    "#     transform=ax.transAxes,\n",
    "#     fontsize=14,\n",
    "#     verticalalignment=\"bottom\",\n",
    "#     horizontalalignment=\"right\",\n",
    "#     bbox=props,\n",
    "# )"
   ]
  },
  {
   "cell_type": "code",
   "execution_count": 19,
   "id": "4d3ae9f4",
   "metadata": {},
   "outputs": [
    {
     "data": {
      "image/png": "[encoded data removed]",
      "text/plain": [
       "<Figure size 640x480 with 1 Axes>"
      ]
     },
     "metadata": {},
     "output_type": "display_data"
    },
    {
     "data": {
      "image/png": "[encoded data removed]",
      "text/plain": [
       "<Figure size 640x480 with 1 Axes>"
      ]
     },
     "metadata": {},
     "output_type": "display_data"
    }
   ],
   "source": [
    "from emitopt.utils import get_valid_geo_mean_emittance_samples_thick_quad\n",
    "\n",
    "\n",
    "for scan_dim in range(ndim-1):\n",
    "    X_tuning_scan = X_tuned.repeat(100,1)\n",
    "    ls = torch.linspace(-2,2,100)\n",
    "    X_tuning_scan[:,scan_dim] = ls\n",
    "    X_meas = torch.linspace(-3,3,11)\n",
    "    \n",
    "    emit_mean, emit_lower, emit_upper = torch.tensor([]), torch.tensor([]), torch.tensor([])\n",
    "    for i in range(len(X_tuning_scan)):\n",
    "        emit_valid, svr = get_valid_geo_mean_emittance_samples_thick_quad(\n",
    "            model=bax_model,\n",
    "            scale_factor=optimizer.generator.algorithm.scale_factor,\n",
    "            q_len=optimizer.generator.algorithm.q_len,\n",
    "            distance=optimizer.generator.algorithm.distance,\n",
    "            x_tuning=X_tuning_scan[i:i+1],\n",
    "            domain=optimizer.generator.vocs.bounds.T,\n",
    "            meas_dim=meas_dim,\n",
    "            n_samples=10000,\n",
    "            n_steps_quad_scan=10,\n",
    "            visualize=False,\n",
    "        )\n",
    "        mean = emit_valid.mean()\n",
    "        lower = torch.quantile(emit_valid, q=0.025)\n",
    "        upper = torch.quantile(emit_valid, q=0.975)\n",
    "        emit_mean = torch.cat((emit_mean, torch.tensor([mean])))\n",
    "        emit_lower = torch.cat((emit_lower, torch.tensor([lower])))\n",
    "        emit_upper = torch.cat((emit_upper, torch.tensor([upper])))\n",
    "\n",
    "#     plt.plot(ls, 9.033454852412253e-09 * (1+ls.abs())**2, c='k', label='ground truth')\n",
    "    gt_emits = ground_truth_geometric_mean_emittance(emit_min=9.033454852412253e-09, x_tuning=X_tuning_scan)\n",
    "    plt.plot(ls, gt_emits, c='k', label='ground truth')\n",
    "    plt.plot(ls, emit_mean*1.e-6, label='Valid Sampling Model')\n",
    "    plt.fill_between(ls, emit_lower*1.e-6, emit_upper*1.e-6, alpha=0.3)\n",
    "    plt.xlabel('tuning param ' + str(scan_dim))\n",
    "    plt.ylabel('$\\sqrt{\\epsilon_x\\epsilon_y}$')\n",
    "#     plt.ylim(0,1.81e-7)\n",
    "    plt.legend()\n",
    "    \n",
    "    plt.tight_layout()\n",
    "    plt.show()"
   ]
  },
  {
   "cell_type": "code",
   "execution_count": 58,
   "id": "7f32ae75",
   "metadata": {},
   "outputs": [
    {
     "data": {
      "text/plain": [
       "tensor([-0.1097, -0.1097, -0.1097, -0.1097, -0.1097, -0.1097, -0.1097, -0.1097,\n",
       "        -0.1097, -0.1097])"
      ]
     },
     "execution_count": 58,
     "metadata": {},
     "output_type": "execute_result"
    }
   ],
   "source": [
    "bss_model_x, bss_model_y = bax_model.models\n",
    "bss_x = bss_model_x.outcome_transform.untransform(bss_model_x.train_targets)[0]\n",
    "bss_y = bss_model_y.outcome_transform.untransform(bss_model_y.train_targets)[0]\n",
    "bss = torch.sqrt(bss_x * bss_y)\n",
    "x_smallest_observed_beamsize = bss_model_x._original_train_inputs[torch.argmin(bss)].reshape(1,-1)\n",
    "\n",
    "tuning_dims = list(range(vocs.bounds.shape[1]))\n",
    "tuning_dims.remove(meas_dim)\n",
    "tuning_dims = torch.tensor(tuning_dims)\n",
    "x_tuning_best = torch.index_select(x_smallest_observed_beamsize, dim=1, index=tuning_dims)\n",
    "x_tuning_best\n",
    "x_tuning_init = x_tuning_best.repeat(n_samples,1).flatten()\n",
    "x_tuning_init"
   ]
  },
  {
   "cell_type": "code",
   "execution_count": null,
   "id": "52a5b974",
   "metadata": {},
   "outputs": [],
   "source": [
    "bss_model_x, bss_model_y = model.models\n",
    "bss_x = bss_model_x.outcome_transform.untransform(bss_model_x.train_targets)[0]\n",
    "bss_y = bss_model_y.outcome_transform.untransform(bss_model_y.train_targets)[0]\n",
    "bss = torch.sqrt(bss_x * bss_y)\n",
    "x_smallest_observed_beamsize = bss_model_x._original_train_inputs[torch.argmin(bss)].reshape(1,-1)\n",
    "\n",
    "tuning_dims = list(range(bounds.shape[1]))\n",
    "tuning_dims.remove(meas_dim)\n",
    "tuning_dims = torch.tensor(tuning_dims)\n",
    "x_tuning_best = torch.index_select(x_smallest_observed_beamsize, dim=1, index=tuning_dims)\n",
    "x_tuning_init = x_tuning_best.repeat(n_samples,1).flatten()\n"
   ]
  },
  {
   "cell_type": "code",
   "execution_count": 28,
   "id": "68750b6f",
   "metadata": {},
   "outputs": [
    {
     "data": {
      "text/plain": [
       "array([[-2., -3., -2., -2.],\n",
       "       [ 2.,  3.,  2.,  2.]])"
      ]
     },
     "execution_count": 28,
     "metadata": {},
     "output_type": "execute_result"
    }
   ],
   "source": []
  },
  {
   "cell_type": "code",
   "execution_count": 53,
   "id": "7b3cd60a",
   "metadata": {},
   "outputs": [
    {
     "data": {
      "text/plain": [
       "[0]"
      ]
     },
     "execution_count": 53,
     "metadata": {},
     "output_type": "execute_result"
    }
   ],
   "source": [
    "tuning_dims = list(range(vocs.bounds.shape[1]))\n",
    "tuning_dims.remove(meas_dim)\n",
    "tuning_dims"
   ]
  },
  {
   "cell_type": "code",
   "execution_count": 24,
   "id": "e134fc44",
   "metadata": {},
   "outputs": [
    {
     "data": {
      "text/plain": [
       "tensor([[ 0.2560,  1.0180],\n",
       "        [ 1.8963,  1.7721],\n",
       "        [-0.1986, -0.7156],\n",
       "        [ 0.2587,  1.2021],\n",
       "        [ 0.3185,  1.3990],\n",
       "        [-0.3192,  2.5306],\n",
       "        [ 0.3152,  2.7959],\n",
       "        [ 0.3188, -2.5670],\n",
       "        [ 0.1120,  3.0000],\n",
       "        [ 0.2625, -1.6433],\n",
       "        [ 0.2587, -3.0000],\n",
       "        [ 0.2466,  1.6852],\n",
       "        [ 0.2813, -0.9876],\n",
       "        [ 0.2303,  3.0000],\n",
       "        [ 0.2629, -1.0331],\n",
       "        [ 0.2565,  0.2174],\n",
       "        [ 0.2627, -2.0131],\n",
       "        [ 0.2549,  1.2289],\n",
       "        [-0.2007,  1.7828],\n",
       "        [ 0.2504, -2.3205],\n",
       "        [ 0.2364, -0.0105],\n",
       "        [ 0.3433,  1.3335],\n",
       "        [ 0.2566, -2.7943],\n",
       "        [ 0.2357,  2.5645],\n",
       "        [ 0.2411, -0.5509],\n",
       "        [ 0.2418, -2.0491],\n",
       "        [ 0.1951,  0.7680],\n",
       "        [ 0.1943, -1.9778],\n",
       "        [ 0.2378,  2.8755],\n",
       "        [ 0.2188,  1.2120],\n",
       "        [ 0.2260, -3.0000],\n",
       "        [ 0.1828,  1.2987],\n",
       "        [ 0.2363, -1.0324],\n",
       "        [ 0.2639,  2.0646],\n",
       "        [ 0.2224, -1.5779],\n",
       "        [ 0.2214, -1.5474],\n",
       "        [ 0.2227,  2.0282],\n",
       "        [ 0.1704, -1.7196],\n",
       "        [ 0.1396,  0.3312],\n",
       "        [ 0.1775, -2.4394],\n",
       "        [ 0.1698,  2.1522],\n",
       "        [ 0.1696, -2.6889],\n",
       "        [ 0.1738,  1.9331],\n",
       "        [ 0.1722, -0.3024],\n",
       "        [ 0.1319, -2.6485],\n",
       "        [ 0.1286, -0.1708],\n",
       "        [ 0.1118,  1.2855],\n",
       "        [ 0.1220, -1.7224],\n",
       "        [ 0.1173,  1.3433],\n",
       "        [ 0.0995, -2.3061],\n",
       "        [ 0.0809,  1.6540],\n",
       "        [ 0.0911, -0.6359],\n",
       "        [ 0.0590,  2.2119],\n",
       "        [ 0.1081, -3.0000],\n",
       "        [ 0.1213,  2.4307]])"
      ]
     },
     "execution_count": 24,
     "metadata": {},
     "output_type": "execute_result"
    }
   ],
   "source": [
    "bss_model_x, bss_model_y = model.models\n",
    "bss_model_x.input_transform.untransform(bss_model_x.train_inputs[0])"
   ]
  },
  {
   "cell_type": "code",
   "execution_count": 21,
   "id": "c2a83e16",
   "metadata": {},
   "outputs": [
    {
     "data": {
      "text/plain": [
       "tensor([[-0.0469, -0.2030, -0.0585],\n",
       "        [-0.0671, -0.2061, -0.0548],\n",
       "        [-0.0604, -0.2116, -0.0548],\n",
       "        [-0.0644, -0.2111, -0.0519],\n",
       "        [-0.0586, -0.2191, -0.0403],\n",
       "        [-0.0609, -0.2187, -0.0571],\n",
       "        [-0.0600, -0.2160, -0.0438],\n",
       "        [-0.0505, -0.2053, -0.0541],\n",
       "        [-0.0587, -0.2131, -0.0548],\n",
       "        [-0.0565, -0.2064, -0.0530]])"
      ]
     },
     "execution_count": 21,
     "metadata": {},
     "output_type": "execute_result"
    }
   ],
   "source": [
    "optimizer.generator.algorithm_results['x_stars']"
   ]
  },
  {
   "cell_type": "code",
   "execution_count": 40,
   "id": "9b10375b",
   "metadata": {},
   "outputs": [
    {
     "data": {
      "text/plain": [
       "tensor([[ 0.2560,  1.0180],\n",
       "        [ 1.8963,  1.7721],\n",
       "        [-0.1986, -0.7156],\n",
       "        [ 0.2587,  1.2021],\n",
       "        [ 0.3185,  1.3990],\n",
       "        [-1.7815,  0.9012],\n",
       "        [ 0.8566, -0.2661],\n",
       "        [-1.3724, -0.8278],\n",
       "        [-0.3147, -0.8555],\n",
       "        [-0.7083,  0.6740],\n",
       "        [ 0.5376, -2.1555],\n",
       "        [ 0.2078, -2.1212],\n",
       "        [ 0.9968,  2.4896],\n",
       "        [-0.2049,  1.0317],\n",
       "        [ 1.4390, -2.0089],\n",
       "        [-1.8156, -3.0000],\n",
       "        [ 0.7799,  2.9927],\n",
       "        [ 0.2980,  3.0000],\n",
       "        [-0.2594, -3.0000],\n",
       "        [-0.1097, -1.5611],\n",
       "        [ 0.4927,  1.8555],\n",
       "        [-0.4226,  2.6019],\n",
       "        [ 1.6686, -0.5787],\n",
       "        [ 0.1038,  2.2395],\n",
       "        [ 0.9231, -3.0000],\n",
       "        [ 1.2025,  1.9304],\n",
       "        [-1.9846,  2.5058],\n",
       "        [ 1.8156, -2.4964],\n",
       "        [ 0.1948, -2.4973],\n",
       "        [-0.1724,  2.4261],\n",
       "        [-0.6865,  2.9858],\n",
       "        [ 1.3775,  2.3977],\n",
       "        [-0.9643,  2.1539],\n",
       "        [-1.6850,  2.7211],\n",
       "        [-0.5988, -2.4703],\n",
       "        [-0.3471, -0.4973],\n",
       "        [-1.2155,  1.9912],\n",
       "        [ 1.6291,  2.6534],\n",
       "        [-0.4194, -0.4804],\n",
       "        [-1.0945, -2.3137],\n",
       "        [-1.1048, -0.0241],\n",
       "        [-0.6976, -1.4258],\n",
       "        [-0.2302,  2.0352],\n",
       "        [-0.8610, -2.5139],\n",
       "        [-0.6076,  1.0418],\n",
       "        [-1.4628,  1.9093],\n",
       "        [-1.2661, -3.0000],\n",
       "        [-1.5215, -1.4676],\n",
       "        [-0.8656,  0.7123],\n",
       "        [-0.9105,  2.4040],\n",
       "        [-1.4261,  2.6084],\n",
       "        [-1.1020,  2.3060],\n",
       "        [ 0.9931, -0.7423],\n",
       "        [-1.4873, -0.3122],\n",
       "        [ 1.2894, -0.9546]])"
      ]
     },
     "execution_count": 40,
     "metadata": {},
     "output_type": "execute_result"
    }
   ],
   "source": [
    "bss_model_x._original_train_inputs"
   ]
  },
  {
   "cell_type": "code",
   "execution_count": 41,
   "id": "675e7bf3",
   "metadata": {},
   "outputs": [
    {
     "ename": "AttributeError",
     "evalue": "'SingleTaskGP' object has no attribute '_original_train_targets'",
     "output_type": "error",
     "traceback": [
      "\u001b[1;31m---------------------------------------------------------------------------\u001b[0m",
      "\u001b[1;31mAttributeError\u001b[0m                            Traceback (most recent call last)",
      "File \u001b[1;32m~\\AppData\\Roaming\\Python\\Python39\\site-packages\\gpytorch\\module.py:437\u001b[0m, in \u001b[0;36mModule.__getattr__\u001b[1;34m(self, name)\u001b[0m\n\u001b[0;32m    436\u001b[0m \u001b[38;5;28;01mtry\u001b[39;00m:\n\u001b[1;32m--> 437\u001b[0m     \u001b[38;5;28;01mreturn\u001b[39;00m \u001b[38;5;28;43msuper\u001b[39;49m\u001b[43m(\u001b[49m\u001b[43m)\u001b[49m\u001b[38;5;241;43m.\u001b[39;49m\u001b[38;5;21;43m__getattribute__\u001b[39;49m\u001b[43m(\u001b[49m\u001b[43mname\u001b[49m\u001b[43m)\u001b[49m\n\u001b[0;32m    438\u001b[0m \u001b[38;5;28;01mexcept\u001b[39;00m \u001b[38;5;167;01mAttributeError\u001b[39;00m:\n",
      "\u001b[1;31mAttributeError\u001b[0m: 'SingleTaskGP' object has no attribute '_original_train_targets'",
      "\nDuring handling of the above exception, another exception occurred:\n",
      "\u001b[1;31mAttributeError\u001b[0m                            Traceback (most recent call last)",
      "Cell \u001b[1;32mIn[41], line 1\u001b[0m\n\u001b[1;32m----> 1\u001b[0m \u001b[43mbss_model_x\u001b[49m\u001b[38;5;241;43m.\u001b[39;49m\u001b[43m_original_train_targets\u001b[49m\n",
      "File \u001b[1;32m~\\AppData\\Roaming\\Python\\Python39\\site-packages\\gpytorch\\module.py:439\u001b[0m, in \u001b[0;36mModule.__getattr__\u001b[1;34m(self, name)\u001b[0m\n\u001b[0;32m    437\u001b[0m     \u001b[38;5;28;01mreturn\u001b[39;00m \u001b[38;5;28msuper\u001b[39m()\u001b[38;5;241m.\u001b[39m\u001b[38;5;21m__getattribute__\u001b[39m(name)\n\u001b[0;32m    438\u001b[0m \u001b[38;5;28;01mexcept\u001b[39;00m \u001b[38;5;167;01mAttributeError\u001b[39;00m:\n\u001b[1;32m--> 439\u001b[0m     \u001b[38;5;28;01mraise\u001b[39;00m e\n",
      "File \u001b[1;32m~\\AppData\\Roaming\\Python\\Python39\\site-packages\\gpytorch\\module.py:434\u001b[0m, in \u001b[0;36mModule.__getattr__\u001b[1;34m(self, name)\u001b[0m\n\u001b[0;32m    432\u001b[0m \u001b[38;5;28;01mdef\u001b[39;00m \u001b[38;5;21m__getattr__\u001b[39m(\u001b[38;5;28mself\u001b[39m, name):\n\u001b[0;32m    433\u001b[0m     \u001b[38;5;28;01mtry\u001b[39;00m:\n\u001b[1;32m--> 434\u001b[0m         \u001b[38;5;28;01mreturn\u001b[39;00m \u001b[38;5;28;43msuper\u001b[39;49m\u001b[43m(\u001b[49m\u001b[43m)\u001b[49m\u001b[38;5;241;43m.\u001b[39;49m\u001b[38;5;21;43m__getattr__\u001b[39;49m\u001b[43m(\u001b[49m\u001b[43mname\u001b[49m\u001b[43m)\u001b[49m\n\u001b[0;32m    435\u001b[0m     \u001b[38;5;28;01mexcept\u001b[39;00m \u001b[38;5;167;01mAttributeError\u001b[39;00m \u001b[38;5;28;01mas\u001b[39;00m e:\n\u001b[0;32m    436\u001b[0m         \u001b[38;5;28;01mtry\u001b[39;00m:\n",
      "File \u001b[1;32m~\\anaconda3\\envs\\xopt-dev\\lib\\site-packages\\torch\\nn\\modules\\module.py:1269\u001b[0m, in \u001b[0;36mModule.__getattr__\u001b[1;34m(self, name)\u001b[0m\n\u001b[0;32m   1267\u001b[0m     \u001b[38;5;28;01mif\u001b[39;00m name \u001b[38;5;129;01min\u001b[39;00m modules:\n\u001b[0;32m   1268\u001b[0m         \u001b[38;5;28;01mreturn\u001b[39;00m modules[name]\n\u001b[1;32m-> 1269\u001b[0m \u001b[38;5;28;01mraise\u001b[39;00m \u001b[38;5;167;01mAttributeError\u001b[39;00m(\u001b[38;5;124m\"\u001b[39m\u001b[38;5;124m'\u001b[39m\u001b[38;5;132;01m{}\u001b[39;00m\u001b[38;5;124m'\u001b[39m\u001b[38;5;124m object has no attribute \u001b[39m\u001b[38;5;124m'\u001b[39m\u001b[38;5;132;01m{}\u001b[39;00m\u001b[38;5;124m'\u001b[39m\u001b[38;5;124m\"\u001b[39m\u001b[38;5;241m.\u001b[39mformat(\n\u001b[0;32m   1270\u001b[0m     \u001b[38;5;28mtype\u001b[39m(\u001b[38;5;28mself\u001b[39m)\u001b[38;5;241m.\u001b[39m\u001b[38;5;18m__name__\u001b[39m, name))\n",
      "\u001b[1;31mAttributeError\u001b[0m: 'SingleTaskGP' object has no attribute '_original_train_targets'"
     ]
    }
   ],
   "source": [
    "bss_model_x._original_train_targets"
   ]
  },
  {
   "cell_type": "code",
   "execution_count": 23,
   "id": "60f129fa",
   "metadata": {},
   "outputs": [
    {
     "data": {
      "text/plain": [
       "tensor([0.1151, 0.1065, 0.1132, 0.1187, 0.1192, 0.1171, 0.1143, 0.1111, 0.1068,\n",
       "        0.1025, 0.0977, 0.0921, 0.0872, 0.0815, 0.0759, 0.0715, 0.0676, 0.0639,\n",
       "        0.0598, 0.0551, 0.0498, 0.0453, 0.0436, 0.0453, 0.0475, 0.0485, 0.0481,\n",
       "        0.0468, 0.0447, 0.0426, 0.0403, 0.0382, 0.0368, 0.0357, 0.0345, 0.0331,\n",
       "        0.0314, 0.0293, 0.0273, 0.0256, 0.0243, 0.0234, 0.0222, 0.0208, 0.0187,\n",
       "        0.0162, 0.0141, 0.0128, 0.0115, 0.0106, 0.0104, 0.0115, 0.0128, 0.0141,\n",
       "        0.0158, 0.0176, 0.0192, 0.0211, 0.0226, 0.0238, 0.0246, 0.0257, 0.0268,\n",
       "        0.0277, 0.0284, 0.0285, 0.0279, 0.0277, 0.0281, 0.0284, 0.0289, 0.0296,\n",
       "        0.0313, 0.0341, 0.0366, 0.0388, 0.0416, 0.0455, 0.0490, 0.0517, 0.0537,\n",
       "        0.0561, 0.0592, 0.0630, 0.0668, 0.0705, 0.0738, 0.0762, 0.0787, 0.0820,\n",
       "        0.0858, 0.0905, 0.0959, 0.1017, 0.1069, 0.1107, 0.1134, 0.1156, 0.1163,\n",
       "        0.1223])"
      ]
     },
     "execution_count": 23,
     "metadata": {},
     "output_type": "execute_result"
    }
   ],
   "source": [
    "emit_mean"
   ]
  },
  {
   "cell_type": "code",
   "execution_count": 20,
   "id": "26383f38",
   "metadata": {},
   "outputs": [
    {
     "data": {
      "text/plain": [
       "torch.Size([839020, 1])"
      ]
     },
     "execution_count": 20,
     "metadata": {},
     "output_type": "execute_result"
    }
   ],
   "source": [
    "emit_valid.shape"
   ]
  },
  {
   "cell_type": "code",
   "execution_count": 42,
   "id": "42400b69",
   "metadata": {},
   "outputs": [
    {
     "data": {
      "text/plain": [
       "tensor([2.7100e-08, 2.6735e-08, 2.6370e-08, 2.6005e-08, 2.5640e-08, 2.5275e-08,\n",
       "        2.4910e-08, 2.4545e-08, 2.4180e-08, 2.3815e-08, 2.3450e-08, 2.3085e-08,\n",
       "        2.2721e-08, 2.2356e-08, 2.1991e-08, 2.1626e-08, 2.1261e-08, 2.0896e-08,\n",
       "        2.0531e-08, 2.0166e-08, 1.9801e-08, 1.9436e-08, 1.9071e-08, 1.8706e-08,\n",
       "        1.8341e-08, 1.7976e-08, 1.7611e-08, 1.7246e-08, 1.6881e-08, 1.6516e-08,\n",
       "        1.6151e-08, 1.5786e-08, 1.5421e-08, 1.5056e-08, 1.4691e-08, 1.4326e-08,\n",
       "        1.3961e-08, 1.3596e-08, 1.3231e-08, 1.2866e-08, 1.2501e-08, 1.2136e-08,\n",
       "        1.1771e-08, 1.1406e-08, 1.1041e-08, 1.0676e-08, 1.0311e-08, 9.9459e-09,\n",
       "        9.5809e-09, 9.2159e-09, 9.2159e-09, 9.5809e-09, 9.9459e-09, 1.0311e-08,\n",
       "        1.0676e-08, 1.1041e-08, 1.1406e-08, 1.1771e-08, 1.2136e-08, 1.2501e-08,\n",
       "        1.2866e-08, 1.3231e-08, 1.3596e-08, 1.3961e-08, 1.4326e-08, 1.4691e-08,\n",
       "        1.5056e-08, 1.5421e-08, 1.5786e-08, 1.6151e-08, 1.6516e-08, 1.6881e-08,\n",
       "        1.7246e-08, 1.7611e-08, 1.7976e-08, 1.8341e-08, 1.8706e-08, 1.9071e-08,\n",
       "        1.9436e-08, 1.9801e-08, 2.0166e-08, 2.0531e-08, 2.0896e-08, 2.1261e-08,\n",
       "        2.1626e-08, 2.1991e-08, 2.2356e-08, 2.2721e-08, 2.3085e-08, 2.3450e-08,\n",
       "        2.3815e-08, 2.4180e-08, 2.4545e-08, 2.4910e-08, 2.5275e-08, 2.5640e-08,\n",
       "        2.6005e-08, 2.6370e-08, 2.6735e-08, 2.7100e-08])"
      ]
     },
     "execution_count": 42,
     "metadata": {},
     "output_type": "execute_result"
    }
   ],
   "source": [
    "9.033454852412253e-09 * (1+ls.abs())"
   ]
  },
  {
   "cell_type": "code",
   "execution_count": 20,
   "id": "d7d4df14",
   "metadata": {},
   "outputs": [
    {
     "data": {
      "image/png": "[encoded data removed]",
      "text/plain": [
       "<Figure size 300x300 with 1 Axes>"
      ]
     },
     "metadata": {},
     "output_type": "display_data"
    }
   ],
   "source": [
    "from emitopt.utils import post_mean_emit_squared_thick_quad\n",
    "\n",
    "fig, axs = plt.subplots(1, ndim-1)\n",
    "if ndim == 2: axs = [axs]\n",
    "    \n",
    "fig.set_size_inches(3*(ndim-1), 3)\n",
    "\n",
    "for scan_dim in range(ndim-1):\n",
    "    X_tuning_scan = X_tuned.repeat(100,1)\n",
    "    ls = torch.linspace(-2,2,100)\n",
    "    X_tuning_scan[:,scan_dim] = ls\n",
    "    X_meas = torch.linspace(-3,3,11)\n",
    "\n",
    "    emits_sq = post_mean_emit_squared_thick_quad(\n",
    "        model=beam_size_model_y,\n",
    "        scale_factor=-1*optimizer.generator.algorithm.scale_factor,\n",
    "        q_len=optimizer.generator.algorithm.q_len,\n",
    "        distance=optimizer.generator.algorithm.distance,\n",
    "        x_tuning=X_tuning_scan.cpu(),\n",
    "        meas_dim=meas_dim,\n",
    "        x_meas=X_meas.cpu(),\n",
    "    )[0]\n",
    "    \n",
    "    ax = axs[scan_dim]\n",
    "    \n",
    "#     ax.plot(ls.cpu(), (toy_emit_nd(ls.reshape(-1,1))**2).cpu(), c='k', label='Ground truth') #this ground truth isn't exactly the matching cross-section but it should be close\n",
    "\n",
    "    ax.plot(ls.cpu(), emits_sq.detach().cpu().sqrt()*1.e-6, label='Sample ' + str(sid))\n",
    "    ax.axvline(X_tuned[0,scan_dim].cpu(), c='r', label='Sample optimization result')\n",
    "    ax.axhline(0, c='k', ls='--', label='physical cutoff')\n",
    "    \n",
    "    ax.set_xlabel('tuning param ' + str(scan_dim))\n",
    "    \n",
    "    if scan_dim == 0:\n",
    "        ax.set_ylabel('\"$\\epsilon$\"')\n",
    "        ax.legend()\n",
    "    \n",
    "plt.tight_layout()\n",
    "plt.show()"
   ]
  },
  {
   "cell_type": "code",
   "execution_count": 37,
   "id": "329e1c94",
   "metadata": {},
   "outputs": [
    {
     "data": {
      "text/plain": [
       "(tensor([[37.1184]]),\n",
       " tensor([[10.4638]]),\n",
       " tensor([[[23.6403],\n",
       "          [ 0.9856],\n",
       "          [58.3219]]]),\n",
       " tensor([True]))"
      ]
     },
     "execution_count": 37,
     "metadata": {},
     "output_type": "execute_result"
    }
   ],
   "source": [
    "from emitopt.utils import compute_emit_bmag_thick_quad\n",
    "k = torch.tensor([ 40., -10., -60.])\n",
    "y_batch = torch.tensor([[1777.4973,  680.4423, 8194.3948]])\n",
    "compute_emit_bmag_thick_quad(k, y_batch, q_len, distance)"
   ]
  },
  {
   "cell_type": "code",
   "execution_count": 23,
   "id": "061b3aa3",
   "metadata": {},
   "outputs": [
    {
     "data": {
      "text/plain": [
       "tensor([[ 1.0000,  1.0000],\n",
       "        [ 1.0000, -3.0000],\n",
       "        [-0.2361,  0.3363],\n",
       "        [-0.1264, -0.1065],\n",
       "        [ 0.0420, -0.2993],\n",
       "        [-0.2420, -0.4340],\n",
       "        [-3.0000,  1.0000],\n",
       "        [ 0.6247,  0.4942],\n",
       "        [ 0.0353,  0.2425],\n",
       "        [ 0.5291,  1.0000]])"
      ]
     },
     "execution_count": 23,
     "metadata": {},
     "output_type": "execute_result"
    }
   ],
   "source": [
    "optimizer.generator.algorithm_results['x_stars']"
   ]
  },
  {
   "cell_type": "code",
   "execution_count": null,
   "id": "17f09698",
   "metadata": {},
   "outputs": [],
   "source": [
    "from emitopt.utils import plot_model_cross_section"
   ]
  },
  {
   "cell_type": "code",
   "execution_count": null,
   "id": "03bc07ae",
   "metadata": {},
   "outputs": [],
   "source": [
    "scan_dict = {'x0':[-3.0, 1.0], 'x1': [-40.0, 40.0], 'x2': 1., 'x3': 0.}\n",
    "plot_model_cross_section(beam_size_model, vocs, scan_dict, nx=50, ny=15)"
   ]
  },
  {
   "cell_type": "code",
   "execution_count": null,
   "id": "ee61d331",
   "metadata": {},
   "outputs": [],
   "source": [
    "from emitopt.utils import (propagate_sig, \n",
    "                            build_quad_rmat, fit_gp_quad_scan, \n",
    "                            plot_valid_thick_quad_fits\n",
    "                          )\n",
    "\n",
    "def compute_emit_bmag_thick_quad(k, y_batch, q_len, rmat_quad_to_screen, beta0=1., alpha0=0.):\n",
    "    \"\"\"\n",
    "    A function that computes the emittance(s) corresponding to a set of quadrupole measurement scans\n",
    "    using a thick quad model.\n",
    "\n",
    "    Parameters:\n",
    "        k: 1d torch tensor of shape (n_steps_quad_scan,)\n",
    "            representing the measurement quad geometric focusing strengths in [m^-2]\n",
    "            used in the emittance scan\n",
    "\n",
    "        y_batch: 2d torch tensor of shape (n_scans x n_steps_quad_scan),\n",
    "                where each row represents the mean-square beamsize outputs in [m^2] of an emittance scan\n",
    "                with inputs given by k\n",
    "\n",
    "        q_len: float defining the (longitudinal) quadrupole length or \"thickness\" in [m]\n",
    "         \n",
    "        rmat_quad_to_screen: the (fixed) 2x2 R matrix describing the transport from the end of the \n",
    "                measurement quad to the observation screen.\n",
    "\n",
    "        beta0: the design beta twiss parameter at the screen\n",
    "        \n",
    "        alpha0: the design alpha twiss parameter at the screen\n",
    "        \n",
    "    Returns:\n",
    "        emit: shape (n_scans x 1) containing the geometric emittance fit results for each scan\n",
    "        bmag_min: (n_scans x 1) containing the bmag corresponding to the optimal point for each scan\n",
    "        sig: shape (n_scans x 3 x 1) containing column vectors of [sig11, sig12, sig22]\n",
    "        is_valid: 1d tensor identifying physical validity of the emittance fit results\n",
    "        \n",
    "    SOURCE PAPER: http://www-library.desy.de/preparch/desy/thesis/desy-thesis-05-014.pdf\n",
    "    \"\"\"\n",
    "    \n",
    "    # construct the A matrix from eq. (3.2) & (3.3) of source paper\n",
    "    quad_rmats = build_quad_rmat(k, q_len) # result shape (len(k) x 2 x 2)\n",
    "    total_rmats = rmat_quad_to_screen.reshape(1,2,2) @ quad_rmats # result shape (len(k) x 2 x 2)\n",
    "    \n",
    "    amat = torch.tensor([]) # prepare the A matrix\n",
    "    for rmat in total_rmats:\n",
    "        r11, r12 = rmat[0,0], rmat[0,1]\n",
    "        amat = torch.cat((amat, torch.tensor([[r11**2, 2.*r11*r12, r12**2]])), dim=0)\n",
    "    # amat result shape (len(k) x 3)\n",
    "    \n",
    "    # get sigma matrix elements just before measurement quad from pseudo-inverse\n",
    "    sig = amat.pinverse().unsqueeze(0) @ y_batch.unsqueeze(-1) # shapes (1 x 3 x len(k)) @ (n_scans x len(k) x 1)\n",
    "    # result shape (n_scans x 3 x 1) containing column vectors of [sig11, sig12, sig22]\n",
    "    \n",
    "    # compute emit\n",
    "    emit = torch.sqrt(sig[:,0,0]*sig[:,2,0] - sig[:,1,0]**2).reshape(-1,1) # result shape (n_scans x 1)\n",
    "\n",
    "    # check sigma matrix and emit for physical validity\n",
    "    is_valid = torch.logical_and(sig[:,0,0] > 0, sig[:,2,0] > 0) # result 1d tensor\n",
    "    is_valid = torch.logical_and(is_valid, ~torch.isnan(emit.flatten())) # result 1d tensor\n",
    "    \n",
    "    # propagate beam parameters to screen\n",
    "    twiss_at_screen = propagate_sig(sig, emit, total_rmats)[1]\n",
    "    # result shape (n_scans x len(k) x 3 x 1)\n",
    "    \n",
    "    # get design gamma0 from design beta0, alpha0\n",
    "    gamma0 = (1 + alpha0**2) / beta0\n",
    "    \n",
    "    # compute bmag\n",
    "    bmag = 0.5 * (twiss_at_screen[:,:,0,0] * gamma0\n",
    "                - 2 * twiss_at_screen[:,:,1,0] * alpha0\n",
    "                + twiss_at_screen[:,:,2,0] * beta0\n",
    "               )\n",
    "    # result shape (n_scans, n_steps_quad_scan)\n",
    "    \n",
    "    # select minimum bmag from quad scan\n",
    "    bmag_min, bmag_min_id = torch.min(bmag, dim=1, keepdim=True) # result shape (n_scans, 1) \n",
    "    \n",
    "    return emit, bmag_min, sig, is_valid\n",
    "\n",
    "def get_valid_emit_bmag_samples_from_quad_scan(\n",
    "    k,\n",
    "    y,\n",
    "    q_len,\n",
    "    rmat_quad_to_screen,\n",
    "    beta0=1.,\n",
    "    alpha0=0.,\n",
    "    n_samples=10000,\n",
    "    n_steps_quad_scan=10,\n",
    "    covar_module=None,\n",
    "    visualize=False,\n",
    "    tkwargs=None,\n",
    "):\n",
    "    \"\"\"\n",
    "    A function that produces a distribution of possible (physically valid) emittance values corresponding\n",
    "    to a single quadrupole measurement scan. Data is first modeled by a SingleTaskGP, virtual measurement\n",
    "    scan samples are then drawn from the model posterior, the samples are modeled by thick-quad transport\n",
    "    to obtain fits to the beam parameters, and physically invalid results are discarded.\n",
    "\n",
    "    Parameters:\n",
    "\n",
    "        k: 1d numpy array of shape (n_steps_quad_scan,)\n",
    "        representing the measurement quad geometric focusing strengths in [m^-2]\n",
    "        used in the emittance scan\n",
    "\n",
    "        y: 1d numpy array of shape (n_steps_quad_scan, )\n",
    "            representing the root-mean-square beam size measurements in [m] of an emittance scan\n",
    "            with inputs given by k\n",
    "\n",
    "        q_len: float defining the (longitudinal) quadrupole length or \"thickness\" in [m]\n",
    "\n",
    "        rmat_quad_to_screen: the (fixed) 2x2 R matrix describing the transport from the end of the \n",
    "                measurement quad to the observation screen.\n",
    "\n",
    "        beta0: the design beta twiss parameter at the screen\n",
    "        \n",
    "        alpha0: the design alpha twiss parameter at the screen\n",
    "        \n",
    "        n_samples: the number of virtual measurement scan samples to evaluate for our \"Bayesian\" estimate\n",
    "\n",
    "        n_steps_quad_scan: the number of steps in our virtual measurement scans\n",
    "\n",
    "        covar_module: the covariance module to be used in fitting of the SingleTaskGP \n",
    "                    (modeling the function y**2 vs. k)\n",
    "                    If None, uses ScaleKernel(MaternKernel()).\n",
    "\n",
    "        visualize: boolean. Set to True to plot the parabolic fitting results.\n",
    "\n",
    "        tkwargs: dict containing the tensor device and dtype\n",
    "\n",
    "    Returns:\n",
    "        emits_valid: a tensor of physically valid emittance results from sampled measurement scans.\n",
    "\n",
    "        bmag_valid: (n_valid_scans x 1) containing the bmag corresponding to the optimal point \n",
    "                        from each physically valid fit.\n",
    "\n",
    "        sig_valid: tensor, shape (n_valid_scans x 3 x 1), containing the computed \n",
    "                        sig11, sig12, sig22 corresponding to each physically valid\n",
    "                        fit.\n",
    "\n",
    "        sample_validity_rate: a float between 0 and 1 that describes the rate at which the samples\n",
    "                        were physically valid/retained.\n",
    "    \"\"\"\n",
    "    if tkwargs is None:\n",
    "        tkwargs = {\"dtype\": torch.double, \"device\": \"cpu\"}\n",
    "\n",
    "    k = torch.tensor(k, **tkwargs)\n",
    "    y = torch.tensor(y, **tkwargs)\n",
    "\n",
    "    k_virtual, bss = fit_gp_quad_scan(\n",
    "        k=k,\n",
    "        y=y,\n",
    "        n_samples=n_samples,\n",
    "        n_steps_quad_scan=n_steps_quad_scan,\n",
    "        covar_module=covar_module,\n",
    "        tkwargs=tkwargs\n",
    "    )\n",
    "    \n",
    "    (emit, bmag, sig, is_valid) = compute_emit_bmag_thick_quad(k=k_virtual, \n",
    "                                                              y_batch=bss, \n",
    "                                                              q_len=q_len, \n",
    "                                                              rmat_quad_to_screen=rmat_quad_to_screen, \n",
    "                                                              beta0=beta0, \n",
    "                                                              alpha0=alpha0)\n",
    "\n",
    "    sample_validity_rate = (torch.sum(is_valid) / is_valid.shape[0]).reshape(1)\n",
    "\n",
    "    # filter on physical validity\n",
    "    cut_ids = torch.tensor(range(emit.shape[0]))[is_valid]\n",
    "    emit_valid = torch.index_select(emit, dim=0, index=cut_ids)\n",
    "    bmag_valid = torch.index_select(bmag, dim=0, index=cut_ids)\n",
    "    sig_valid = torch.index_select(sig, dim=0, index=cut_ids)\n",
    "\n",
    "    if visualize:\n",
    "        plot_valid_thick_quad_fits(k=k, \n",
    "                                   y=y, \n",
    "                                   q_len=q_len, \n",
    "                                   distance=distance,\n",
    "                                   emit=emit_valid, \n",
    "                                   bmag=bmag_valid,\n",
    "                                   sig=sig_valid, \n",
    "                                  )\n",
    "    return emit_valid, bmag_valid, sig_valid, sample_validity_rate\n",
    "\n",
    "def plot_valid_thick_quad_fits(k, y, q_len, rmat_quad_to_screen, emit, bmag, sig, ci=0.95, tkwargs=None):\n",
    "    \"\"\"\n",
    "    A function to plot the physically valid fit results\n",
    "    produced by get_valid_emit_bmag_samples_from_quad_scan().\n",
    "\n",
    "    Parameters:\n",
    "\n",
    "        k: 1d numpy array of shape (n_steps_quad_scan,)\n",
    "        representing the measurement quad geometric focusing strengths in [m^-2]\n",
    "        used in the emittance scan\n",
    "\n",
    "        y: 1d numpy array of shape (n_steps_quad_scan, )\n",
    "            representing the root-mean-square beam size measurements in [m] of an emittance scan\n",
    "            with inputs given by k\n",
    "\n",
    "        sig: tensor, shape (n_scans x 3 x 1), containing the computed sig11, sig12, sig22\n",
    "                corresponding to each measurement scan\n",
    "                \n",
    "        emit: shape (n_scans x 1) containing the geometric emittance fit results for each scan\n",
    "\n",
    "        q_len: float defining the (longitudinal) quadrupole length or \"thickness\" in [m]\n",
    "\n",
    "        rmat_quad_to_screen: the (fixed) 2x2 R matrix describing the transport from the end of the \n",
    "                measurement quad to the observation screen.\n",
    "                \n",
    "        ci: \"Confidence interval\" for plotting upper/lower quantiles.\n",
    "\n",
    "        tkwargs: dict containing the tensor device and dtype\n",
    "    \"\"\"\n",
    "    from matplotlib import pyplot as plt\n",
    "\n",
    "    if tkwargs is None:\n",
    "        tkwargs = {\"dtype\": torch.double, \"device\": \"cpu\"}\n",
    "\n",
    "    k_fit = torch.linspace(k.min(), k.max(), 10, **tkwargs)\n",
    "    quad_rmats = build_quad_rmat(k_fit, q_len) # result shape (len(k_fit) x 2 x 2)\n",
    "    total_rmats = rmat_quad_to_screen.reshape(1,2,2) @ quad_rmats # result shape (len(k_fit) x 2 x 2)\n",
    "    sig_final = propagate_sig(sig, emit, total_rmats)[0] # result shape len(sig) x len(k_fit) x 3 x 1\n",
    "    bss_fit = sig_final[:,:,0,0]\n",
    "\n",
    "    upper_quant = torch.quantile(bss_fit.sqrt(), q=0.5 + ci / 2.0, dim=0)\n",
    "    lower_quant = torch.quantile(bss_fit.sqrt(), q=0.5 - ci / 2.0, dim=0)\n",
    "    \n",
    "    fig, axs = plt.subplots(3)\n",
    "    fig.set_size_inches(5,9)\n",
    "    \n",
    "    ax=axs[0]\n",
    "    fit = ax.fill_between(\n",
    "        k_fit.detach().numpy(),\n",
    "        lower_quant*1.e6,\n",
    "        upper_quant*1.e6,\n",
    "        alpha=0.3,\n",
    "        label='\"Bayesian\" Thick-Quad Model',\n",
    "        zorder=1,\n",
    "    )\n",
    "    \n",
    "    obs = ax.scatter(\n",
    "        k, y*1.e6, marker=\"x\", s=120, c=\"orange\", label=\"Measurements\", zorder=2\n",
    "    )\n",
    "    ax.set_title(\"Beam Size at Screen\")\n",
    "    ax.set_xlabel(r\"Measurement Quad Geometric Focusing Strength ($[k]=m^{-2}$)\")\n",
    "    ax.set_ylabel(r\"r.m.s. Beam Size ($[\\sigma]=\\mu m$)\")\n",
    "    ax.legend(handles=[obs, fit])\n",
    "    \n",
    "    ax=axs[1]\n",
    "    ax.hist(emit.flatten(), density=True)\n",
    "    ax.set_title('Geometric Emittance Distribution')\n",
    "    ax.set_xlabel(r'Geometric Emittance ($[\\epsilon]=m*rad$)')\n",
    "    ax.set_ylabel('Probability Density')\n",
    "    \n",
    "    ax=axs[2]\n",
    "    ax.hist(bmag.flatten(), range=(1,5), bins=20, density=True)\n",
    "    ax.set_title(r'$\\beta_{mag}$ Distribution')\n",
    "    ax.set_xlabel(r'$\\beta_{mag}$ at Screen')\n",
    "    ax.set_ylabel('Probability Density')\n",
    "    \n",
    "    plt.tight_layout()\n",
    "    plt.show()\n",
    "    plt.close()"
   ]
  }
 ],
 "metadata": {
  "kernelspec": {
   "display_name": "Python 3 (ipykernel)",
   "language": "python",
   "name": "python3"
  },
  "language_info": {
   "codemirror_mode": {
    "name": "ipython",
    "version": 3
   },
   "file_extension": ".py",
   "mimetype": "text/x-python",
   "name": "python",
   "nbconvert_exporter": "python",
   "pygments_lexer": "ipython3",
   "version": "3.9.16"
  }
 },
 "nbformat": 4,
 "nbformat_minor": 5
}
