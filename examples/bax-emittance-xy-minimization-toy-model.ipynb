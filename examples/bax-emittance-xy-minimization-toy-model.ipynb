{
 "cells": [
  {
   "cell_type": "markdown",
   "id": "90ac8fe9",
   "metadata": {},
   "source": [
    "# Emittance minimization using Xopt with BAXGenerator running algorithm ScipyMinimizeEmittance\n",
    "In this notebook we demonstrate the use of Xopt to perform Bayesian Algorithm Execution (BAX) as a means of minimizing the emittance described by a simple optical beam size model. BAX is a generalization of Bayesian Optimization that seeks to acquire observations that provide our model with maximal information about our property of interest. In this example, our property of interest is the minimal emittance and its location in tuning-parameter-space. See https://arxiv.org/pdf/2209.04587.pdf for details."
   ]
  },
  {
   "cell_type": "markdown",
   "id": "7a2666c7",
   "metadata": {},
   "source": [
    "# Imports"
   ]
  },
  {
   "cell_type": "code",
   "execution_count": 1,
   "id": "0b2005f9",
   "metadata": {},
   "outputs": [],
   "source": [
    "# Ignore all warnings\n",
    "import warnings\n",
    "warnings.filterwarnings(\"ignore\")\n",
    "\n",
    "import sys\n",
    "# sys.path.append('C:\\\\Users\\\\Dylan\\\\SLAC') #parent directory containing emitopt module\n",
    "\n",
    "import matplotlib.pyplot as plt\n",
    "import os    \n",
    "os.environ['KMP_DUPLICATE_LIB_OK'] = 'True'\n",
    "\n",
    "import pandas as pd\n",
    "import torch\n",
    "\n",
    "from xopt import Xopt\n",
    "from xopt.vocs import VOCS\n",
    "from xopt.generators.bayesian.bax_generator import BaxGenerator\n",
    "\n",
    "from xopt.evaluator import Evaluator\n",
    "\n",
    "from emitopt.utils import (post_path_emit_squared,\n",
    "                           compute_emits,\n",
    "                           get_meas_scan_inputs_from_tuning_configs,\n",
    "                           get_valid_emittance_samples)\n",
    "from emitopt.sampling import draw_product_kernel_post_paths\n",
    "from emitopt.algorithms import ScipyMinimizeEmittanceXY\n",
    "\n",
    "import time\n",
    "import numpy as np\n",
    "import random"
   ]
  },
  {
   "cell_type": "markdown",
   "id": "d56d378d",
   "metadata": {},
   "source": [
    "# Use CUDA if available"
   ]
  },
  {
   "cell_type": "code",
   "execution_count": 2,
   "id": "ce9d65ee",
   "metadata": {},
   "outputs": [],
   "source": [
    "# if torch.cuda.is_available():\n",
    "if False:\n",
    "    torch.set_default_tensor_type('torch.cuda.DoubleTensor')\n",
    "    use_cuda = True\n",
    "else:\n",
    "    torch.set_default_tensor_type('torch.DoubleTensor')\n",
    "    use_cuda = False"
   ]
  },
  {
   "cell_type": "markdown",
   "id": "0c1f6014",
   "metadata": {},
   "source": [
    "# Notebook settings"
   ]
  },
  {
   "cell_type": "code",
   "execution_count": 3,
   "id": "e9323010",
   "metadata": {},
   "outputs": [],
   "source": [
    "ndim = 2 #number of input dimensions\n",
    "noise = False #whether to add noise to the ground-truth beam size function outputs\n",
    "meas_dim = 1 #input dimension for measurement parameter\n",
    "n_obs_init = 5 #number of random initial observations for GP model\n",
    "n_samples = 10 #number of posterior samples for BAX\n",
    "n_iter = 50 #number of optimization steps for Xopt to take (after acquiring random initial data)\n",
    "rand_seed = 2\n",
    "\n",
    "#random seeds for reproducibility \n",
    "torch.manual_seed(rand_seed)\n",
    "np.random.seed(rand_seed) #only affects initial random observations through Xopt\n",
    "random.seed(rand_seed)"
   ]
  },
  {
   "cell_type": "markdown",
   "id": "87785524",
   "metadata": {},
   "source": [
    "# Build test function from single-quadrupole optical beam size model \n",
    "Here we define a simple ground-truth beam size function for our optimization problem, where we attempt to find the location in tuning parameter space with minimal emittance. Note that the function \"test_func\" used to evaluate the ground-truth beam size function takes a dictionary as input and returns a dictionary as the output."
   ]
  },
  {
   "cell_type": "code",
   "execution_count": 4,
   "id": "f07e6370",
   "metadata": {},
   "outputs": [],
   "source": [
    "from pyemittance.emittance_calc import EmitCalc\n",
    "from pyemittance.load_json_configs import load_configs\n",
    "from pyemittance.simulation import BeamSim\n",
    "\n",
    "CONFIG = load_configs('LCLS2_OTR0H04')\n",
    "CONFIG['beamline_info']\n",
    "\n",
    "q_len = CONFIG['beamline_info']['Lquad']\n",
    "distance = CONFIG['beamline_info']['rMatx'][1]"
   ]
  },
  {
   "cell_type": "code",
   "execution_count": 5,
   "id": "141f4848",
   "metadata": {},
   "outputs": [],
   "source": [
    "BUNCH_PARAMS0 = {\n",
    "    'total_charge': 50e-12,\n",
    "    'norm_emit_x': 1e-6,\n",
    "    'norm_emit_y': 2e-6,\n",
    "    'beta_x': 10,\n",
    "    'alpha_x': -1,\n",
    "    'beta_y': 11,\n",
    "    'alpha_y': -2,\n",
    "    'energy': 80e6,\n",
    "    'species':'electron'\n",
    "}\n",
    "sim = BeamSim(bunch_params=BUNCH_PARAMS0, beamline_info=CONFIG['beamline_info'])\n",
    "\n",
    "\n",
    "# define variables functions\n",
    "var_names = ['x' + str(i) for i in range(ndim)]\n",
    "meas_param = var_names[meas_dim]\n",
    "\n",
    "def measure_beamsize(input_dict):\n",
    "    x_tuning = torch.tensor([])\n",
    "    for key in input_dict.keys():\n",
    "        if key is not meas_param:\n",
    "            x_tuning = torch.cat((x_tuning, torch.tensor([input_dict[key]])))\n",
    "    rms_beamsizes0 = np.array(sim.beam_size_meas(input_dict[meas_param]))\n",
    "    detuning_scale = 1. + x_tuning.abs().sum()\n",
    "    xrms, yrms = detuning_scale * rms_beamsizes0\n",
    "    return {'xrms_sq': float(xrms)**2.*1.e6,\n",
    "            'yrms_sq': float(yrms)**2.*1.e6} # mean-square beam sizes in mm squared"
   ]
  },
  {
   "cell_type": "code",
   "execution_count": 6,
   "id": "de1736c5",
   "metadata": {},
   "outputs": [
    {
     "data": {
      "text/plain": [
       "[array([0.56516435, 0.01566167]),\n",
       " array([0.10047318, 0.29068046]),\n",
       " array([0.01594597, 1.41311281])]"
      ]
     },
     "execution_count": 6,
     "metadata": {},
     "output_type": "execute_result"
    }
   ],
   "source": [
    "[np.array(sim.beam_size_meas(v))**2*1.e6 for v in np.linspace(-2,2,3)]"
   ]
  },
  {
   "cell_type": "code",
   "execution_count": 7,
   "id": "b73bcfe1",
   "metadata": {
    "scrolled": true
   },
   "outputs": [],
   "source": [
    "# # define test functions\n",
    "# var_names = ['x' + str(i) for i in range(ndim)]\n",
    "# meas_param = var_names[meas_dim]\n",
    "\n",
    "# beam_energy = 0.135\n",
    "# distance = torch.tensor(2.26).double()\n",
    "# q_len = torch.tensor(0.108).double()\n",
    "# s11 = torch.tensor(3e-6).double()\n",
    "# s12 = torch.tensor(1.5e-6).double()\n",
    "# s22 = torch.tensor(2e-6).double()\n",
    "# gt_min_emit = torch.sqrt(s11 * s22 - s12 ** 2)*1e6\n",
    "# print('Ground-Truth Minimum Emittance:', gt_min_emit.item())\n",
    "\n",
    "\n",
    "\n",
    "# def beam_size_squared(k, d, l, s11, s12, s22):\n",
    "#     return (\n",
    "#         (1.0 + k * d * l) ** 2 * s11 + 2.0 * (1.0 + d * l * k) * d * s12 + d ** 2 * s22\n",
    "#     )\n",
    "    \n",
    "# def toy_beam_size_squared_nd(x, meas_dim, noise=noise):\n",
    "    \n",
    "#     tuning_dims = list(range(x.shape[-1]))\n",
    "#     tuning_dims.remove(meas_dim)\n",
    "#     emit = torch.sqrt(s11 * s22 - s12 ** 2)\n",
    "#     bss = ((1 + torch.sum(x[:,tuning_dims]**2, dim=1) )* beam_size_squared(x[:,meas_dim], distance, q_len, s11, s12, s22)).reshape(-1,1) \n",
    "# #     bss = ( (1 + 9.*(1 - torch.exp(-0.5*(50.*torch.sum(x[:,tuning_dims]**2, dim=1))) ) ) * \n",
    "# #            beam_size_squared(x[:,meas_dim], distance, q_len, s11, s12, s22)\n",
    "# #           ).reshape(-1,1) \n",
    "#     bss *= 1.e6\n",
    "#     if noise:\n",
    "#         bss *= (1 + 0.05*torch.rand_like(bss))      \n",
    "#     return bss\n",
    "\n",
    "# def toy_emit_nd(X_tuning):\n",
    "# #     return ( 1 + 9.*(1 - torch.exp(-0.5*(50.*torch.sum(X_tuning**2, dim=1))) ) ) * gt_min_emit\n",
    "#     return (1 + torch.sum(X_tuning**2, dim=1) ) * gt_min_emit\n",
    "\n",
    "# def test_func(input_dict):\n",
    "#     x = torch.tensor(input_dict[meas_param]).reshape(-1,1)\n",
    "#     for key in input_dict.keys():\n",
    "#         if key is not meas_param:\n",
    "#             x = torch.cat((x, torch.tensor(input_dict[key]).reshape(-1,1)), dim=1)\n",
    "#     return {'x': float(toy_beam_size_squared_nd(x, 0).squeeze().cpu().numpy()),\n",
    "#             'y': float(toy_beam_size_squared_nd(x, 0).squeeze().cpu().numpy()),\n",
    "#            'emittance': float(toy_emit_nd(x[:,1:]).squeeze().cpu().numpy())}"
   ]
  },
  {
   "cell_type": "markdown",
   "id": "25d2c09a",
   "metadata": {},
   "source": [
    "# Construct vocs"
   ]
  },
  {
   "cell_type": "code",
   "execution_count": 8,
   "id": "6dfbf20e",
   "metadata": {},
   "outputs": [
    {
     "name": "stdout",
     "output_type": "stream",
     "text": [
      "variable_names = ['x0', 'x1']\n",
      "meas_param = 'x1'\n",
      "domain =\n",
      " [[-2.  2.]\n",
      " [-3.  3.]]\n"
     ]
    }
   ],
   "source": [
    "variables = {var_name: [-2,2] for var_name in var_names}\n",
    "variables[meas_param] = [-3,3] #overwrite bounds for measurement parameter to capture minimum of single-quadrupole optical model\n",
    "\n",
    "#construct vocs\n",
    "vocs = VOCS(\n",
    "    variables = variables,\n",
    "    observables = ['xrms_sq', 'yrms_sq']\n",
    ")\n",
    "\n",
    "print('variable_names =', vocs.variable_names)\n",
    "print('meas_param =', \"'\" + meas_param + \"'\")\n",
    "print('domain =\\n', vocs.bounds.T)"
   ]
  },
  {
   "cell_type": "markdown",
   "id": "e4651f47",
   "metadata": {},
   "source": [
    "# Prepare generator options.\n",
    "In this example, we use a specialty covariance module (Matern x Quadratic kernel) for our beam size model."
   ]
  },
  {
   "cell_type": "code",
   "execution_count": 9,
   "id": "02894212",
   "metadata": {},
   "outputs": [],
   "source": [
    "from gpytorch.kernels import MaternKernel, PolynomialKernel, ScaleKernel\n",
    "from gpytorch.priors.torch_priors import GammaPrior\n",
    "\n",
    "from xopt.generators.bayesian.models.standard import StandardModelConstructor\n",
    "from xopt.generators.bayesian.bax_generator import BaxGenerator\n",
    "from emitopt.algorithms import ScipyMinimizeEmittance\n",
    "\n",
    "# prepare custom covariance module\n",
    "tuning_dims = list(range(vocs.n_variables))\n",
    "tuning_dims.remove(meas_dim)\n",
    "covar_module_x = (MaternKernel(ard_num_dims=len(tuning_dims), \n",
    "                              active_dims=tuning_dims, \n",
    "                              lengthscale_prior=None) * \n",
    "                              PolynomialKernel(power=2, active_dims=[meas_dim])\n",
    "                 )\n",
    "\n",
    "scaled_covar_module_x = ScaleKernel(covar_module_x)#, outputscale_prior=GammaPrior(2.0, 0.15))\n",
    "covar_module_y = (MaternKernel(ard_num_dims=len(tuning_dims), \n",
    "                              active_dims=tuning_dims, \n",
    "                              lengthscale_prior=None) * \n",
    "                              PolynomialKernel(power=2, active_dims=[meas_dim])\n",
    "                 )\n",
    "scaled_covar_module_y =  ScaleKernel(covar_module_y)#, outputscale_prior=GammaPrior(2.0, 0.15))\n",
    "\n",
    "# prepare options for Xopt generator\n",
    "covar_module_dict = {'xrms_sq': scaled_covar_module_x,\n",
    "                     'yrms_sq': scaled_covar_module_y}\n",
    "\n",
    "model_constructor = StandardModelConstructor(covar_modules=covar_module_dict, use_low_noise_prior=True)"
   ]
  },
  {
   "cell_type": "code",
   "execution_count": 10,
   "id": "724571ae",
   "metadata": {},
   "outputs": [],
   "source": [
    "from xopt.numerical_optimizer import LBFGSOptimizer\n",
    "numerical_optimizer = LBFGSOptimizer(\n",
    "                                    n_raw_samples=20,\n",
    "                                    n_restarts=10,\n",
    "                                    max_iter=50)"
   ]
  },
  {
   "cell_type": "markdown",
   "id": "bd586df8",
   "metadata": {},
   "source": [
    "# Construct generator, evaluator, Xopt objects"
   ]
  },
  {
   "cell_type": "code",
   "execution_count": 11,
   "id": "7623bc33",
   "metadata": {},
   "outputs": [],
   "source": [
    "#Prepare Algorithm\n",
    "from emitopt.utils import get_quad_strength_conversion_factor\n",
    "scale_factor = get_quad_strength_conversion_factor(E=.08, q_len=q_len)\n",
    "# scale_factor = 1.\n",
    "algo_kwargs = {\n",
    "        'model_names_ordered': ['xrms_sq', 'yrms_sq'],\n",
    "        'scale_factor': scale_factor,\n",
    "        'q_len': q_len,\n",
    "        'distance': distance,\n",
    "        'n_samples': n_samples,\n",
    "        'meas_dim': meas_dim,\n",
    "        'n_steps_measurement_param': 11,\n",
    "        'n_steps_exe_paths':  11,\n",
    "        'scipy_options': {'gtol':1.e-8}}\n",
    "algo = ScipyMinimizeEmittanceXY(**algo_kwargs)\n",
    "\n",
    "#construct BAX generator\n",
    "generator = BaxGenerator(vocs=vocs, \n",
    "                         model_constructor=model_constructor, \n",
    "                         numerical_optimizer=numerical_optimizer,\n",
    "                         algorithm=algo, \n",
    "                         use_cuda=use_cuda)\n",
    "\n",
    "#construct evaluator\n",
    "evaluator = Evaluator(function=measure_beamsize)\n",
    "\n",
    "#construct Xopt optimizer\n",
    "optimizer = Xopt(evaluator=evaluator, generator=generator, vocs=vocs)"
   ]
  },
  {
   "cell_type": "markdown",
   "id": "fae84fc5",
   "metadata": {},
   "source": [
    "# Optimize"
   ]
  },
  {
   "cell_type": "code",
   "execution_count": 12,
   "id": "3553f6f5",
   "metadata": {},
   "outputs": [
    {
     "data": {
      "text/html": [
       "<div>\n",
       "<style scoped>\n",
       "    .dataframe tbody tr th:only-of-type {\n",
       "        vertical-align: middle;\n",
       "    }\n",
       "\n",
       "    .dataframe tbody tr th {\n",
       "        vertical-align: top;\n",
       "    }\n",
       "\n",
       "    .dataframe thead th {\n",
       "        text-align: right;\n",
       "    }\n",
       "</style>\n",
       "<table border=\"1\" class=\"dataframe\">\n",
       "  <thead>\n",
       "    <tr style=\"text-align: right;\">\n",
       "      <th></th>\n",
       "      <th>x0</th>\n",
       "      <th>x1</th>\n",
       "      <th>xrms_sq</th>\n",
       "      <th>yrms_sq</th>\n",
       "      <th>xopt_runtime</th>\n",
       "      <th>xopt_error</th>\n",
       "    </tr>\n",
       "  </thead>\n",
       "  <tbody>\n",
       "    <tr>\n",
       "      <th>1</th>\n",
       "      <td>0.256020</td>\n",
       "      <td>1.017991</td>\n",
       "      <td>0.019058</td>\n",
       "      <td>1.185247</td>\n",
       "      <td>0.001038</td>\n",
       "      <td>False</td>\n",
       "    </tr>\n",
       "    <tr>\n",
       "      <th>2</th>\n",
       "      <td>1.896295</td>\n",
       "      <td>1.772108</td>\n",
       "      <td>0.062580</td>\n",
       "      <td>10.401808</td>\n",
       "      <td>0.000230</td>\n",
       "      <td>False</td>\n",
       "    </tr>\n",
       "    <tr>\n",
       "      <th>3</th>\n",
       "      <td>-0.198650</td>\n",
       "      <td>-0.715626</td>\n",
       "      <td>0.317929</td>\n",
       "      <td>0.142012</td>\n",
       "      <td>0.000191</td>\n",
       "      <td>False</td>\n",
       "    </tr>\n",
       "    <tr>\n",
       "      <th>4</th>\n",
       "      <td>0.258710</td>\n",
       "      <td>1.202072</td>\n",
       "      <td>0.009921</td>\n",
       "      <td>1.360661</td>\n",
       "      <td>0.000181</td>\n",
       "      <td>False</td>\n",
       "    </tr>\n",
       "    <tr>\n",
       "      <th>5</th>\n",
       "      <td>0.318529</td>\n",
       "      <td>1.399036</td>\n",
       "      <td>0.005928</td>\n",
       "      <td>1.707620</td>\n",
       "      <td>0.000176</td>\n",
       "      <td>False</td>\n",
       "    </tr>\n",
       "  </tbody>\n",
       "</table>\n",
       "</div>"
      ],
      "text/plain": [
       "         x0        x1   xrms_sq    yrms_sq  xopt_runtime  xopt_error\n",
       "1  0.256020  1.017991  0.019058   1.185247      0.001038       False\n",
       "2  1.896295  1.772108  0.062580  10.401808      0.000230       False\n",
       "3 -0.198650 -0.715626  0.317929   0.142012      0.000191       False\n",
       "4  0.258710  1.202072  0.009921   1.360661      0.000181       False\n",
       "5  0.318529  1.399036  0.005928   1.707620      0.000176       False"
      ]
     },
     "execution_count": 12,
     "metadata": {},
     "output_type": "execute_result"
    }
   ],
   "source": [
    "# call X.random_evaluate() to generate random initial points and evaluate on test_func\n",
    "optimizer.random_evaluate(n_obs_init)"
   ]
  },
  {
   "cell_type": "code",
   "execution_count": 13,
   "id": "79bf85b6",
   "metadata": {},
   "outputs": [],
   "source": [
    "# torch.tensor(optimizer.data[vocs.variable_names].iloc[-2].to_numpy().reshape(1,-1))"
   ]
  },
  {
   "cell_type": "code",
   "execution_count": 14,
   "id": "1af84ab9",
   "metadata": {},
   "outputs": [],
   "source": [
    "# results = {}\n",
    "# beam_size_models = {}\n",
    "\n",
    "# #get initial emittance prediction at ground truth optimum\n",
    "# model = optimizer.generator.train_model()\n"
   ]
  },
  {
   "cell_type": "code",
   "execution_count": 15,
   "id": "d8a54961",
   "metadata": {
    "scrolled": true
   },
   "outputs": [
    {
     "name": "stdout",
     "output_type": "stream",
     "text": [
      "Iteration: 1 / 50\n",
      "Scipy failed to find at least 3 physically valid solutions.\n",
      "This iteration took: 8.635042190551758 seconds.\n",
      "\n",
      "Iteration: 2 / 50\n",
      "Scipy failed to find at least 3 physically valid solutions.\n",
      "This iteration took: 8.520277500152588 seconds.\n",
      "\n",
      "Iteration: 3 / 50\n",
      "Scipy failed to find at least 3 physically valid solutions.\n",
      "This iteration took: 6.226146697998047 seconds.\n",
      "\n",
      "Iteration: 4 / 50\n",
      "Scipy failed to find at least 3 physically valid solutions.\n",
      "This iteration took: 6.236500024795532 seconds.\n",
      "\n",
      "Iteration: 5 / 50\n",
      "This iteration took: 5.536933898925781 seconds.\n",
      "\n",
      "Iteration: 6 / 50\n",
      "This iteration took: 2.4765310287475586 seconds.\n",
      "\n",
      "Iteration: 7 / 50\n",
      "This iteration took: 4.987670183181763 seconds.\n",
      "\n",
      "Iteration: 8 / 50\n",
      "This iteration took: 6.464209318161011 seconds.\n",
      "\n",
      "Iteration: 9 / 50\n",
      "This iteration took: 7.83936071395874 seconds.\n",
      "\n",
      "Iteration: 10 / 50\n",
      "This iteration took: 2.801130771636963 seconds.\n",
      "\n",
      "Iteration: 11 / 50\n",
      "This iteration took: 3.18318772315979 seconds.\n",
      "\n",
      "Iteration: 12 / 50\n",
      "This iteration took: 3.7311582565307617 seconds.\n",
      "\n",
      "Iteration: 13 / 50\n",
      "This iteration took: 3.149423122406006 seconds.\n",
      "\n",
      "Iteration: 14 / 50\n",
      "Scipy failed to find at least 3 physically valid solutions.\n",
      "This iteration took: 5.211097002029419 seconds.\n",
      "\n",
      "Iteration: 15 / 50\n",
      "This iteration took: 3.9826507568359375 seconds.\n",
      "\n",
      "Iteration: 16 / 50\n",
      "This iteration took: 4.9657182693481445 seconds.\n",
      "\n",
      "Iteration: 17 / 50\n",
      "This iteration took: 3.724989652633667 seconds.\n",
      "\n",
      "Iteration: 18 / 50\n",
      "This iteration took: 4.781275749206543 seconds.\n",
      "\n",
      "Iteration: 19 / 50\n",
      "This iteration took: 4.741875886917114 seconds.\n",
      "\n",
      "Iteration: 20 / 50\n",
      "This iteration took: 3.8605809211730957 seconds.\n",
      "\n",
      "Iteration: 21 / 50\n",
      "This iteration took: 4.654158592224121 seconds.\n",
      "\n",
      "Iteration: 22 / 50\n",
      "Scipy failed to find at least 3 physically valid solutions.\n",
      "This iteration took: 4.546035051345825 seconds.\n",
      "\n",
      "Iteration: 23 / 50\n",
      "This iteration took: 4.551897048950195 seconds.\n",
      "\n",
      "Iteration: 24 / 50\n",
      "This iteration took: 5.426086664199829 seconds.\n",
      "\n",
      "Iteration: 25 / 50\n",
      "This iteration took: 6.155332088470459 seconds.\n",
      "\n",
      "Iteration: 26 / 50\n",
      "This iteration took: 4.181636810302734 seconds.\n",
      "\n",
      "Iteration: 27 / 50\n",
      "This iteration took: 4.604968547821045 seconds.\n",
      "\n",
      "Iteration: 28 / 50\n",
      "This iteration took: 3.64550518989563 seconds.\n",
      "\n",
      "Iteration: 29 / 50\n",
      "This iteration took: 4.270862340927124 seconds.\n",
      "\n",
      "Iteration: 30 / 50\n",
      "This iteration took: 7.024499416351318 seconds.\n",
      "\n",
      "Iteration: 31 / 50\n",
      "This iteration took: 3.1425070762634277 seconds.\n",
      "\n",
      "Iteration: 32 / 50\n",
      "This iteration took: 4.705784559249878 seconds.\n",
      "\n",
      "Iteration: 33 / 50\n",
      "This iteration took: 4.9799065589904785 seconds.\n",
      "\n",
      "Iteration: 34 / 50\n",
      "This iteration took: 3.9872493743896484 seconds.\n",
      "\n",
      "Iteration: 35 / 50\n",
      "This iteration took: 3.391322374343872 seconds.\n",
      "\n",
      "Iteration: 36 / 50\n",
      "This iteration took: 3.8524601459503174 seconds.\n",
      "\n",
      "Iteration: 37 / 50\n",
      "This iteration took: 3.435234308242798 seconds.\n",
      "\n",
      "Iteration: 38 / 50\n",
      "This iteration took: 4.229578495025635 seconds.\n",
      "\n",
      "Iteration: 39 / 50\n",
      "This iteration took: 3.4523332118988037 seconds.\n",
      "\n",
      "Iteration: 40 / 50\n",
      "This iteration took: 4.4434494972229 seconds.\n",
      "\n",
      "Iteration: 41 / 50\n",
      "This iteration took: 5.555861473083496 seconds.\n",
      "\n",
      "Iteration: 42 / 50\n",
      "This iteration took: 4.711556911468506 seconds.\n",
      "\n",
      "Iteration: 43 / 50\n",
      "This iteration took: 6.005121469497681 seconds.\n",
      "\n",
      "Iteration: 44 / 50\n",
      "This iteration took: 4.27046275138855 seconds.\n",
      "\n",
      "Iteration: 45 / 50\n",
      "This iteration took: 4.675321340560913 seconds.\n",
      "\n",
      "Iteration: 46 / 50\n",
      "This iteration took: 5.6968348026275635 seconds.\n",
      "\n",
      "Iteration: 47 / 50\n",
      "This iteration took: 3.0192782878875732 seconds.\n",
      "\n",
      "Iteration: 48 / 50\n",
      "This iteration took: 4.3701159954071045 seconds.\n",
      "\n",
      "Iteration: 49 / 50\n",
      "This iteration took: 4.895667314529419 seconds.\n",
      "\n",
      "Iteration: 50 / 50\n",
      "This iteration took: 4.565197467803955 seconds.\n",
      "\n"
     ]
    }
   ],
   "source": [
    "# plt.hist(emits_at_target_valid.flatten().cpu(), density=True)\n",
    "# plt.xlabel('Predicted Optimal Emittance')\n",
    "# plt.ylabel('Probability Density')\n",
    "# plt.show()\n",
    "# print('sample validity rate:', svr)\n",
    "\n",
    "for i in range(1, n_iter+1):\n",
    "\n",
    "    print('Iteration:', i, '/', n_iter)\n",
    "\n",
    "    start = time.time()\n",
    "\n",
    "    # call X.step() to generate a random initial point and evaluate on test_func\n",
    "    optimizer.step()    \n",
    "\n",
    "    \n",
    "    #extract GP models\n",
    "    model = optimizer.generator.train_model()\n",
    "    bax_model_ids = [optimizer.generator.vocs.output_names.index(name)\n",
    "                            for name in optimizer.generator.algorithm.model_names_ordered]\n",
    "    bax_model = model.subset_output(bax_model_ids)\n",
    "    beam_size_model_x = bax_model.models[0]\n",
    "    beam_size_model_y = bax_model.models[1]\n",
    "    \n",
    "    #extract and store algorithm results for this iteration\n",
    "#     results[i] = optimizer.generator.algorithm_results\n",
    "#     beam_size_models[i] = beam_size_model\n",
    "    \n",
    "    #get mean-predicted optimal tuning config and eval predicted emits at this location in tuning parameter space\n",
    "    algo = optimizer.generator.algorithm\n",
    "#     X_tuned, emits_at_target_valid, svr = algo.mean_output(beam_size_model,\n",
    "#                                                          torch.tensor(vocs.bounds),\n",
    "#                                                          num_restarts=10)\n",
    "    \n",
    "    end = time.time()\n",
    "    print('This iteration took:', end-start, 'seconds.\\n')\n",
    "\n",
    "#     if i % 5 == 0:\n",
    "#         plt.hist(emits_at_target_valid.flatten().cpu(), density=True)\n",
    "#         plt.xlabel('Predicted Optimal Emittance')\n",
    "#         plt.ylabel('Probability Density')\n",
    "#         plt.show()\n",
    "#         print('sample validity rate:', svr)"
   ]
  },
  {
   "cell_type": "code",
   "execution_count": 16,
   "id": "c2d344f5",
   "metadata": {},
   "outputs": [
    {
     "name": "stdout",
     "output_type": "stream",
     "text": [
      "get_acquisition took 3.3434200286865234 seconds.\n"
     ]
    }
   ],
   "source": [
    "start = time.time()\n",
    "acq = optimizer.generator.get_acquisition(optimizer.generator.model)\n",
    "end = time.time()\n",
    "print('get_acquisition took', end-start, 'seconds.')"
   ]
  },
  {
   "cell_type": "code",
   "execution_count": 17,
   "id": "bf24e20e",
   "metadata": {},
   "outputs": [
    {
     "name": "stdout",
     "output_type": "stream",
     "text": [
      "optimize_acqf took 1.2615721225738525 seconds.\n"
     ]
    }
   ],
   "source": [
    "from botorch.optim.optimize import optimize_acqf\n",
    "start = time.time()\n",
    "for i in range(1):\n",
    "    res = optimize_acqf(acq_function=acq,\n",
    "                        bounds=torch.tensor(vocs.bounds),\n",
    "                        q=1,\n",
    "                        num_restarts=10,\n",
    "                        raw_samples=20,\n",
    "                        options={'maxiter':50}\n",
    "                       )\n",
    "end = time.time()\n",
    "print('optimize_acqf took', end-start, 'seconds.')"
   ]
  },
  {
   "cell_type": "code",
   "execution_count": 18,
   "id": "c3181749",
   "metadata": {},
   "outputs": [
    {
     "data": {
      "image/png": "[encoded data removed]",
      "text/plain": [
       "<Figure size 600x300 with 2 Axes>"
      ]
     },
     "metadata": {},
     "output_type": "display_data"
    }
   ],
   "source": [
    "# acq = optimizer.generator.get_acquisition(optimizer.generator.model)\n",
    "\n",
    "# last_acq = np.vstack(data_all[0].iloc[-1][list(vocs.variable_data([vocs.random_inputs()], '').keys())].values[:]).astype(float)\n",
    "# last_acq = torch.tensor(last_acq).reshape(1,-1)\n",
    "\n",
    "last_acq = res[0]\n",
    "# last_acq = torch.tensor(optimizer.data[vocs.variable_names].iloc[-1].to_numpy().reshape(1,-1))\n",
    "\n",
    "fig, axs = plt.subplots(1, ndim)\n",
    "    \n",
    "fig.set_size_inches(3*(ndim), 3)\n",
    "\n",
    "for scan_dim in range(ndim):\n",
    "    X_scan = last_acq.repeat(100,1)\n",
    "#     ls = torch.linspace(*vocs.bounds.T[scan_dim],100)\n",
    "    ls = torch.linspace(last_acq[0,scan_dim]-1,last_acq[0,scan_dim]+1,100)\n",
    "\n",
    "    X_scan[:,scan_dim] = ls\n",
    "\n",
    "    acq_scan = torch.tensor([acq(X.reshape(1,-1)) for X in X_scan]).reshape(-1)\n",
    "    \n",
    "    ax = axs[scan_dim]\n",
    "    \n",
    "    ax.plot(ls.cpu(), acq_scan.detach().cpu())\n",
    "    ax.axvline(last_acq[0,scan_dim].cpu(), c='r', label='Acquisition Result')\n",
    "    \n",
    "    \n",
    "    ax.set_xlabel('Input ' + str(scan_dim))\n",
    "    \n",
    "    if scan_dim == 0:\n",
    "        ax.set_ylabel('Acquisition Function')\n",
    "        ax.legend()\n",
    "    \n",
    "plt.tight_layout()\n",
    "plt.show()"
   ]
  },
  {
   "cell_type": "code",
   "execution_count": null,
   "id": "c8ffbf95",
   "metadata": {},
   "outputs": [],
   "source": [
    "from emitopt.utils import plot_sample_optima_convergence_inputs\n",
    "plot_sample_optima_convergence_inputs(results, show_valid_only=False)"
   ]
  },
  {
   "cell_type": "code",
   "execution_count": null,
   "id": "6c512cfc",
   "metadata": {},
   "outputs": [],
   "source": [
    "from emitopt.utils import plot_sample_optima_convergence_emits\n",
    "plot_sample_optima_convergence_emits(results)"
   ]
  },
  {
   "cell_type": "code",
   "execution_count": null,
   "id": "177de67b",
   "metadata": {},
   "outputs": [],
   "source": [
    "from emitopt.utils import plot_valid_emit_prediction_at_x_tuning\n",
    "\n",
    "x_tuned = torch.mean(results[n_iter]['x_stars_all'], dim=0, keepdim=True)\n",
    "print('x_tuned =', x_tuned)\n",
    "plot_valid_emit_prediction_at_x_tuning(beam_size_model_x, \n",
    "                                       x_tuned, \n",
    "                                       scale_factor = algo_kwargs['scale_factor'],\n",
    "                                       q_len = algo_kwargs['q_len'],\n",
    "                                       distance = algo_kwargs['distance'],\n",
    "                                       bounds = vocs.bounds,\n",
    "                                       meas_dim = algo_kwargs['meas_dim'],\n",
    "                                       n_samples = 10000,\n",
    "                                       n_steps_quad_scan = 10\n",
    "                                        )"
   ]
  },
  {
   "cell_type": "markdown",
   "id": "057a01f5",
   "metadata": {},
   "source": [
    "# Plot some beam size surface samples from our current model and do a scan of the predicted emittance as a function of our single tuning parameter."
   ]
  },
  {
   "cell_type": "code",
   "execution_count": null,
   "id": "98d25716",
   "metadata": {},
   "outputs": [],
   "source": [
    "if ndim==2:\n",
    "    \n",
    "    device = torch.tensor(1).device\n",
    "    torch.set_default_tensor_type('torch.DoubleTensor')\n",
    "\n",
    "    fig, axs = plt.subplots(1, 3, subplot_kw={\"projection\": \"3d\"})\n",
    "    fig.set_size_inches(15,10)\n",
    "\n",
    "    ax = axs[0]\n",
    "\n",
    "    for s in range(3):\n",
    "\n",
    "        # plot first 3 beam size surface samples\n",
    "        xlin, ylin = torch.arange(-3,1,0.05), torch.arange(-40,40, 1.)\n",
    "        X, Y = torch.meshgrid(xlin, ylin)\n",
    "        XY = torch.cat((X.reshape(-1,1), Y.reshape(-1,1)), dim=1)\n",
    "        print(XY.shape)\n",
    "        Z = optimizer.generator.algorithm_results['post_paths_cpu'](XY)[s].reshape(X.shape).detach()\n",
    "        cmap='viridis'\n",
    "        surf = ax.plot_surface(Y, X, Z, cmap=cmap,\n",
    "                               linewidth=0, antialiased=True, alpha=0.3, rasterized=True)\n",
    "\n",
    "        # add orange parabolic highlights\n",
    "        ax.plot(Y[0,:].numpy(), Z[0,:].numpy(), zs=X[0,0].item(), zdir='y', c='C1', lw=2, zorder=10)\n",
    "        ax.plot(Y[int(len(Z[0,:])/2),:].numpy(), Z[int(len(Z[0,:])/2),:].numpy(), zs=X[int(len(Z[0,:])/2),0].item(), zdir='y', c='C1', lw=2)\n",
    "        ax.plot(Y[-1,:].numpy(), Z[-1,:].numpy(), zs=X[-1,0].item(), zdir='y', c='C1', lw=2)\n",
    "\n",
    "\n",
    "\n",
    "\n",
    "    # plot initial observations\n",
    "    x0 = torch.tensor(optimizer.data['x0'].values)[:n_obs_init]\n",
    "    x1 = torch.tensor(optimizer.data['x1'].values)[:n_obs_init]\n",
    "    y = torch.tensor([item.item() for item in optimizer.data['y'].values])[:n_obs_init]\n",
    "    ax.scatter(x1.flatten(), x0.flatten(), y.flatten(), marker='o', c='C0', alpha=1, s=80, label='Random (Initial) Observations', zorder=15)\n",
    "\n",
    "    # plot bax observations\n",
    "    x0 = torch.tensor(optimizer.data['x0'].values)[n_obs_init:]\n",
    "    x1 = torch.tensor(optimizer.data['x1'].values)[n_obs_init:]\n",
    "    y = torch.tensor([item.item() for item in optimizer.data['y'].values])[n_obs_init:]\n",
    "    ax.scatter(x1.flatten(), x0.flatten(), y.flatten(), marker='o', c='C1', alpha=1, s=80, label='BAX Observations', zorder=15)\n",
    "\n",
    "    ax.set_title('Beam Size Surface Samples')\n",
    "    ax.set_ylabel('Tuning Parameter')\n",
    "    ax.set_xlabel('Measurement Parameter')\n",
    "    ax.set_zlabel('Beam Size Squared')\n",
    "\n",
    "    ax.set_ylim(-3, 1)\n",
    "    ax.set_zlim(0)\n",
    "    \n",
    "    # remove tick labels\n",
    "    ax.set_xticklabels([])\n",
    "    ax.set_yticklabels([])\n",
    "    ax.set_zticklabels([])\n",
    "\n",
    "    # make the grid lines transparent\n",
    "    ax.xaxis._axinfo[\"grid\"]['color'] =  (1,1,1,0)\n",
    "    ax.yaxis._axinfo[\"grid\"]['color'] =  (1,1,1,0)\n",
    "    ax.zaxis._axinfo[\"grid\"]['color'] =  (1,1,1,0)\n",
    "\n",
    "    ax.legend()\n",
    "    ax.dist = 12\n",
    "\n",
    "    \n",
    "    \n",
    "    if device.type == \"cuda\":\n",
    "        torch.set_default_tensor_type(\"torch.cuda.DoubleTensor\")\n",
    "        \n",
    "   \n",
    "\n",
    "    # do a scan (along the tuning dimension) of our emittance predictions\n",
    "    emit_lowers = torch.tensor([])\n",
    "    emit_uppers = torch.tensor([])\n",
    "    emit_meds = torch.tensor([])\n",
    "    for tuning_param in xlin:\n",
    "        x_tuning = tuning_param.reshape(1,-1).to(device)\n",
    "        emits, svr = get_valid_emittance_samples(beam_size_model, \n",
    "                                                 scale_factor, \n",
    "                                                 0.108, \n",
    "                                                 2.26, \n",
    "                                                 x_tuning, \n",
    "                                                 vocs.bounds.T, \n",
    "                                                 meas_dim, \n",
    "                                                 n_samples=100000, \n",
    "                                                 n_steps_quad_scan=10)\n",
    "        emit_lower = torch.quantile(emits, q=0.025, dim=0)\n",
    "        emit_upper = torch.quantile(emits, q=0.975, dim=0)\n",
    "        emit_med = torch.quantile(emits, q=0.5, dim=0)\n",
    "\n",
    "        emit_lowers = torch.cat((emit_lowers, emit_lower))\n",
    "        emit_uppers = torch.cat((emit_uppers, emit_upper))\n",
    "        emit_meds = torch.cat((emit_meds, emit_med))\n",
    "\n",
    "    #get a few batches of n_samples pathwise sample optima\n",
    "    x_stars_all = torch.tensor([])\n",
    "    emit_stars_all = torch.tensor([])\n",
    "    for i in range(5):\n",
    "        algo = optimizer.generator.algorithm\n",
    "        results_dict = algo.get_execution_paths(beam_size_model, torch.tensor(vocs.bounds))[-1]\n",
    "        x_stars = results_dict['x_stars']\n",
    "        emit_stars = results_dict['emit_stars'].detach()\n",
    "        x_stars_all = torch.cat((x_stars_all, x_stars), dim=0)\n",
    "        emit_stars_all = torch.cat((emit_stars_all, emit_stars), dim=0)\n",
    "    \n",
    "    from mpl_toolkits.mplot3d.art3d import Poly3DCollection\n",
    "    import matplotlib.patches as mpatches\n",
    "\n",
    "    ax = axs[1]\n",
    "    \n",
    "    # plot median emittance curve\n",
    "    medline, = ax.plot(emit_meds.cpu().numpy(), xlin.numpy(), zs=0, zdir='z', c='g', label='Median')\n",
    "    \n",
    "    opt_cross = ax.scatter(emit_stars_all.flatten().cpu(), x_stars_all.flatten().cpu(), zs=0, zdir='z', marker='x', s=40, c='m', alpha=0.5, label='Sample Optima')\n",
    "    \n",
    "    # plot emittance 95% confidence interval as a Poly3DCollection (ordering of vertices matters)\n",
    "    verts = (\n",
    "        [(emit_lowers[i].item(), xlin[i].item(), 0) for i in range(len(xlin))] + \n",
    "        [(emit_uppers[i].item(), xlin[i].item(), 0) for i in range(len(xlin))][::-1]\n",
    "    )\n",
    "    ax.add_collection3d(Poly3DCollection([verts],color='g', edgecolor='None', alpha=0.5)) # Add a polygon instead of fill_between\n",
    "\n",
    "    \n",
    "    ax.set_xlabel('Emittance')\n",
    "    ax.set_ylabel('Tuning Parameter')\n",
    "    ax.set_title('Emittance Measurement Samples')\n",
    "    \n",
    "    ax.set_xlim(0,25)\n",
    "    ax.set_ylim(-3,1)\n",
    "    ax.set_zlim(0,1)\n",
    "\n",
    "    # remove vertical tick marks\n",
    "    ax.set_zticks([])\n",
    "\n",
    "    # remove tick labels\n",
    "    ax.set_xticklabels([])\n",
    "    ax.set_yticklabels([])\n",
    "    ax.set_zticklabels([])\n",
    "\n",
    "    # make the grid lines transparent\n",
    "    ax.xaxis._axinfo[\"grid\"]['color'] =  (1,1,1,0)\n",
    "    ax.yaxis._axinfo[\"grid\"]['color'] =  (1,1,1,0)\n",
    "    ax.zaxis._axinfo[\"grid\"]['color'] =  (1,1,1,0)\n",
    "\n",
    "    orange_patch = mpatches.Patch(color='g', alpha=0.5, label='95% C.I.')\n",
    "    ax.legend(handles=[medline, orange_patch, opt_cross])\n",
    "    ax.dist = 12\n",
    "\n",
    "    \n",
    "    \n",
    "    ax = axs[2]\n",
    "    bins = 10\n",
    "    freq, edges = torch.histogram(x_stars_all.flatten().cpu(), bins=bins, density=True)\n",
    "    for i in range(bins):\n",
    "        uverts = []\n",
    "        lverts = []\n",
    "        uverts += [(freq[i].item(), edges[i].item(), 0), (freq[i].item(), edges[i+1].item(), 0)]\n",
    "        lverts += [(0, edges[i+1].item(), 0), (0, edges[i].item(), 0)]\n",
    "        verts = uverts + lverts\n",
    "        ax.add_collection3d(Poly3DCollection([verts],color='m', edgecolor='k')) # Add a polygon instead of fill_between\n",
    "\n",
    "    ax.set_title('Distribution of Sample Optimal Tuning Parameters')\n",
    "    ax.set_ylabel('Tuning Parameter')\n",
    "    ax.set_xlabel('Frequency')\n",
    "    \n",
    "    ax.set_xlim(0,2)\n",
    "    ax.set_ylim(-3,1)\n",
    "    ax.set_zlim(0,1)\n",
    "    \n",
    "    # remove vertical tick marks\n",
    "    ax.set_zticks([])\n",
    "\n",
    "    # remove tick labels\n",
    "    ax.set_xticklabels([])\n",
    "    ax.set_yticklabels([])\n",
    "    ax.set_zticklabels([])\n",
    "    \n",
    "    # make the grid lines transparent\n",
    "    ax.xaxis._axinfo[\"grid\"]['color'] =  (1,1,1,0)\n",
    "    ax.yaxis._axinfo[\"grid\"]['color'] =  (1,1,1,0)\n",
    "    ax.zaxis._axinfo[\"grid\"]['color'] =  (1,1,1,0)\n",
    "    \n",
    "    ax.dist = 12\n",
    "\n",
    "    plt.tight_layout()\n",
    "    plt.savefig('beamsize-surfaces-with-emittance-1.svg', format='svg')\n",
    "    plt.show()\n"
   ]
  },
  {
   "cell_type": "markdown",
   "id": "1ca7907f",
   "metadata": {},
   "source": [
    "# Minimize sample emittance functions produced by current GP beam size model and inspect results"
   ]
  },
  {
   "cell_type": "code",
   "execution_count": 16,
   "id": "9cab1c67",
   "metadata": {},
   "outputs": [
    {
     "name": "stdout",
     "output_type": "stream",
     "text": [
      "X_tuned = tensor([[0.1193]])\n"
     ]
    }
   ],
   "source": [
    "#select sample result\n",
    "\n",
    "sid = 5 #sample index to examine\n",
    "\n",
    "# X_tuned = X_sample_opt[sid].reshape(1,-1)\n",
    "X_tuned = optimizer.generator.algorithm_results['x_stars'][sid:sid+1, :]\n",
    "# X_tuned = torch.zeros(1,ndim-1)\n",
    "print('X_tuned =', X_tuned)"
   ]
  },
  {
   "cell_type": "markdown",
   "id": "b69a4cb4",
   "metadata": {},
   "source": [
    "# Sample geometric mean of emittance x&y"
   ]
  },
  {
   "cell_type": "code",
   "execution_count": 17,
   "id": "1276c5b8",
   "metadata": {},
   "outputs": [
    {
     "name": "stdout",
     "output_type": "stream",
     "text": [
      "tensor([-9.0134e+00, -7.2108e+00, -5.4081e+00, -3.6054e+00, -1.8027e+00,\n",
      "        -3.3356e-16,  1.8027e+00,  3.6054e+00,  5.4081e+00,  7.2108e+00,\n",
      "         9.0134e+00])\n",
      "tensor([[ 9.7110e-01,  1.0228e+00,  1.0882e+00,  ...,  1.7705e+00,\n",
      "          1.9325e+00,  2.1083e+00],\n",
      "        [ 1.0020e+00,  1.0591e+00,  1.1287e+00,  ...,  1.8084e+00,\n",
      "          1.9653e+00,  2.1347e+00],\n",
      "        [ 1.0434e+00,  1.1068e+00,  1.1810e+00,  ...,  1.8558e+00,\n",
      "          2.0064e+00,  2.1679e+00],\n",
      "        ...,\n",
      "        [ 3.9449e+00,  3.2582e+00,  2.6270e+00,  ...,  3.7460e-03,\n",
      "         -2.3946e-01, -4.2723e-01],\n",
      "        [ 3.8899e+00,  3.2090e+00,  2.5811e+00,  ..., -7.4277e-02,\n",
      "         -3.3149e-01, -5.3573e-01],\n",
      "        [ 3.8281e+00,  3.1534e+00,  2.5291e+00,  ..., -1.5778e-01,\n",
      "         -4.2909e-01, -6.4997e-01]], grad_fn=<ReshapeAliasBackward0>)\n",
      "tensor([ 9.0134e+00,  7.2108e+00,  5.4081e+00,  3.6054e+00,  1.8027e+00,\n",
      "         3.3356e-16, -1.8027e+00, -3.6054e+00, -5.4081e+00, -7.2108e+00,\n",
      "        -9.0134e+00])\n",
      "tensor([[ 6.3744e-04, -1.4633e-01, -1.8900e-01,  ...,  1.7451e+00,\n",
      "          2.4325e+00,  3.2242e+00],\n",
      "        [-3.5235e-03, -1.5258e-01, -1.9415e-01,  ...,  1.8139e+00,\n",
      "          2.5248e+00,  3.3432e+00],\n",
      "        [-7.6365e-03, -1.5860e-01, -1.9886e-01,  ...,  1.8844e+00,\n",
      "          2.6191e+00,  3.4645e+00],\n",
      "        ...,\n",
      "        [ 2.1053e-01, -8.2220e-03,  2.0586e-01,  ...,  1.0580e+01,\n",
      "          1.3824e+01,  1.7501e+01],\n",
      "        [ 2.0631e-01, -5.9849e-04,  2.2564e-01,  ...,  1.0679e+01,\n",
      "          1.3937e+01,  1.7629e+01],\n",
      "        [ 2.0230e-01,  6.9051e-03,  2.4409e-01,  ...,  1.0751e+01,\n",
      "          1.4017e+01,  1.7715e+01]], grad_fn=<ReshapeAliasBackward0>)\n"
     ]
    },
    {
     "data": {
      "image/png": "[encoded data removed]",
      "text/plain": [
       "<Figure size 300x300 with 1 Axes>"
      ]
     },
     "metadata": {},
     "output_type": "display_data"
    }
   ],
   "source": [
    "from emitopt.utils import post_path_emit_squared_thick_quad\n",
    "\n",
    "fig, axs = plt.subplots(1, ndim-1)\n",
    "if ndim == 2: axs = [axs]\n",
    "    \n",
    "fig.set_size_inches(3*(ndim-1), 3)\n",
    "\n",
    "for scan_dim in range(ndim-1):\n",
    "    X_tuning_scan = X_tuned.repeat(100,1)\n",
    "    ls = torch.linspace(-2,2,100)\n",
    "    X_tuning_scan[:,scan_dim] = ls\n",
    "    X_meas = torch.linspace(-3,3,11)\n",
    "\n",
    "    emit_sq_x = post_path_emit_squared_thick_quad(optimizer.generator.algorithm_results['post_paths_cpu_xy'][0], \n",
    "                              1*optimizer.generator.algorithm.scale_factor, \n",
    "                              optimizer.generator.algorithm.q_len, \n",
    "                              optimizer.generator.algorithm.distance, \n",
    "                              X_tuning_scan.cpu(), meas_dim, X_meas.cpu(), samplewise=False)[0]\n",
    "    emit_sq_y = post_path_emit_squared_thick_quad(optimizer.generator.algorithm_results['post_paths_cpu_xy'][1], \n",
    "                              -1*optimizer.generator.algorithm.scale_factor, \n",
    "                              optimizer.generator.algorithm.q_len, \n",
    "                              optimizer.generator.algorithm.distance, \n",
    "                              X_tuning_scan.cpu(), meas_dim, X_meas.cpu(), samplewise=False)[0]\n",
    "    geo_mean_emit = torch.sqrt(emit_sq_x.abs().sqrt() * emit_sq_y.abs().sqrt())\n",
    "    \n",
    "    ax = axs[scan_dim]\n",
    "    \n",
    "#     ax.plot(ls.cpu(), (toy_emit_nd(ls.reshape(-1,1))**2).cpu(), c='k', label='Ground truth') #this ground truth isn't exactly the matching cross-section but it should be close\n",
    "    ax.plot(ls, 9.033454852412253e-09 * (1+ls.abs())**2, c='k', label='ground truth')\n",
    "    ax.plot(ls.cpu(), geo_mean_emit[sid].detach().cpu()*1.e-6, label='Sample ' + str(sid))\n",
    "    ax.axvline(X_tuned[0,scan_dim].cpu(), c='r', label='Sample optimization result')\n",
    "    ax.axhline(0, c='k', ls='--', label='physical cutoff')\n",
    "    \n",
    "    ax.set_xlabel('tuning param ' + str(scan_dim))\n",
    "    \n",
    "    if scan_dim == 0:\n",
    "        ax.set_ylabel('$\\sqrt{\\epsilon_x\\epsilon_y}$')\n",
    "        ax.legend()\n",
    "    \n",
    "plt.tight_layout()\n",
    "plt.show()\n"
   ]
  },
  {
   "cell_type": "markdown",
   "id": "8033ba82",
   "metadata": {},
   "source": [
    "# Plot posterior mean model of geometric mean emttance x&y"
   ]
  },
  {
   "cell_type": "code",
   "execution_count": 18,
   "id": "c643cb9b",
   "metadata": {},
   "outputs": [
    {
     "data": {
      "image/png": "[encoded data removed]",
      "text/plain": [
       "<Figure size 300x300 with 1 Axes>"
      ]
     },
     "metadata": {},
     "output_type": "display_data"
    }
   ],
   "source": [
    "from emitopt.utils import post_mean_emit_squared_thick_quad\n",
    "\n",
    "fig, axs = plt.subplots(1, ndim-1)\n",
    "if ndim == 2: axs = [axs]\n",
    "    \n",
    "fig.set_size_inches(3*(ndim-1), 3)\n",
    "\n",
    "for scan_dim in range(ndim-1):\n",
    "    X_tuning_scan = X_tuned.repeat(100,1)\n",
    "    ls = torch.linspace(-2,2,100)\n",
    "    X_tuning_scan[:,scan_dim] = ls\n",
    "    X_meas = torch.linspace(-3,3,11)\n",
    "\n",
    "    emit_sq_x = post_mean_emit_squared_thick_quad(\n",
    "        model=beam_size_model_x,\n",
    "        scale_factor=1*optimizer.generator.algorithm.scale_factor,\n",
    "        q_len=optimizer.generator.algorithm.q_len,\n",
    "        distance=optimizer.generator.algorithm.distance,\n",
    "        x_tuning=X_tuning_scan.cpu(),\n",
    "        meas_dim=meas_dim,\n",
    "        x_meas=X_meas.cpu(),\n",
    "    )[0]\n",
    "    emit_sq_y = post_mean_emit_squared_thick_quad(\n",
    "        model=beam_size_model_y,\n",
    "        scale_factor=-1*optimizer.generator.algorithm.scale_factor,\n",
    "        q_len=optimizer.generator.algorithm.q_len,\n",
    "        distance=optimizer.generator.algorithm.distance,\n",
    "        x_tuning=X_tuning_scan.cpu(),\n",
    "        meas_dim=meas_dim,\n",
    "        x_meas=X_meas.cpu(),\n",
    "    )[0]    \n",
    "    geo_mean_emit = torch.sqrt(emit_sq_x.abs().sqrt() * emit_sq_y.abs().sqrt())\n",
    "    ax = axs[scan_dim]\n",
    "    \n",
    "#     ax.plot(ls.cpu(), (toy_emit_nd(ls.reshape(-1,1))**2).cpu(), c='k', label='Ground truth') #this ground truth isn't exactly the matching cross-section but it should be close\n",
    "\n",
    "    ax.plot(ls, 9.033454852412253e-09 * (1+ls.abs())**2, c='k', label='ground truth')\n",
    "    ax.plot(ls.cpu(), geo_mean_emit.detach().cpu()*1.e-6, label='GP mean')\n",
    "    ax.axhline(0, c='k', ls='--', label='physical cutoff')\n",
    "    \n",
    "    ax.set_xlabel('tuning param ' + str(scan_dim))\n",
    "    \n",
    "    if scan_dim == 0:\n",
    "        ax.set_ylabel('$\\sqrt{\\epsilon_x\\epsilon_y}$')\n",
    "        ax.legend()\n",
    "    \n",
    "plt.tight_layout()\n",
    "plt.show()"
   ]
  },
  {
   "cell_type": "code",
   "execution_count": 22,
   "id": "4235fe89",
   "metadata": {},
   "outputs": [
    {
     "data": {
      "text/plain": [
       "<matplotlib.legend.Legend at 0x1c2a6ac5250>"
      ]
     },
     "execution_count": 22,
     "metadata": {},
     "output_type": "execute_result"
    },
    {
     "data": {
      "image/png": "[encoded data removed]",
      "text/plain": [
       "<Figure size 640x480 with 1 Axes>"
      ]
     },
     "metadata": {},
     "output_type": "display_data"
    }
   ],
   "source": [
    "from emitopt.utils import get_valid_geo_mean_emittance_samples_thick_quad\n",
    "\n",
    "emit_mean, emit_lower, emit_upper = torch.tensor([]), torch.tensor([]), torch.tensor([])\n",
    "for i in range(len(X_tuning_scan)):\n",
    "    emit_valid, svr = get_valid_geo_mean_emittance_samples_thick_quad(\n",
    "        model=bax_model,\n",
    "        scale_factor=optimizer.generator.algorithm.scale_factor,\n",
    "        q_len=optimizer.generator.algorithm.q_len,\n",
    "        distance=optimizer.generator.algorithm.distance,\n",
    "        x_tuning=X_tuning_scan[i:i+1],\n",
    "        domain=optimizer.generator.vocs.bounds.T,\n",
    "        meas_dim=meas_dim,\n",
    "        n_samples=10000,\n",
    "        n_steps_quad_scan=10,\n",
    "        visualize=False,\n",
    "    )\n",
    "    mean = emit_valid.mean()\n",
    "    lower = torch.quantile(emit_valid, q=0.025)\n",
    "    upper = torch.quantile(emit_valid, q=0.975)\n",
    "    emit_mean = torch.cat((emit_mean, torch.tensor([mean])))\n",
    "    emit_lower = torch.cat((emit_lower, torch.tensor([lower])))\n",
    "    emit_upper = torch.cat((emit_upper, torch.tensor([upper])))\n",
    "\n",
    "plt.plot(ls, 9.033454852412253e-09 * (1+ls.abs())**2, c='k', label='ground truth')\n",
    "plt.plot(ls, emit_mean*1.e-6, label='Valid Sampling Model')\n",
    "plt.fill_between(ls, emit_lower*1.e-6, emit_upper*1.e-6, alpha=0.3)\n",
    "plt.xlabel('tuning param ' + str(scan_dim))\n",
    "plt.ylabel('$\\sqrt{\\epsilon_x\\epsilon_y}$')\n",
    "plt.ylim(0,1.81e-7)\n",
    "plt.legend()"
   ]
  },
  {
   "cell_type": "code",
   "execution_count": 58,
   "id": "1decf8f9",
   "metadata": {},
   "outputs": [
    {
     "data": {
      "text/plain": [
       "tensor([-0.1097, -0.1097, -0.1097, -0.1097, -0.1097, -0.1097, -0.1097, -0.1097,\n",
       "        -0.1097, -0.1097])"
      ]
     },
     "execution_count": 58,
     "metadata": {},
     "output_type": "execute_result"
    }
   ],
   "source": [
    "bss_model_x, bss_model_y = bax_model.models\n",
    "bss_x = bss_model_x.outcome_transform.untransform(bss_model_x.train_targets)[0]\n",
    "bss_y = bss_model_y.outcome_transform.untransform(bss_model_y.train_targets)[0]\n",
    "bss = torch.sqrt(bss_x * bss_y)\n",
    "x_smallest_observed_beamsize = bss_model_x._original_train_inputs[torch.argmin(bss)].reshape(1,-1)\n",
    "\n",
    "tuning_dims = list(range(vocs.bounds.shape[1]))\n",
    "tuning_dims.remove(meas_dim)\n",
    "tuning_dims = torch.tensor(tuning_dims)\n",
    "x_tuning_best = torch.index_select(x_smallest_observed_beamsize, dim=1, index=tuning_dims)\n",
    "x_tuning_best\n",
    "x_tuning_init = x_tuning_best.repeat(n_samples,1).flatten()\n",
    "x_tuning_init"
   ]
  },
  {
   "cell_type": "code",
   "execution_count": null,
   "id": "15c1a9eb",
   "metadata": {},
   "outputs": [],
   "source": [
    "bss_model_x, bss_model_y = model.models\n",
    "bss_x = bss_model_x.outcome_transform.untransform(bss_model_x.train_targets)[0]\n",
    "bss_y = bss_model_y.outcome_transform.untransform(bss_model_y.train_targets)[0]\n",
    "bss = torch.sqrt(bss_x * bss_y)\n",
    "x_smallest_observed_beamsize = bss_model_x._original_train_inputs[torch.argmin(bss)].reshape(1,-1)\n",
    "\n",
    "tuning_dims = list(range(bounds.shape[1]))\n",
    "tuning_dims.remove(meas_dim)\n",
    "tuning_dims = torch.tensor(tuning_dims)\n",
    "x_tuning_best = torch.index_select(x_smallest_observed_beamsize, dim=1, index=tuning_dims)\n",
    "x_tuning_init = x_tuning_best.repeat(n_samples,1).flatten()\n"
   ]
  },
  {
   "cell_type": "code",
   "execution_count": 53,
   "id": "babca432",
   "metadata": {},
   "outputs": [
    {
     "data": {
      "text/plain": [
       "[0]"
      ]
     },
     "execution_count": 53,
     "metadata": {},
     "output_type": "execute_result"
    }
   ],
   "source": [
    "tuning_dims = list(range(vocs.bounds.shape[1]))\n",
    "tuning_dims.remove(meas_dim)\n",
    "tuning_dims"
   ]
  },
  {
   "cell_type": "code",
   "execution_count": 24,
   "id": "78a236f0",
   "metadata": {},
   "outputs": [
    {
     "data": {
      "text/plain": [
       "tensor([[ 0.2560,  1.0180],\n",
       "        [ 1.8963,  1.7721],\n",
       "        [-0.1986, -0.7156],\n",
       "        [ 0.2587,  1.2021],\n",
       "        [ 0.3185,  1.3990],\n",
       "        [-0.3192,  2.5306],\n",
       "        [ 0.3152,  2.7959],\n",
       "        [ 0.3188, -2.5670],\n",
       "        [ 0.1120,  3.0000],\n",
       "        [ 0.2625, -1.6433],\n",
       "        [ 0.2587, -3.0000],\n",
       "        [ 0.2466,  1.6852],\n",
       "        [ 0.2813, -0.9876],\n",
       "        [ 0.2303,  3.0000],\n",
       "        [ 0.2629, -1.0331],\n",
       "        [ 0.2565,  0.2174],\n",
       "        [ 0.2627, -2.0131],\n",
       "        [ 0.2549,  1.2289],\n",
       "        [-0.2007,  1.7828],\n",
       "        [ 0.2504, -2.3205],\n",
       "        [ 0.2364, -0.0105],\n",
       "        [ 0.3433,  1.3335],\n",
       "        [ 0.2566, -2.7943],\n",
       "        [ 0.2357,  2.5645],\n",
       "        [ 0.2411, -0.5509],\n",
       "        [ 0.2418, -2.0491],\n",
       "        [ 0.1951,  0.7680],\n",
       "        [ 0.1943, -1.9778],\n",
       "        [ 0.2378,  2.8755],\n",
       "        [ 0.2188,  1.2120],\n",
       "        [ 0.2260, -3.0000],\n",
       "        [ 0.1828,  1.2987],\n",
       "        [ 0.2363, -1.0324],\n",
       "        [ 0.2639,  2.0646],\n",
       "        [ 0.2224, -1.5779],\n",
       "        [ 0.2214, -1.5474],\n",
       "        [ 0.2227,  2.0282],\n",
       "        [ 0.1704, -1.7196],\n",
       "        [ 0.1396,  0.3312],\n",
       "        [ 0.1775, -2.4394],\n",
       "        [ 0.1698,  2.1522],\n",
       "        [ 0.1696, -2.6889],\n",
       "        [ 0.1738,  1.9331],\n",
       "        [ 0.1722, -0.3024],\n",
       "        [ 0.1319, -2.6485],\n",
       "        [ 0.1286, -0.1708],\n",
       "        [ 0.1118,  1.2855],\n",
       "        [ 0.1220, -1.7224],\n",
       "        [ 0.1173,  1.3433],\n",
       "        [ 0.0995, -2.3061],\n",
       "        [ 0.0809,  1.6540],\n",
       "        [ 0.0911, -0.6359],\n",
       "        [ 0.0590,  2.2119],\n",
       "        [ 0.1081, -3.0000],\n",
       "        [ 0.1213,  2.4307]])"
      ]
     },
     "execution_count": 24,
     "metadata": {},
     "output_type": "execute_result"
    }
   ],
   "source": [
    "bss_model_x, bss_model_y = model.models\n",
    "bss_model_x.input_transform.untransform(bss_model_x.train_inputs[0])"
   ]
  },
  {
   "cell_type": "code",
   "execution_count": 25,
   "id": "8bf207ab",
   "metadata": {},
   "outputs": [
    {
     "data": {
      "text/plain": [
       "tensor([[0.1218],\n",
       "        [0.1229],\n",
       "        [0.1217],\n",
       "        [0.1218],\n",
       "        [0.1217],\n",
       "        [0.1193],\n",
       "        [0.1214],\n",
       "        [0.1214],\n",
       "        [0.1199],\n",
       "        [0.1217]])"
      ]
     },
     "execution_count": 25,
     "metadata": {},
     "output_type": "execute_result"
    }
   ],
   "source": [
    "optimizer.generator.algorithm_results['x_stars']"
   ]
  },
  {
   "cell_type": "code",
   "execution_count": 40,
   "id": "a0d4a411",
   "metadata": {},
   "outputs": [
    {
     "data": {
      "text/plain": [
       "tensor([[ 0.2560,  1.0180],\n",
       "        [ 1.8963,  1.7721],\n",
       "        [-0.1986, -0.7156],\n",
       "        [ 0.2587,  1.2021],\n",
       "        [ 0.3185,  1.3990],\n",
       "        [-1.7815,  0.9012],\n",
       "        [ 0.8566, -0.2661],\n",
       "        [-1.3724, -0.8278],\n",
       "        [-0.3147, -0.8555],\n",
       "        [-0.7083,  0.6740],\n",
       "        [ 0.5376, -2.1555],\n",
       "        [ 0.2078, -2.1212],\n",
       "        [ 0.9968,  2.4896],\n",
       "        [-0.2049,  1.0317],\n",
       "        [ 1.4390, -2.0089],\n",
       "        [-1.8156, -3.0000],\n",
       "        [ 0.7799,  2.9927],\n",
       "        [ 0.2980,  3.0000],\n",
       "        [-0.2594, -3.0000],\n",
       "        [-0.1097, -1.5611],\n",
       "        [ 0.4927,  1.8555],\n",
       "        [-0.4226,  2.6019],\n",
       "        [ 1.6686, -0.5787],\n",
       "        [ 0.1038,  2.2395],\n",
       "        [ 0.9231, -3.0000],\n",
       "        [ 1.2025,  1.9304],\n",
       "        [-1.9846,  2.5058],\n",
       "        [ 1.8156, -2.4964],\n",
       "        [ 0.1948, -2.4973],\n",
       "        [-0.1724,  2.4261],\n",
       "        [-0.6865,  2.9858],\n",
       "        [ 1.3775,  2.3977],\n",
       "        [-0.9643,  2.1539],\n",
       "        [-1.6850,  2.7211],\n",
       "        [-0.5988, -2.4703],\n",
       "        [-0.3471, -0.4973],\n",
       "        [-1.2155,  1.9912],\n",
       "        [ 1.6291,  2.6534],\n",
       "        [-0.4194, -0.4804],\n",
       "        [-1.0945, -2.3137],\n",
       "        [-1.1048, -0.0241],\n",
       "        [-0.6976, -1.4258],\n",
       "        [-0.2302,  2.0352],\n",
       "        [-0.8610, -2.5139],\n",
       "        [-0.6076,  1.0418],\n",
       "        [-1.4628,  1.9093],\n",
       "        [-1.2661, -3.0000],\n",
       "        [-1.5215, -1.4676],\n",
       "        [-0.8656,  0.7123],\n",
       "        [-0.9105,  2.4040],\n",
       "        [-1.4261,  2.6084],\n",
       "        [-1.1020,  2.3060],\n",
       "        [ 0.9931, -0.7423],\n",
       "        [-1.4873, -0.3122],\n",
       "        [ 1.2894, -0.9546]])"
      ]
     },
     "execution_count": 40,
     "metadata": {},
     "output_type": "execute_result"
    }
   ],
   "source": [
    "bss_model_x._original_train_inputs"
   ]
  },
  {
   "cell_type": "code",
   "execution_count": 41,
   "id": "09ddf150",
   "metadata": {},
   "outputs": [
    {
     "ename": "AttributeError",
     "evalue": "'SingleTaskGP' object has no attribute '_original_train_targets'",
     "output_type": "error",
     "traceback": [
      "\u001b[1;31m---------------------------------------------------------------------------\u001b[0m",
      "\u001b[1;31mAttributeError\u001b[0m                            Traceback (most recent call last)",
      "File \u001b[1;32m~\\AppData\\Roaming\\Python\\Python39\\site-packages\\gpytorch\\module.py:437\u001b[0m, in \u001b[0;36mModule.__getattr__\u001b[1;34m(self, name)\u001b[0m\n\u001b[0;32m    436\u001b[0m \u001b[38;5;28;01mtry\u001b[39;00m:\n\u001b[1;32m--> 437\u001b[0m     \u001b[38;5;28;01mreturn\u001b[39;00m \u001b[38;5;28;43msuper\u001b[39;49m\u001b[43m(\u001b[49m\u001b[43m)\u001b[49m\u001b[38;5;241;43m.\u001b[39;49m\u001b[38;5;21;43m__getattribute__\u001b[39;49m\u001b[43m(\u001b[49m\u001b[43mname\u001b[49m\u001b[43m)\u001b[49m\n\u001b[0;32m    438\u001b[0m \u001b[38;5;28;01mexcept\u001b[39;00m \u001b[38;5;167;01mAttributeError\u001b[39;00m:\n",
      "\u001b[1;31mAttributeError\u001b[0m: 'SingleTaskGP' object has no attribute '_original_train_targets'",
      "\nDuring handling of the above exception, another exception occurred:\n",
      "\u001b[1;31mAttributeError\u001b[0m                            Traceback (most recent call last)",
      "Cell \u001b[1;32mIn[41], line 1\u001b[0m\n\u001b[1;32m----> 1\u001b[0m \u001b[43mbss_model_x\u001b[49m\u001b[38;5;241;43m.\u001b[39;49m\u001b[43m_original_train_targets\u001b[49m\n",
      "File \u001b[1;32m~\\AppData\\Roaming\\Python\\Python39\\site-packages\\gpytorch\\module.py:439\u001b[0m, in \u001b[0;36mModule.__getattr__\u001b[1;34m(self, name)\u001b[0m\n\u001b[0;32m    437\u001b[0m     \u001b[38;5;28;01mreturn\u001b[39;00m \u001b[38;5;28msuper\u001b[39m()\u001b[38;5;241m.\u001b[39m\u001b[38;5;21m__getattribute__\u001b[39m(name)\n\u001b[0;32m    438\u001b[0m \u001b[38;5;28;01mexcept\u001b[39;00m \u001b[38;5;167;01mAttributeError\u001b[39;00m:\n\u001b[1;32m--> 439\u001b[0m     \u001b[38;5;28;01mraise\u001b[39;00m e\n",
      "File \u001b[1;32m~\\AppData\\Roaming\\Python\\Python39\\site-packages\\gpytorch\\module.py:434\u001b[0m, in \u001b[0;36mModule.__getattr__\u001b[1;34m(self, name)\u001b[0m\n\u001b[0;32m    432\u001b[0m \u001b[38;5;28;01mdef\u001b[39;00m \u001b[38;5;21m__getattr__\u001b[39m(\u001b[38;5;28mself\u001b[39m, name):\n\u001b[0;32m    433\u001b[0m     \u001b[38;5;28;01mtry\u001b[39;00m:\n\u001b[1;32m--> 434\u001b[0m         \u001b[38;5;28;01mreturn\u001b[39;00m \u001b[38;5;28;43msuper\u001b[39;49m\u001b[43m(\u001b[49m\u001b[43m)\u001b[49m\u001b[38;5;241;43m.\u001b[39;49m\u001b[38;5;21;43m__getattr__\u001b[39;49m\u001b[43m(\u001b[49m\u001b[43mname\u001b[49m\u001b[43m)\u001b[49m\n\u001b[0;32m    435\u001b[0m     \u001b[38;5;28;01mexcept\u001b[39;00m \u001b[38;5;167;01mAttributeError\u001b[39;00m \u001b[38;5;28;01mas\u001b[39;00m e:\n\u001b[0;32m    436\u001b[0m         \u001b[38;5;28;01mtry\u001b[39;00m:\n",
      "File \u001b[1;32m~\\anaconda3\\envs\\xopt-dev\\lib\\site-packages\\torch\\nn\\modules\\module.py:1269\u001b[0m, in \u001b[0;36mModule.__getattr__\u001b[1;34m(self, name)\u001b[0m\n\u001b[0;32m   1267\u001b[0m     \u001b[38;5;28;01mif\u001b[39;00m name \u001b[38;5;129;01min\u001b[39;00m modules:\n\u001b[0;32m   1268\u001b[0m         \u001b[38;5;28;01mreturn\u001b[39;00m modules[name]\n\u001b[1;32m-> 1269\u001b[0m \u001b[38;5;28;01mraise\u001b[39;00m \u001b[38;5;167;01mAttributeError\u001b[39;00m(\u001b[38;5;124m\"\u001b[39m\u001b[38;5;124m'\u001b[39m\u001b[38;5;132;01m{}\u001b[39;00m\u001b[38;5;124m'\u001b[39m\u001b[38;5;124m object has no attribute \u001b[39m\u001b[38;5;124m'\u001b[39m\u001b[38;5;132;01m{}\u001b[39;00m\u001b[38;5;124m'\u001b[39m\u001b[38;5;124m\"\u001b[39m\u001b[38;5;241m.\u001b[39mformat(\n\u001b[0;32m   1270\u001b[0m     \u001b[38;5;28mtype\u001b[39m(\u001b[38;5;28mself\u001b[39m)\u001b[38;5;241m.\u001b[39m\u001b[38;5;18m__name__\u001b[39m, name))\n",
      "\u001b[1;31mAttributeError\u001b[0m: 'SingleTaskGP' object has no attribute '_original_train_targets'"
     ]
    }
   ],
   "source": [
    "bss_model_x._original_train_targets"
   ]
  },
  {
   "cell_type": "code",
   "execution_count": 23,
   "id": "fbfd97ff",
   "metadata": {},
   "outputs": [
    {
     "data": {
      "text/plain": [
       "tensor([0.1151, 0.1065, 0.1132, 0.1187, 0.1192, 0.1171, 0.1143, 0.1111, 0.1068,\n",
       "        0.1025, 0.0977, 0.0921, 0.0872, 0.0815, 0.0759, 0.0715, 0.0676, 0.0639,\n",
       "        0.0598, 0.0551, 0.0498, 0.0453, 0.0436, 0.0453, 0.0475, 0.0485, 0.0481,\n",
       "        0.0468, 0.0447, 0.0426, 0.0403, 0.0382, 0.0368, 0.0357, 0.0345, 0.0331,\n",
       "        0.0314, 0.0293, 0.0273, 0.0256, 0.0243, 0.0234, 0.0222, 0.0208, 0.0187,\n",
       "        0.0162, 0.0141, 0.0128, 0.0115, 0.0106, 0.0104, 0.0115, 0.0128, 0.0141,\n",
       "        0.0158, 0.0176, 0.0192, 0.0211, 0.0226, 0.0238, 0.0246, 0.0257, 0.0268,\n",
       "        0.0277, 0.0284, 0.0285, 0.0279, 0.0277, 0.0281, 0.0284, 0.0289, 0.0296,\n",
       "        0.0313, 0.0341, 0.0366, 0.0388, 0.0416, 0.0455, 0.0490, 0.0517, 0.0537,\n",
       "        0.0561, 0.0592, 0.0630, 0.0668, 0.0705, 0.0738, 0.0762, 0.0787, 0.0820,\n",
       "        0.0858, 0.0905, 0.0959, 0.1017, 0.1069, 0.1107, 0.1134, 0.1156, 0.1163,\n",
       "        0.1223])"
      ]
     },
     "execution_count": 23,
     "metadata": {},
     "output_type": "execute_result"
    }
   ],
   "source": [
    "emit_mean"
   ]
  },
  {
   "cell_type": "code",
   "execution_count": 20,
   "id": "6f2139f5",
   "metadata": {},
   "outputs": [
    {
     "data": {
      "text/plain": [
       "torch.Size([839020, 1])"
      ]
     },
     "execution_count": 20,
     "metadata": {},
     "output_type": "execute_result"
    }
   ],
   "source": [
    "emit_valid.shape"
   ]
  },
  {
   "cell_type": "code",
   "execution_count": 42,
   "id": "80593b27",
   "metadata": {},
   "outputs": [
    {
     "data": {
      "text/plain": [
       "tensor([2.7100e-08, 2.6735e-08, 2.6370e-08, 2.6005e-08, 2.5640e-08, 2.5275e-08,\n",
       "        2.4910e-08, 2.4545e-08, 2.4180e-08, 2.3815e-08, 2.3450e-08, 2.3085e-08,\n",
       "        2.2721e-08, 2.2356e-08, 2.1991e-08, 2.1626e-08, 2.1261e-08, 2.0896e-08,\n",
       "        2.0531e-08, 2.0166e-08, 1.9801e-08, 1.9436e-08, 1.9071e-08, 1.8706e-08,\n",
       "        1.8341e-08, 1.7976e-08, 1.7611e-08, 1.7246e-08, 1.6881e-08, 1.6516e-08,\n",
       "        1.6151e-08, 1.5786e-08, 1.5421e-08, 1.5056e-08, 1.4691e-08, 1.4326e-08,\n",
       "        1.3961e-08, 1.3596e-08, 1.3231e-08, 1.2866e-08, 1.2501e-08, 1.2136e-08,\n",
       "        1.1771e-08, 1.1406e-08, 1.1041e-08, 1.0676e-08, 1.0311e-08, 9.9459e-09,\n",
       "        9.5809e-09, 9.2159e-09, 9.2159e-09, 9.5809e-09, 9.9459e-09, 1.0311e-08,\n",
       "        1.0676e-08, 1.1041e-08, 1.1406e-08, 1.1771e-08, 1.2136e-08, 1.2501e-08,\n",
       "        1.2866e-08, 1.3231e-08, 1.3596e-08, 1.3961e-08, 1.4326e-08, 1.4691e-08,\n",
       "        1.5056e-08, 1.5421e-08, 1.5786e-08, 1.6151e-08, 1.6516e-08, 1.6881e-08,\n",
       "        1.7246e-08, 1.7611e-08, 1.7976e-08, 1.8341e-08, 1.8706e-08, 1.9071e-08,\n",
       "        1.9436e-08, 1.9801e-08, 2.0166e-08, 2.0531e-08, 2.0896e-08, 2.1261e-08,\n",
       "        2.1626e-08, 2.1991e-08, 2.2356e-08, 2.2721e-08, 2.3085e-08, 2.3450e-08,\n",
       "        2.3815e-08, 2.4180e-08, 2.4545e-08, 2.4910e-08, 2.5275e-08, 2.5640e-08,\n",
       "        2.6005e-08, 2.6370e-08, 2.6735e-08, 2.7100e-08])"
      ]
     },
     "execution_count": 42,
     "metadata": {},
     "output_type": "execute_result"
    }
   ],
   "source": [
    "9.033454852412253e-09 * (1+ls.abs())"
   ]
  },
  {
   "cell_type": "code",
   "execution_count": 20,
   "id": "7df716f3",
   "metadata": {},
   "outputs": [
    {
     "data": {
      "image/png": "[encoded data removed]",
      "text/plain": [
       "<Figure size 300x300 with 1 Axes>"
      ]
     },
     "metadata": {},
     "output_type": "display_data"
    }
   ],
   "source": [
    "from emitopt.utils import post_mean_emit_squared_thick_quad\n",
    "\n",
    "fig, axs = plt.subplots(1, ndim-1)\n",
    "if ndim == 2: axs = [axs]\n",
    "    \n",
    "fig.set_size_inches(3*(ndim-1), 3)\n",
    "\n",
    "for scan_dim in range(ndim-1):\n",
    "    X_tuning_scan = X_tuned.repeat(100,1)\n",
    "    ls = torch.linspace(-2,2,100)\n",
    "    X_tuning_scan[:,scan_dim] = ls\n",
    "    X_meas = torch.linspace(-3,3,11)\n",
    "\n",
    "    emits_sq = post_mean_emit_squared_thick_quad(\n",
    "        model=beam_size_model_y,\n",
    "        scale_factor=-1*optimizer.generator.algorithm.scale_factor,\n",
    "        q_len=optimizer.generator.algorithm.q_len,\n",
    "        distance=optimizer.generator.algorithm.distance,\n",
    "        x_tuning=X_tuning_scan.cpu(),\n",
    "        meas_dim=meas_dim,\n",
    "        x_meas=X_meas.cpu(),\n",
    "    )[0]\n",
    "    \n",
    "    ax = axs[scan_dim]\n",
    "    \n",
    "#     ax.plot(ls.cpu(), (toy_emit_nd(ls.reshape(-1,1))**2).cpu(), c='k', label='Ground truth') #this ground truth isn't exactly the matching cross-section but it should be close\n",
    "\n",
    "    ax.plot(ls.cpu(), emits_sq.detach().cpu().sqrt()*1.e-6, label='Sample ' + str(sid))\n",
    "    ax.axvline(X_tuned[0,scan_dim].cpu(), c='r', label='Sample optimization result')\n",
    "    ax.axhline(0, c='k', ls='--', label='physical cutoff')\n",
    "    \n",
    "    ax.set_xlabel('tuning param ' + str(scan_dim))\n",
    "    \n",
    "    if scan_dim == 0:\n",
    "        ax.set_ylabel('\"$\\epsilon$\"')\n",
    "        ax.legend()\n",
    "    \n",
    "plt.tight_layout()\n",
    "plt.show()"
   ]
  },
  {
   "cell_type": "code",
   "execution_count": 37,
   "id": "e8d4a56d",
   "metadata": {},
   "outputs": [
    {
     "data": {
      "text/plain": [
       "(tensor([[37.1184]]),\n",
       " tensor([[10.4638]]),\n",
       " tensor([[[23.6403],\n",
       "          [ 0.9856],\n",
       "          [58.3219]]]),\n",
       " tensor([True]))"
      ]
     },
     "execution_count": 37,
     "metadata": {},
     "output_type": "execute_result"
    }
   ],
   "source": [
    "from emitopt.utils import compute_emit_bmag_thick_quad\n",
    "k = torch.tensor([ 40., -10., -60.])\n",
    "y_batch = torch.tensor([[1777.4973,  680.4423, 8194.3948]])\n",
    "compute_emit_bmag_thick_quad(k, y_batch, q_len, distance)"
   ]
  },
  {
   "cell_type": "code",
   "execution_count": 23,
   "id": "f09e216a",
   "metadata": {},
   "outputs": [
    {
     "data": {
      "text/plain": [
       "tensor([[ 1.0000,  1.0000],\n",
       "        [ 1.0000, -3.0000],\n",
       "        [-0.2361,  0.3363],\n",
       "        [-0.1264, -0.1065],\n",
       "        [ 0.0420, -0.2993],\n",
       "        [-0.2420, -0.4340],\n",
       "        [-3.0000,  1.0000],\n",
       "        [ 0.6247,  0.4942],\n",
       "        [ 0.0353,  0.2425],\n",
       "        [ 0.5291,  1.0000]])"
      ]
     },
     "execution_count": 23,
     "metadata": {},
     "output_type": "execute_result"
    }
   ],
   "source": [
    "optimizer.generator.algorithm_results['x_stars']"
   ]
  },
  {
   "cell_type": "code",
   "execution_count": null,
   "id": "17f09698",
   "metadata": {},
   "outputs": [],
   "source": [
    "from emitopt.utils import plot_model_cross_section"
   ]
  },
  {
   "cell_type": "code",
   "execution_count": null,
   "id": "03bc07ae",
   "metadata": {},
   "outputs": [],
   "source": [
    "scan_dict = {'x0':[-3.0, 1.0], 'x1': [-40.0, 40.0], 'x2': 1., 'x3': 0.}\n",
    "plot_model_cross_section(beam_size_model, vocs, scan_dict, nx=50, ny=15)"
   ]
  },
  {
   "cell_type": "code",
   "execution_count": null,
   "id": "ee61d331",
   "metadata": {},
   "outputs": [],
   "source": []
  }
 ],
 "metadata": {
  "kernelspec": {
   "display_name": "Python 3 (ipykernel)",
   "language": "python",
   "name": "python3"
  },
  "language_info": {
   "codemirror_mode": {
    "name": "ipython",
    "version": 3
   },
   "file_extension": ".py",
   "mimetype": "text/x-python",
   "name": "python",
   "nbconvert_exporter": "python",
   "pygments_lexer": "ipython3",
   "version": "3.9.16"
  }
 },
 "nbformat": 4,
 "nbformat_minor": 5
}
