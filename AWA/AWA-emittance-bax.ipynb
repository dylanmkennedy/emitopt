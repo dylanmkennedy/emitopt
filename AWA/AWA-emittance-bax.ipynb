{
 "cells": [
  {
   "cell_type": "markdown",
   "id": "90ac8fe9",
   "metadata": {},
   "source": [
    "# Emittance Optimization with BAX (Differential evolution)"
   ]
  },
  {
   "cell_type": "markdown",
   "id": "7a2666c7",
   "metadata": {},
   "source": [
    "# Imports"
   ]
  },
  {
   "cell_type": "markdown",
   "id": "50b180fa-de34-4f02-b860-9b3b034e67a1",
   "metadata": {},
   "source": [
    "BEFORE RUNNING, NEED TO:\n",
    "- replace variables with emittance variables\n",
    "- define meas_dim\n",
    "- define scale factor\n",
    "- verify image constraints/screen parameters"
   ]
  },
  {
   "cell_type": "code",
   "execution_count": 1,
   "id": "9e567aad-bca7-4968-a1ef-79c584bf8fb1",
   "metadata": {},
   "outputs": [
    {
     "ename": "ModuleNotFoundError",
     "evalue": "No module named 'AWAControl'",
     "output_type": "error",
     "traceback": [
      "\u001b[1;31m---------------------------------------------------------------------------\u001b[0m",
      "\u001b[1;31mModuleNotFoundError\u001b[0m                       Traceback (most recent call last)",
      "Cell \u001b[1;32mIn[1], line 2\u001b[0m\n\u001b[0;32m      1\u001b[0m \u001b[38;5;28;01mimport\u001b[39;00m \u001b[38;5;21;01msys\u001b[39;00m\n\u001b[1;32m----> 2\u001b[0m \u001b[38;5;28;01mfrom\u001b[39;00m \u001b[38;5;21;01mAWAControl\u001b[39;00m\u001b[38;5;21;01m.\u001b[39;00m\u001b[38;5;21;01mbadger\u001b[39;00m\u001b[38;5;21;01m.\u001b[39;00m\u001b[38;5;21;01menvironments\u001b[39;00m\u001b[38;5;21;01m.\u001b[39;00m\u001b[38;5;21;01mawa\u001b[39;00m \u001b[38;5;28;01mimport\u001b[39;00m Environment\n\u001b[0;32m      3\u001b[0m awa_env \u001b[38;5;241m=\u001b[39m Environment()\n\u001b[0;32m      4\u001b[0m awa_env\u001b[38;5;241m.\u001b[39mscreen_name \u001b[38;5;241m=\u001b[39m \u001b[38;5;124m\"\u001b[39m\u001b[38;5;124mDYG5\u001b[39m\u001b[38;5;124m\"\u001b[39m\n",
      "\u001b[1;31mModuleNotFoundError\u001b[0m: No module named 'AWAControl'"
     ]
    }
   ],
   "source": [
    "import sys\n",
    "from AWAControl.badger.environments.awa import Environment\n",
    "awa_env = Environment()\n",
    "awa_env.screen_name = \"DYG5\"\n",
    "awa_env.image_diagnostic.apply_bounding_box_constraint = False "
   ]
  },
  {
   "cell_type": "code",
   "execution_count": null,
   "id": "a494f63f-b4cf-49e9-9a9e-ea52dea6473a",
   "metadata": {},
   "outputs": [],
   "source": [
    "from epics import caput, caget\n",
    "from xopt import Evaluator\n",
    "import time\n",
    "import numpy as np\n",
    "\n",
    "def evaluate_function(inputs: dict) -> dict:\n",
    "    # caput valueslog_transform_acquisition_function\n",
    "    awa_env.set_variables(inputs)\n",
    "\n",
    "    # wait for changes to occur - use small wait time for interpolated measurements\n",
    "    time.sleep(1)\n",
    "\n",
    "    results = awa_env.get_observables([\"total_size\"])\n",
    "    results['Sx_sq'] = results[\"Sx\"]**2\n",
    "    results['Sy_sq'] = results[\"Sy\"]**2\n",
    "    return results\n",
    "\n",
    "evaluator = Evaluator(function=evaluate_function)"
   ]
  },
  {
   "cell_type": "code",
   "execution_count": null,
   "id": "42c315f6-dfd3-460c-8710-eab16d64ae36",
   "metadata": {},
   "outputs": [],
   "source": [
    "# test beam measurement\n",
    "evaluator.evaluate({\"DQ4\":0.0,\"DQ5\":0.0,\"DQ6\":0.0,\"DT8H\":0.0,\"DT9H\":0.0,\"DT8V\":0.0,\"DT9V\":0.0})"
   ]
  },
  {
   "cell_type": "markdown",
   "id": "25d2c09a",
   "metadata": {},
   "source": [
    "# Construct vocs"
   ]
  },
  {
   "cell_type": "code",
   "execution_count": null,
   "id": "6dfbf20e",
   "metadata": {
    "tags": []
   },
   "outputs": [],
   "source": [
    "from xopt import VOCS\n",
    "from xopt import Xopt\n",
    "\n",
    "from gpytorch.kernels import MaternKernel, PolynomialKernel, ScaleKernel\n",
    "from xopt.generators.bayesian.models.standard import StandardModelConstructor\n",
    "from gpytorch.priors.torch_priors import GammaPrior\n",
    "from xopt.generators.bayesian.bax_generator import BaxGenerator\n",
    "from xopt.generators.bayesian.bayesian_exploration import BayesianExplorationGenerator\n",
    "from copy import deepcopy\n",
    "import pandas as pd\n",
    "import numpy as np\n",
    "\n",
    "IMAGE_CONSTRAINTS = {\n",
    "                \"log10_total_intensity\": [\"GREATER_THAN\", 6.5]\n",
    "            }\n",
    "\n",
    "vocs = VOCS(\n",
    "    variables = {\n",
    "        \"DQ4\":[-0.75,0.75],\n",
    "        \"DQ6\":[-0.75,0.75],\n",
    "        \"DT8V\":[-3.1,3.1],\n",
    "        \"DT9V\":[-3.1,3.1] \n",
    "    },\n",
    "    constraints = IMAGE_CONSTRAINTS,\n",
    "    observables = [\"Sx_sq\", \"Sy_sq\"],\n",
    ")\n",
    "\n",
    "meas_dim = 0"
   ]
  },
  {
   "cell_type": "markdown",
   "id": "e4651f47",
   "metadata": {},
   "source": [
    "# Prepare generator options.\n",
    "In this example, we use a specialty covariance module (Matern x Quadratic kernel) for our beam size model."
   ]
  },
  {
   "cell_type": "code",
   "execution_count": null,
   "id": "02894212",
   "metadata": {},
   "outputs": [],
   "source": [
    "from gpytorch.kernels import MaternKernel, PolynomialKernel, ScaleKernel\n",
    "from gpytorch.priors.torch_priors import GammaPrior\n",
    "\n",
    "from xopt.generators.bayesian.models.standard import StandardModelConstructor\n",
    "from xopt.generators.bayesian.bax_generator import BaxGenerator\n",
    "\n",
    "# prepare custom covariance module\n",
    "tuning_dims = list(range(vocs.n_variables))\n",
    "tuning_dims.remove(meas_dim)\n",
    "covar_module_x = (MaternKernel(ard_num_dims=len(tuning_dims), \n",
    "                              active_dims=tuning_dims, \n",
    "                              lengthscale_prior=None) * \n",
    "                              PolynomialKernel(power=2, active_dims=[meas_dim])\n",
    "                 )\n",
    "\n",
    "scaled_covar_module_x = ScaleKernel(covar_module_x)\n",
    "covar_module_y = (MaternKernel(ard_num_dims=len(tuning_dims), \n",
    "                              active_dims=tuning_dims, \n",
    "                              lengthscale_prior=None) * \n",
    "                              PolynomialKernel(power=2, active_dims=[meas_dim])\n",
    "                 )\n",
    "scaled_covar_module_y =  ScaleKernel(covar_module_y)\n",
    "\n",
    "# prepare options for Xopt generator\n",
    "covar_module_dict = {'Sx_sq': scaled_covar_module_x,\n",
    "                     'Sy_sq': scaled_covar_module_y}\n",
    "\n",
    "model_constructor = StandardModelConstructor(covar_modules=covar_module_dict, use_low_noise_prior=True)"
   ]
  },
  {
   "cell_type": "code",
   "execution_count": null,
   "id": "724571ae",
   "metadata": {},
   "outputs": [],
   "source": [
    "from xopt.numerical_optimizer import LBFGSOptimizer, GridOptimizer\n",
    "numerical_optimizer = LBFGSOptimizer(\n",
    "                                    n_restarts=20,\n",
    "                                    max_time=2)\n",
    "# numerical_optimizer = GridOptimizer()"
   ]
  },
  {
   "cell_type": "markdown",
   "id": "bd586df8",
   "metadata": {},
   "source": [
    "# Construct generator, evaluator, Xopt objects"
   ]
  },
  {
   "cell_type": "code",
   "execution_count": null,
   "id": "7623bc33",
   "metadata": {
    "tags": []
   },
   "outputs": [],
   "source": [
    "from emitopt.algorithms import DifferentialEvolutionEmitBmag\n",
    "\n",
    "#Prepare Algorithm\n",
    "algo_kwargs = {\n",
    "        'x_key': 'Sx_sq',\n",
    "        'y_key': 'Sy_sq',\n",
    "        'scale_factor': .00893,\n",
    "        'q_len': 0.12,\n",
    "        'rmat_x': torch.tensor([[1., 2.06],\n",
    "                                [0, 1.]]),\n",
    "        'rmat_y': torch.tensor([[1., 2.06],\n",
    "                                [0, 1.]]),\n",
    "        'n_samples': 10,\n",
    "        'meas_dim': meas_dim,\n",
    "        'n_steps_measurement_param': 7,\n",
    "        'thick_quad': True,\n",
    "        'use_bmag': False,\n",
    "}\n",
    "algo = DifferentialEvolutionEmitBmag(**algo_kwargs)\n",
    "\n",
    "#construct BAX generator\n",
    "generator = BaxGenerator(vocs=vocs, \n",
    "                         gp_constructor=model_constructor, \n",
    "                         numerical_optimizer=numerical_optimizer,\n",
    "                         algorithm=algo,\n",
    "                         n_interpolate_points=5)\n",
    "\n",
    "#construct evaluator\n",
    "evaluator = Evaluator(function=measure_beamsize)\n",
    "\n",
    "#construct Xopt optimizer\n",
    "optimizer = Xopt(evaluator=evaluator, generator=generator, vocs=vocs)"
   ]
  },
  {
   "cell_type": "markdown",
   "id": "fae84fc5",
   "metadata": {},
   "source": [
    "# Optimize"
   ]
  },
  {
   "cell_type": "code",
   "execution_count": null,
   "id": "3553f6f5",
   "metadata": {},
   "outputs": [],
   "source": [
    "# call X.random_evaluate() to generate random initial points and evaluate on test_func\n",
    "optimizer.random_evaluate(5)"
   ]
  },
  {
   "cell_type": "code",
   "execution_count": null,
   "id": "a5f999a8-0b0c-4802-bcbd-c096d45a2765",
   "metadata": {
    "tags": []
   },
   "outputs": [],
   "source": [
    "from xopt.generators.bayesian.visualize import visualize_generator_model\n",
    "optimizer.generator.train_model()\n",
    "visualize_generator_model(optimizer.generator, \n",
    "                          variable_names=['x0','x1'], \n",
    "                            reference_point={'x0':torch.tensor([0.]),\n",
    "                                             'x1':torch.tensor([0.]),\n",
    "                                            'x2':torch.tensor([0.]),\n",
    "                                             'x3':torch.tensor([0.]),\n",
    "                                            },\n",
    "                          show_acquisition=False)\n",
    "visualize_generator_model(optimizer.generator, \n",
    "                          variable_names=['x1'], \n",
    "                            reference_point={'x0':torch.tensor([0.]),\n",
    "                                             'x1':torch.tensor([0.]),\n",
    "                                            'x2':torch.tensor([0.]),\n",
    "                                             'x3':torch.tensor([0.]),\n",
    "                                            },\n",
    "                          show_acquisition=False)"
   ]
  },
  {
   "cell_type": "code",
   "execution_count": null,
   "id": "8b271a99-63e1-41b8-be6b-bf4eebbd2a92",
   "metadata": {},
   "outputs": [],
   "source": [
    "for i in range(10):\n",
    "    print(i)\n",
    "    start = time.time()\n",
    "    optimizer.step()\n",
    "    print(time.time() - start)"
   ]
  },
  {
   "cell_type": "code",
   "execution_count": null,
   "id": "b54021eb-d483-437f-adc5-92559b332336",
   "metadata": {
    "scrolled": true
   },
   "outputs": [],
   "source": [
    "from xopt.generators.bayesian.bax.visualize import visualize_virtual_objective\n",
    "model = optimizer.generator.train_model()\n",
    "\n",
    "# for i in range(10):\n",
    "fig, ax = visualize_virtual_objective(optimizer.generator, \n",
    "                            variable_names=['x0'],\n",
    "                            reference_point={'x0':torch.tensor([0.]),\n",
    "                                             'x1':torch.tensor([0.]),\n",
    "                                            'x2':torch.tensor([0.]),\n",
    "                                             'x3':torch.tensor([0.]),\n",
    "                                            },\n",
    "                            n_grid=100,\n",
    "                            n_samples=100,\n",
    "                            # show_samples=True,\n",
    "                            kwargs={'use_bmag':False},\n",
    "                                     )"
   ]
  },
  {
   "cell_type": "code",
   "execution_count": null,
   "id": "a2472856-ba66-4813-9516-222dbf1afe08",
   "metadata": {},
   "outputs": [],
   "source": []
  },
  {
   "cell_type": "code",
   "execution_count": null,
   "id": "4a93bb05-5c4b-478d-8160-9228d4e95f01",
   "metadata": {},
   "outputs": [],
   "source": []
  },
  {
   "cell_type": "code",
   "execution_count": null,
   "id": "8db832ec-a789-4be8-9388-ec00e18becf5",
   "metadata": {},
   "outputs": [],
   "source": []
  },
  {
   "cell_type": "code",
   "execution_count": null,
   "id": "ddc501f5-5a03-47af-844e-3c08b429c4fa",
   "metadata": {},
   "outputs": [],
   "source": []
  }
 ],
 "metadata": {
  "kernelspec": {
   "display_name": "Python 3 (ipykernel)",
   "language": "python",
   "name": "python3"
  },
  "language_info": {
   "codemirror_mode": {
    "name": "ipython",
    "version": 3
   },
   "file_extension": ".py",
   "mimetype": "text/x-python",
   "name": "python",
   "nbconvert_exporter": "python",
   "pygments_lexer": "ipython3",
   "version": "3.12.4"
  }
 },
 "nbformat": 4,
 "nbformat_minor": 5
}
